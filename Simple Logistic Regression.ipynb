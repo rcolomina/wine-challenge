{
 "cells": [
  {
   "cell_type": "markdown",
   "metadata": {},
   "source": [
    "In this notebook we optimize the parameters of a simple Logistic Regression classifier."
   ]
  },
  {
   "cell_type": "code",
   "execution_count": 332,
   "metadata": {
    "collapsed": true
   },
   "outputs": [],
   "source": [
    "import pandas as pd\n",
    "import numpy as np\n",
    "import matplotlib.pyplot as plt\n",
    "import seaborn as sns\n",
    "from itertools import combinations_with_replacement\n",
    "from functools import reduce\n",
    "from sklearn.cross_decomposition import PLSRegression\n",
    "from sklearn.linear_model import LogisticRegression\n",
    "from sklearn.metrics import mean_absolute_error, accuracy_score, confusion_matrix"
   ]
  },
  {
   "cell_type": "markdown",
   "metadata": {},
   "source": [
    "# Red Wine"
   ]
  },
  {
   "cell_type": "code",
   "execution_count": 333,
   "metadata": {
    "collapsed": true
   },
   "outputs": [],
   "source": [
    "# parameters for feature generation\n",
    "degree = 4\n",
    "n_components = 30\n",
    "scale = False\n",
    "# parameters for training\n",
    "penalty = 'l2'               # 'l1' or 'l2'\n",
    "C = .1                      # any C>=0\n",
    "class_weight = None          # 'balanced' or 'None'\n",
    "max_iter = 10000              # default is 100\n",
    "solver = 'sag'               # 'newton-cg', 'lbfgs', 'sag' or 'liblinear'\n",
    "multi_class = 'multinomial'  # 'multinomial' or 'ovr'"
   ]
  },
  {
   "cell_type": "code",
   "execution_count": 334,
   "metadata": {
    "collapsed": false
   },
   "outputs": [],
   "source": [
    "data = pd.read_csv(\"data/red_normal.csv\")\n",
    "#data = pd.read_csv(\"data/red_data.csv\")\n",
    "#data = pd.read_csv(\"data/winequality-red.csv\", sep=\";\")\n",
    "train_index = data.sample(frac=0.8).sort_index().index\n",
    "test_index = ~data.index.isin(train_index)"
   ]
  },
  {
   "cell_type": "code",
   "execution_count": 335,
   "metadata": {
    "collapsed": false
   },
   "outputs": [],
   "source": [
    "X, y = data.ix[:,:-1], data[\"quality\"]"
   ]
  },
  {
   "cell_type": "code",
   "execution_count": 336,
   "metadata": {
    "collapsed": false
   },
   "outputs": [],
   "source": [
    "if True:\n",
    "    old_features = [name for name in X.columns if not 'type' in name]\n",
    "    for combination in combinations_with_replacement(old_features, degree):\n",
    "        temp = reduce(lambda x, y: x*y, map(lambda x: X[x], combination))\n",
    "        X.insert(X.shape[1]-1, '*'.join(combination), temp)   \n",
    "if True:\n",
    "    X = (X - X.mean())/X.std()\n",
    "if True:\n",
    "    pls = PLSRegression(n_components=n_components, scale=scale)\n",
    "    pls.fit(X, y)\n",
    "    X = pd.DataFrame(pls.transform(X))"
   ]
  },
  {
   "cell_type": "code",
   "execution_count": 339,
   "metadata": {
    "collapsed": false
   },
   "outputs": [
    {
     "name": "stdout",
     "output_type": "stream",
     "text": [
      "0.290625\n",
      "0.71875\n"
     ]
    },
    {
     "data": {
      "text/plain": [
       "array([[  0,   4,   1,   0,   0,   0],\n",
       "       [  0,   2,   7,   0,   0,   0],\n",
       "       [  0,   0, 104,  21,   0,   0],\n",
       "       [  0,   0,  28,  99,   3,   0],\n",
       "       [  0,   0,   1,  18,  25,   0],\n",
       "       [  0,   0,   0,   1,   6,   0]])"
      ]
     },
     "execution_count": 339,
     "metadata": {},
     "output_type": "execute_result"
    }
   ],
   "source": [
    "clf = LogisticRegression(penalty=penalty, \n",
    "                   C=C,\n",
    "                   class_weight=class_weight,\n",
    "                   max_iter=max_iter,\n",
    "                   solver=solver,\n",
    "                   multi_class=multi_class)\n",
    "clf.fit(X.loc[train_index], y.loc[train_index])\n",
    "y_pred = clf.predict(X.loc[test_index])\n",
    "print(mean_absolute_error(y.loc[test_index], y_pred))\n",
    "print(accuracy_score(y.loc[test_index], y_pred))\n",
    "confusion_matrix(y.loc[test_index], y_pred)"
   ]
  },
  {
   "cell_type": "markdown",
   "metadata": {},
   "source": [
    "## White wine"
   ]
  },
  {
   "cell_type": "code",
   "execution_count": 340,
   "metadata": {
    "collapsed": true
   },
   "outputs": [],
   "source": [
    "# parameters for feature generation\n",
    "degree = 4\n",
    "n_components = 30\n",
    "scale = False\n",
    "# parameters for training\n",
    "penalty = 'l2'               # 'l1' or 'l2'\n",
    "C = .1                      # any C>=0\n",
    "class_weight = None          # 'balanced' or 'None'\n",
    "max_iter = 10000              # default is 100\n",
    "solver = 'sag'               # 'newton-cg', 'lbfgs', 'sag' or 'liblinear'\n",
    "multi_class = 'multinomial'  # 'multinomial' or 'ovr'"
   ]
  },
  {
   "cell_type": "code",
   "execution_count": 341,
   "metadata": {
    "collapsed": true
   },
   "outputs": [],
   "source": [
    "data = pd.read_csv(\"data/white_normal.csv\")\n",
    "#data = pd.read_csv(\"data/white_data.csv\")\n",
    "train_index = data.sample(frac=0.8).sort_index().index\n",
    "test_index = ~data.index.isin(train_index)"
   ]
  },
  {
   "cell_type": "code",
   "execution_count": 342,
   "metadata": {
    "collapsed": true
   },
   "outputs": [],
   "source": [
    "X, y = data.ix[:,:-1], data[\"quality\"]"
   ]
  },
  {
   "cell_type": "code",
   "execution_count": 343,
   "metadata": {
    "collapsed": true
   },
   "outputs": [],
   "source": [
    "if True:\n",
    "    old_features = [name for name in X.columns if not 'type' in name]\n",
    "    for combination in combinations_with_replacement(old_features, degree):\n",
    "        temp = reduce(lambda x, y: x*y, map(lambda x: X[x], combination))\n",
    "        X.insert(X.shape[1]-1, '*'.join(combination), temp)       \n",
    "if True:\n",
    "    X = (X - X.mean())/X.std()\n",
    "if True:\n",
    "    pls = PLSRegression(n_components=n_components, scale=scale)\n",
    "    pls.fit(X, y)\n",
    "    X = pd.DataFrame(pls.transform(X))"
   ]
  },
  {
   "cell_type": "code",
   "execution_count": 344,
   "metadata": {
    "collapsed": false
   },
   "outputs": [
    {
     "name": "stdout",
     "output_type": "stream",
     "text": [
      "0.442857142857\n",
      "0.587755102041\n"
     ]
    },
    {
     "data": {
      "text/plain": [
       "array([[  0,   2,   1,   0,   0,   0,   0],\n",
       "       [  1,   6,  24,   6,   0,   0,   0],\n",
       "       [  1,   3, 184,  97,   2,   0,   0],\n",
       "       [  0,   1,  79, 324,  41,   0,   0],\n",
       "       [  0,   0,   1, 109,  61,   0,   0],\n",
       "       [  0,   0,   1,  12,  20,   1,   0],\n",
       "       [  0,   0,   0,   1,   2,   0,   0]])"
      ]
     },
     "execution_count": 344,
     "metadata": {},
     "output_type": "execute_result"
    }
   ],
   "source": [
    "clf = LogisticRegression(penalty=penalty, \n",
    "                   C=C,\n",
    "                   class_weight=class_weight,\n",
    "                   max_iter=max_iter,\n",
    "                   solver=solver,\n",
    "                   multi_class=multi_class)\n",
    "clf.fit(X.loc[train_index], y.loc[train_index])\n",
    "y_pred = clf.predict(X.loc[test_index])\n",
    "print(mean_absolute_error(y.loc[test_index], y_pred))\n",
    "print(accuracy_score(y.loc[test_index], y_pred))\n",
    "confusion_matrix(y.loc[test_index], y_pred)"
   ]
  },
  {
   "cell_type": "markdown",
   "metadata": {},
   "source": [
    "## All Wines"
   ]
  },
  {
   "cell_type": "code",
   "execution_count": 345,
   "metadata": {
    "collapsed": true
   },
   "outputs": [],
   "source": [
    "# parameters for feature generation\n",
    "degree = 4\n",
    "n_components = 30\n",
    "scale = False\n",
    "# parameters for training\n",
    "penalty = 'l2'               # 'l1' or 'l2'\n",
    "C = .1                      # any C>=0\n",
    "class_weight = None          # 'balanced' or 'None'\n",
    "max_iter = 10000              # default is 100\n",
    "solver = 'sag'               # 'newton-cg', 'lbfgs', 'sag' or 'liblinear'\n",
    "multi_class = 'multinomial'  # 'multinomial' or 'ovr'"
   ]
  },
  {
   "cell_type": "code",
   "execution_count": 346,
   "metadata": {
    "collapsed": true
   },
   "outputs": [],
   "source": [
    "data = pd.read_csv(\"data/wine_normal.csv\")\n",
    "#data = pd.read_csv(\"data/wine_data.csv\")\n",
    "train_index = data.sample(frac=0.8).sort_index().index\n",
    "test_index = ~data.index.isin(train_index)"
   ]
  },
  {
   "cell_type": "code",
   "execution_count": 347,
   "metadata": {
    "collapsed": true
   },
   "outputs": [],
   "source": [
    "X, y = data.ix[:,:-1], data[\"quality\"]"
   ]
  },
  {
   "cell_type": "code",
   "execution_count": 348,
   "metadata": {
    "collapsed": true
   },
   "outputs": [],
   "source": [
    "if True:\n",
    "    old_features = [name for name in X.columns if not 'type' in name]\n",
    "    for combination in combinations_with_replacement(old_features, degree):\n",
    "        temp = reduce(lambda x, y: x*y, map(lambda x: X[x], combination))\n",
    "        X.insert(X.shape[1]-1, '*'.join(combination), temp)       \n",
    "if True:\n",
    "    X = (X - X.mean())/X.std()\n",
    "if True:\n",
    "    pls = PLSRegression(n_components=n_components, scale=scale)\n",
    "    pls.fit(X, y)\n",
    "    X = pd.DataFrame(pls.transform(X))"
   ]
  },
  {
   "cell_type": "code",
   "execution_count": 349,
   "metadata": {
    "collapsed": false
   },
   "outputs": [
    {
     "name": "stdout",
     "output_type": "stream",
     "text": [
      "0.411855273287\n",
      "0.608160123172\n"
     ]
    },
    {
     "data": {
      "text/plain": [
       "array([[  1,   3,   1,   1,   0,   0,   0],\n",
       "       [  1,   7,  32,   7,   0,   0,   0],\n",
       "       [  0,   5, 296, 122,   3,   0,   0],\n",
       "       [  0,   0, 126, 413,  37,   1,   0],\n",
       "       [  0,   0,   5, 134,  71,   1,   0],\n",
       "       [  0,   0,   0,   7,  22,   2,   0],\n",
       "       [  0,   0,   0,   0,   0,   1,   0]])"
      ]
     },
     "execution_count": 349,
     "metadata": {},
     "output_type": "execute_result"
    }
   ],
   "source": [
    "clf = LogisticRegression(penalty=penalty, \n",
    "                   C=C,\n",
    "                   class_weight=class_weight,\n",
    "                   max_iter=max_iter,\n",
    "                   solver=solver,\n",
    "                   multi_class=multi_class)\n",
    "clf.fit(X.loc[train_index], y.loc[train_index])\n",
    "y_pred = clf.predict(X.loc[test_index])\n",
    "print(mean_absolute_error(y.loc[test_index], y_pred))\n",
    "print(accuracy_score(y.loc[test_index], y_pred))\n",
    "confusion_matrix(y.loc[test_index], y_pred)"
   ]
  }
 ],
 "metadata": {
  "kernelspec": {
   "display_name": "Python 3",
   "language": "python",
   "name": "python3"
  },
  "language_info": {
   "codemirror_mode": {
    "name": "ipython",
    "version": 3
   },
   "file_extension": ".py",
   "mimetype": "text/x-python",
   "name": "python",
   "nbconvert_exporter": "python",
   "pygments_lexer": "ipython3",
   "version": "3.6.0"
  }
 },
 "nbformat": 4,
 "nbformat_minor": 2
}
