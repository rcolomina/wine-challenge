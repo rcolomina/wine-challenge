{
 "cells": [
  {
   "cell_type": "markdown",
   "metadata": {},
   "source": [
    "# Group by score\n",
    "\n",
    "One vs All with resampling."
   ]
  },
  {
   "cell_type": "code",
   "execution_count": 1,
   "metadata": {
    "collapsed": true
   },
   "outputs": [],
   "source": [
    "import pandas as pd\n",
    "import numpy as np\n",
    "import matplotlib.pyplot as plt\n",
    "import seaborn as sns"
   ]
  },
  {
   "cell_type": "code",
   "execution_count": 2,
   "metadata": {
    "collapsed": true
   },
   "outputs": [],
   "source": [
    "from sklearn.model_selection import train_test_split\n",
    "from sklearn.metrics import mean_absolute_error, accuracy_score, confusion_matrix"
   ]
  },
  {
   "cell_type": "code",
   "execution_count": 3,
   "metadata": {
    "collapsed": true
   },
   "outputs": [],
   "source": [
    "#data = pd.read_csv('data/red_normal.csv')\n",
    "#data = pd.read_csv('data/red_data.csv')\n",
    "#data = pd.read_csv('data/white_normal.csv')\n",
    "#data = pd.read_csv('data/white_data.csv')\n",
    "data = pd.read_csv('data/wine_normal.csv')\n",
    "#data = pd.read_csv('data/wine_data.csv')"
   ]
  },
  {
   "cell_type": "code",
   "execution_count": 4,
   "metadata": {
    "collapsed": false
   },
   "outputs": [
    {
     "data": {
      "text/html": [
       "<div>\n",
       "<table border=\"1\" class=\"dataframe\">\n",
       "  <thead>\n",
       "    <tr style=\"text-align: right;\">\n",
       "      <th></th>\n",
       "      <th>fixed_acidity</th>\n",
       "      <th>volatile_acidity</th>\n",
       "      <th>citric</th>\n",
       "      <th>sugar</th>\n",
       "      <th>chlorides</th>\n",
       "      <th>free_SD</th>\n",
       "      <th>total_SD</th>\n",
       "      <th>density</th>\n",
       "      <th>pH</th>\n",
       "      <th>sulphates</th>\n",
       "      <th>alcohol</th>\n",
       "      <th>type_red</th>\n",
       "      <th>quality</th>\n",
       "    </tr>\n",
       "  </thead>\n",
       "  <tbody>\n",
       "    <tr>\n",
       "      <th>0</th>\n",
       "      <td>-1.564967</td>\n",
       "      <td>-2.115822</td>\n",
       "      <td>-0.613053</td>\n",
       "      <td>-0.412341</td>\n",
       "      <td>-0.381414</td>\n",
       "      <td>-1.025732</td>\n",
       "      <td>-0.973236</td>\n",
       "      <td>0.248294</td>\n",
       "      <td>1.137303</td>\n",
       "      <td>-0.261526</td>\n",
       "      <td>-1.067971</td>\n",
       "      <td>0</td>\n",
       "      <td>5</td>\n",
       "    </tr>\n",
       "    <tr>\n",
       "      <th>1</th>\n",
       "      <td>-0.987675</td>\n",
       "      <td>1.452634</td>\n",
       "      <td>-1.288368</td>\n",
       "      <td>0.404591</td>\n",
       "      <td>-0.391592</td>\n",
       "      <td>0.402953</td>\n",
       "      <td>-0.159545</td>\n",
       "      <td>-0.660550</td>\n",
       "      <td>1.741648</td>\n",
       "      <td>1.367797</td>\n",
       "      <td>1.761353</td>\n",
       "      <td>1</td>\n",
       "      <td>7</td>\n",
       "    </tr>\n",
       "    <tr>\n",
       "      <th>2</th>\n",
       "      <td>-0.772730</td>\n",
       "      <td>1.646757</td>\n",
       "      <td>-0.613053</td>\n",
       "      <td>-0.392625</td>\n",
       "      <td>1.147534</td>\n",
       "      <td>1.335430</td>\n",
       "      <td>1.591586</td>\n",
       "      <td>-0.009153</td>\n",
       "      <td>0.541278</td>\n",
       "      <td>0.264209</td>\n",
       "      <td>-0.580412</td>\n",
       "      <td>0</td>\n",
       "      <td>4</td>\n",
       "    </tr>\n",
       "    <tr>\n",
       "      <th>3</th>\n",
       "      <td>-0.645329</td>\n",
       "      <td>-0.550403</td>\n",
       "      <td>-0.282528</td>\n",
       "      <td>-0.865805</td>\n",
       "      <td>0.433714</td>\n",
       "      <td>-0.578715</td>\n",
       "      <td>-0.432035</td>\n",
       "      <td>-0.664473</td>\n",
       "      <td>0.342604</td>\n",
       "      <td>-0.173903</td>\n",
       "      <td>-0.092853</td>\n",
       "      <td>0</td>\n",
       "      <td>6</td>\n",
       "    </tr>\n",
       "    <tr>\n",
       "      <th>4</th>\n",
       "      <td>-0.298454</td>\n",
       "      <td>-0.583142</td>\n",
       "      <td>2.099702</td>\n",
       "      <td>-0.898276</td>\n",
       "      <td>5.590264</td>\n",
       "      <td>0.489629</td>\n",
       "      <td>0.899821</td>\n",
       "      <td>0.293176</td>\n",
       "      <td>-1.496978</td>\n",
       "      <td>3.845571</td>\n",
       "      <td>-1.053784</td>\n",
       "      <td>1</td>\n",
       "      <td>5</td>\n",
       "    </tr>\n",
       "  </tbody>\n",
       "</table>\n",
       "</div>"
      ],
      "text/plain": [
       "   fixed_acidity  volatile_acidity    citric     sugar  chlorides   free_SD  \\\n",
       "0      -1.564967         -2.115822 -0.613053 -0.412341  -0.381414 -1.025732   \n",
       "1      -0.987675          1.452634 -1.288368  0.404591  -0.391592  0.402953   \n",
       "2      -0.772730          1.646757 -0.613053 -0.392625   1.147534  1.335430   \n",
       "3      -0.645329         -0.550403 -0.282528 -0.865805   0.433714 -0.578715   \n",
       "4      -0.298454         -0.583142  2.099702 -0.898276   5.590264  0.489629   \n",
       "\n",
       "   total_SD   density        pH  sulphates   alcohol  type_red  quality  \n",
       "0 -0.973236  0.248294  1.137303  -0.261526 -1.067971         0        5  \n",
       "1 -0.159545 -0.660550  1.741648   1.367797  1.761353         1        7  \n",
       "2  1.591586 -0.009153  0.541278   0.264209 -0.580412         0        4  \n",
       "3 -0.432035 -0.664473  0.342604  -0.173903 -0.092853         0        6  \n",
       "4  0.899821  0.293176 -1.496978   3.845571 -1.053784         1        5  "
      ]
     },
     "execution_count": 4,
     "metadata": {},
     "output_type": "execute_result"
    }
   ],
   "source": [
    "data.head()"
   ]
  },
  {
   "cell_type": "code",
   "execution_count": 5,
   "metadata": {
    "collapsed": false
   },
   "outputs": [
    {
     "data": {
      "text/plain": [
       "6    2836\n",
       "5    2138\n",
       "7    1079\n",
       "4     216\n",
       "8     193\n",
       "3      30\n",
       "9       5\n",
       "Name: quality, dtype: int64"
      ]
     },
     "execution_count": 5,
     "metadata": {},
     "output_type": "execute_result"
    }
   ],
   "source": [
    "data.quality.value_counts()"
   ]
  },
  {
   "cell_type": "code",
   "execution_count": 6,
   "metadata": {
    "collapsed": false
   },
   "outputs": [],
   "source": [
    "if False:\n",
    "    for name in (name for name in data.columns if name != \"quality\" and name != \"type_red\"):\n",
    "        sns.boxplot(x=\"quality\", y=name, hue=\"type_red\", data=data)\n",
    "        plt.show()\n",
    "    sns.boxplot(y=\"quality\", x=\"type_red\", data=data)\n",
    "    plt.show()"
   ]
  },
  {
   "cell_type": "code",
   "execution_count": 7,
   "metadata": {
    "collapsed": true
   },
   "outputs": [],
   "source": [
    "X, y = data.ix[:,:-1], data['quality']\n",
    "X_train, X_test, y_train, y_test = train_test_split(X, y, train_size=0.8)"
   ]
  },
  {
   "cell_type": "code",
   "execution_count": 8,
   "metadata": {
    "collapsed": true
   },
   "outputs": [],
   "source": [
    "from sklearn.linear_model import LogisticRegression"
   ]
  },
  {
   "cell_type": "code",
   "execution_count": 9,
   "metadata": {
    "collapsed": false
   },
   "outputs": [
    {
     "data": {
      "text/plain": [
       "[3, 4, 5, 6, 7, 8, 9]"
      ]
     },
     "execution_count": 9,
     "metadata": {},
     "output_type": "execute_result"
    }
   ],
   "source": [
    "qualities = sorted(data.quality.unique())\n",
    "qualities"
   ]
  },
  {
   "cell_type": "code",
   "execution_count": 10,
   "metadata": {
    "collapsed": false
   },
   "outputs": [
    {
     "data": {
      "image/png": "[encoded data removed]",
      "text/plain": [
       "<matplotlib.figure.Figure at 0x7fbc8a10ed68>"
      ]
     },
     "metadata": {},
     "output_type": "display_data"
    }
   ],
   "source": [
    "y_train.hist()\n",
    "plt.show()"
   ]
  },
  {
   "cell_type": "code",
   "execution_count": 11,
   "metadata": {
    "collapsed": false
   },
   "outputs": [
    {
     "data": {
      "text/plain": [
       "6    2267\n",
       "5    1700\n",
       "7     864\n",
       "4     177\n",
       "8     158\n",
       "3      27\n",
       "9       4\n",
       "Name: quality, dtype: int64"
      ]
     },
     "execution_count": 11,
     "metadata": {},
     "output_type": "execute_result"
    }
   ],
   "source": [
    "y_train.value_counts()"
   ]
  },
  {
   "cell_type": "markdown",
   "metadata": {},
   "source": [
    "Create one model for segment: Bad (<=4), 5, 6, 7, Good (>=8) \n"
   ]
  },
  {
   "cell_type": "code",
   "execution_count": 12,
   "metadata": {
    "collapsed": true
   },
   "outputs": [],
   "source": [
    "split = ['<=4', '5', '6', '7', '>=8']"
   ]
  },
  {
   "cell_type": "code",
   "execution_count": 13,
   "metadata": {
    "collapsed": false
   },
   "outputs": [
    {
     "data": {
      "text/html": [
       "<div>\n",
       "<table border=\"1\" class=\"dataframe\">\n",
       "  <thead>\n",
       "    <tr style=\"text-align: right;\">\n",
       "      <th></th>\n",
       "      <th>fixed_acidity</th>\n",
       "      <th>volatile_acidity</th>\n",
       "      <th>citric</th>\n",
       "      <th>sugar</th>\n",
       "      <th>chlorides</th>\n",
       "      <th>free_SD</th>\n",
       "      <th>total_SD</th>\n",
       "      <th>density</th>\n",
       "      <th>pH</th>\n",
       "      <th>sulphates</th>\n",
       "      <th>alcohol</th>\n",
       "      <th>type_red</th>\n",
       "    </tr>\n",
       "  </thead>\n",
       "  <tbody>\n",
       "    <tr>\n",
       "      <th>1226</th>\n",
       "      <td>0.447597</td>\n",
       "      <td>0.655613</td>\n",
       "      <td>-0.447790</td>\n",
       "      <td>-0.984101</td>\n",
       "      <td>-0.700266</td>\n",
       "      <td>-0.351688</td>\n",
       "      <td>-0.690870</td>\n",
       "      <td>-0.524047</td>\n",
       "      <td>0.607503</td>\n",
       "      <td>0.702322</td>\n",
       "      <td>0.069666</td>\n",
       "      <td>0</td>\n",
       "    </tr>\n",
       "    <tr>\n",
       "      <th>2980</th>\n",
       "      <td>0.678301</td>\n",
       "      <td>-0.681290</td>\n",
       "      <td>-0.282528</td>\n",
       "      <td>0.297431</td>\n",
       "      <td>-0.305943</td>\n",
       "      <td>-1.472748</td>\n",
       "      <td>-0.479096</td>\n",
       "      <td>0.057716</td>\n",
       "      <td>-1.511694</td>\n",
       "      <td>-1.312997</td>\n",
       "      <td>-0.092853</td>\n",
       "      <td>0</td>\n",
       "    </tr>\n",
       "    <tr>\n",
       "      <th>4741</th>\n",
       "      <td>1.454524</td>\n",
       "      <td>-0.067173</td>\n",
       "      <td>-0.282528</td>\n",
       "      <td>0.277715</td>\n",
       "      <td>0.372436</td>\n",
       "      <td>0.412294</td>\n",
       "      <td>0.320940</td>\n",
       "      <td>0.458932</td>\n",
       "      <td>-1.313019</td>\n",
       "      <td>0.789945</td>\n",
       "      <td>-0.417892</td>\n",
       "      <td>0</td>\n",
       "    </tr>\n",
       "    <tr>\n",
       "      <th>2759</th>\n",
       "      <td>-1.295404</td>\n",
       "      <td>-0.816770</td>\n",
       "      <td>-0.282528</td>\n",
       "      <td>-0.964385</td>\n",
       "      <td>-0.959515</td>\n",
       "      <td>-0.745751</td>\n",
       "      <td>-1.914456</td>\n",
       "      <td>-0.962041</td>\n",
       "      <td>1.667102</td>\n",
       "      <td>0.527077</td>\n",
       "      <td>0.394706</td>\n",
       "      <td>0</td>\n",
       "    </tr>\n",
       "    <tr>\n",
       "      <th>4792</th>\n",
       "      <td>-0.643065</td>\n",
       "      <td>0.148784</td>\n",
       "      <td>-0.723690</td>\n",
       "      <td>-0.447265</td>\n",
       "      <td>-1.018068</td>\n",
       "      <td>0.489629</td>\n",
       "      <td>-0.760632</td>\n",
       "      <td>-0.538685</td>\n",
       "      <td>-0.654936</td>\n",
       "      <td>0.128910</td>\n",
       "      <td>-0.490756</td>\n",
       "      <td>1</td>\n",
       "    </tr>\n",
       "  </tbody>\n",
       "</table>\n",
       "</div>"
      ],
      "text/plain": [
       "      fixed_acidity  volatile_acidity    citric     sugar  chlorides  \\\n",
       "1226       0.447597          0.655613 -0.447790 -0.984101  -0.700266   \n",
       "2980       0.678301         -0.681290 -0.282528  0.297431  -0.305943   \n",
       "4741       1.454524         -0.067173 -0.282528  0.277715   0.372436   \n",
       "2759      -1.295404         -0.816770 -0.282528 -0.964385  -0.959515   \n",
       "4792      -0.643065          0.148784 -0.723690 -0.447265  -1.018068   \n",
       "\n",
       "       free_SD  total_SD   density        pH  sulphates   alcohol  type_red  \n",
       "1226 -0.351688 -0.690870 -0.524047  0.607503   0.702322  0.069666         0  \n",
       "2980 -1.472748 -0.479096  0.057716 -1.511694  -1.312997 -0.092853         0  \n",
       "4741  0.412294  0.320940  0.458932 -1.313019   0.789945 -0.417892         0  \n",
       "2759 -0.745751 -1.914456 -0.962041  1.667102   0.527077  0.394706         0  \n",
       "4792  0.489629 -0.760632 -0.538685 -0.654936   0.128910 -0.490756         1  "
      ]
     },
     "execution_count": 13,
     "metadata": {},
     "output_type": "execute_result"
    }
   ],
   "source": [
    "X_train.head()"
   ]
  },
  {
   "cell_type": "code",
   "execution_count": 14,
   "metadata": {
    "collapsed": false
   },
   "outputs": [
    {
     "data": {
      "text/plain": [
       "1226    6\n",
       "2980    5\n",
       "4741    6\n",
       "2759    6\n",
       "4792    6\n",
       "Name: quality, dtype: int64"
      ]
     },
     "execution_count": 14,
     "metadata": {},
     "output_type": "execute_result"
    }
   ],
   "source": [
    "y_train.head()"
   ]
  },
  {
   "cell_type": "code",
   "execution_count": 15,
   "metadata": {
    "collapsed": false
   },
   "outputs": [],
   "source": [
    "train = pd.concat([X_train, y_train], axis=1)"
   ]
  },
  {
   "cell_type": "code",
   "execution_count": 16,
   "metadata": {
    "collapsed": false
   },
   "outputs": [],
   "source": [
    "train_split = {}\n",
    "for name in split:\n",
    "    temp = train['quality']\n",
    "    if name == '<=4':\n",
    "        train['quality'] = train.quality <= 4 \n",
    "    elif name == '>=8':\n",
    "        train['quality'] = train.quality >= 8\n",
    "    else:\n",
    "        train['quality'] = train.quality == int(name)\n",
    "    train.quality.astype(int)\n",
    "    train_split[name] = train.copy()\n",
    "    train['quality'] = temp"
   ]
  },
  {
   "cell_type": "code",
   "execution_count": 17,
   "metadata": {
    "collapsed": false
   },
   "outputs": [],
   "source": [
    "def balanceData(train_split):\n",
    "    for key in train_split:\n",
    "        df = train_split[key]\n",
    "        #df = df.sample(n=train.quality.value_counts().max(), replace=True)\n",
    "        df_pos = df[df.quality == True]\n",
    "        df_neg = df[df.quality == False]\n",
    "        n = df_neg.shape[0]\n",
    "        f = n//4\n",
    "        df_pos = df_pos.sample(n=f, replace=True)\n",
    "        df = pd.concat([df_neg, df_pos]).sample(frac=1)\n",
    "        train_split[key] = df\n",
    "\n",
    "balanceData(train_split)        "
   ]
  },
  {
   "cell_type": "code",
   "execution_count": 18,
   "metadata": {
    "collapsed": false
   },
   "outputs": [],
   "source": [
    "clfs = {}\n",
    "for name in split:\n",
    "    clf = LogisticRegression(penalty='l1', C=100, n_jobs=-1)\n",
    "    #print(name)\n",
    "    #print( train_split[name].head())\n",
    "    #print()\n",
    "    X_train = train_split[name].ix[:,:-1]\n",
    "    y_train = train_split[name].quality\n",
    "    clf.fit(X_train, y_train)\n",
    "    clfs[name] = clf"
   ]
  },
  {
   "cell_type": "code",
   "execution_count": 19,
   "metadata": {
    "collapsed": false
   },
   "outputs": [],
   "source": [
    "# Merge back data\n",
    "\"\"\"\n",
    "We want to get back the initial training data set but with new features corresponding to\n",
    "the predictions made by the classifiers restricted to each quality.\n",
    "\"\"\"\n",
    "new_data = pd.DataFrame([])\n",
    "for name in split:\n",
    "    new_data = pd.concat([new_data, train_split[name]])"
   ]
  },
  {
   "cell_type": "code",
   "execution_count": 24,
   "metadata": {
    "collapsed": false
   },
   "outputs": [],
   "source": [
    "# Make prediction\n",
    "pred = pd.DataFrame(columns=['<=4', '5', '6', '7', '>=8'])\n",
    "for i in range(X_test.shape[0]):\n",
    "    current_pred = []\n",
    "    for idx, name in enumerate(split):\n",
    "        temp = clfs[name].predict_proba(X_test.iloc[i].values.reshape(1,-1))[0][1]\n",
    "        #temp += 0.05\n",
    "        current_pred.append(temp)\n",
    "    current_pred = pd.DataFrame(pd.Series(current_pred).values.reshape(1,-1), index=[X_test.index[i]], columns=split)\n",
    "    pred = pd.concat([pred, current_pred], axis=0)"
   ]
  },
  {
   "cell_type": "code",
   "execution_count": 25,
   "metadata": {
    "collapsed": false
   },
   "outputs": [],
   "source": [
    "# Now we have the predictions for each wine on each quality segment\n",
    "# Let's try to figure out how to put together this info for a final prediction"
   ]
  },
  {
   "cell_type": "code",
   "execution_count": null,
   "metadata": {
    "collapsed": false
   },
   "outputs": [],
   "source": [
    "# Weighted prediction\n",
    "new_col = []\n",
    "for i in range(pred.shape[0]):\n",
    "    l = len(split)\n",
    "    x = np.array(pred.iloc[i][:l])\n",
    "    temp = np.inner(x, np.array(range(4,9)))/np.sum(x)\n",
    "    new_col.append(temp)  \n",
    "pred.insert(pred.shape[1] - 1, 'weighted', new_col)"
   ]
  },
  {
   "cell_type": "code",
   "execution_count": null,
   "metadata": {
    "collapsed": true
   },
   "outputs": [],
   "source": [
    "# Max prediction\n",
    "new_col = []\n",
    "for i in range(pred.shape[0]):\n",
    "    x = np.array(pred.iloc[i][:5]).argmax()\n",
    "    new_col.append(x + 4)  \n",
    "pred.insert(pred.shape[1] - 1, 'max', new_col)"
   ]
  },
  {
   "cell_type": "code",
   "execution_count": null,
   "metadata": {
    "collapsed": false
   },
   "outputs": [],
   "source": [
    "pred.head()"
   ]
  },
  {
   "cell_type": "markdown",
   "metadata": {},
   "source": [
    "## Weighted"
   ]
  },
  {
   "cell_type": "code",
   "execution_count": null,
   "metadata": {
    "collapsed": false
   },
   "outputs": [],
   "source": [
    "print(\"MAE =\", mean_absolute_error(y_test, pred['weighted'].apply(np.rint)))\n",
    "print(\"Acc. =\", accuracy_score(y_test, pred['weighted'].apply(np.rint)))"
   ]
  },
  {
   "cell_type": "code",
   "execution_count": null,
   "metadata": {
    "collapsed": false
   },
   "outputs": [],
   "source": [
    "confusion_matrix(y_test, pred['weighted'].apply(np.rint))"
   ]
  },
  {
   "cell_type": "code",
   "execution_count": null,
   "metadata": {
    "collapsed": false
   },
   "outputs": [],
   "source": [
    "pred['weighted'].apply(np.rint).value_counts()"
   ]
  },
  {
   "cell_type": "code",
   "execution_count": null,
   "metadata": {
    "collapsed": false
   },
   "outputs": [],
   "source": [
    "y_test.value_counts()"
   ]
  },
  {
   "cell_type": "code",
   "execution_count": null,
   "metadata": {
    "collapsed": false
   },
   "outputs": [],
   "source": [
    "data.quality.value_counts()"
   ]
  },
  {
   "cell_type": "markdown",
   "metadata": {},
   "source": [
    "## Max"
   ]
  },
  {
   "cell_type": "code",
   "execution_count": null,
   "metadata": {
    "collapsed": false
   },
   "outputs": [],
   "source": [
    "print(\"MAE =\", mean_absolute_error(y_test, pred['max']))\n",
    "print(\"Acc. =\", accuracy_score(y_test, pred['max']))"
   ]
  },
  {
   "cell_type": "code",
   "execution_count": null,
   "metadata": {
    "collapsed": false
   },
   "outputs": [],
   "source": [
    "confusion_matrix(y_test, pred['max'].apply(np.rint))"
   ]
  },
  {
   "cell_type": "code",
   "execution_count": null,
   "metadata": {
    "collapsed": true
   },
   "outputs": [],
   "source": []
  }
 ],
 "metadata": {
  "kernelspec": {
   "display_name": "Python 3",
   "language": "python",
   "name": "python3"
  },
  "language_info": {
   "codemirror_mode": {
    "name": "ipython",
    "version": 3
   },
   "file_extension": ".py",
   "mimetype": "text/x-python",
   "name": "python",
   "nbconvert_exporter": "python",
   "pygments_lexer": "ipython3",
   "version": "3.6.0"
  }
 },
 "nbformat": 4,
 "nbformat_minor": 2
}
