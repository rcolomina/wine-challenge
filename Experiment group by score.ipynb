{
 "cells": [
  {
   "cell_type": "markdown",
   "metadata": {},
   "source": [
    "# Experiment: group by score\n",
    "\n",
    "One vs All with resampling."
   ]
  },
  {
   "cell_type": "code",
   "execution_count": 35,
   "metadata": {
    "collapsed": true
   },
   "outputs": [],
   "source": [
    "import pandas as pd\n",
    "import numpy as np\n",
    "import matplotlib.pyplot as plt\n",
    "import seaborn as sns"
   ]
  },
  {
   "cell_type": "code",
   "execution_count": 36,
   "metadata": {
    "collapsed": true
   },
   "outputs": [],
   "source": [
    "from sklearn.model_selection import train_test_split\n",
    "from sklearn.metrics import mean_absolute_error, accuracy_score, confusion_matrix"
   ]
  },
  {
   "cell_type": "code",
   "execution_count": 37,
   "metadata": {
    "collapsed": true
   },
   "outputs": [],
   "source": [
    "#data = pd.read_csv('data/red_normal.csv')\n",
    "#data = pd.read_csv('data/red_data.csv')\n",
    "#data = pd.read_csv('data/white_normal.csv')\n",
    "#data = pd.read_csv('data/white_data.csv')\n",
    "data = pd.read_csv('data/wine_normal.csv')\n",
    "#data = pd.read_csv('data/wine_data.csv')"
   ]
  },
  {
   "cell_type": "code",
   "execution_count": 38,
   "metadata": {
    "collapsed": false
   },
   "outputs": [
    {
     "data": {
      "text/html": [
       "<div>\n",
       "<table border=\"1\" class=\"dataframe\">\n",
       "  <thead>\n",
       "    <tr style=\"text-align: right;\">\n",
       "      <th></th>\n",
       "      <th>fixed_acidity</th>\n",
       "      <th>volatile_acidity</th>\n",
       "      <th>citric</th>\n",
       "      <th>sugar</th>\n",
       "      <th>chlorides</th>\n",
       "      <th>free_SD</th>\n",
       "      <th>total_SD</th>\n",
       "      <th>density</th>\n",
       "      <th>pH</th>\n",
       "      <th>sulphates</th>\n",
       "      <th>alcohol</th>\n",
       "      <th>type_red</th>\n",
       "      <th>quality</th>\n",
       "    </tr>\n",
       "  </thead>\n",
       "  <tbody>\n",
       "    <tr>\n",
       "      <th>0</th>\n",
       "      <td>-1.564967</td>\n",
       "      <td>-2.115822</td>\n",
       "      <td>-0.613053</td>\n",
       "      <td>-0.412341</td>\n",
       "      <td>-0.381414</td>\n",
       "      <td>-1.025732</td>\n",
       "      <td>-0.973236</td>\n",
       "      <td>0.248294</td>\n",
       "      <td>1.137303</td>\n",
       "      <td>-0.261526</td>\n",
       "      <td>-1.067971</td>\n",
       "      <td>0</td>\n",
       "      <td>5</td>\n",
       "    </tr>\n",
       "    <tr>\n",
       "      <th>1</th>\n",
       "      <td>-0.987675</td>\n",
       "      <td>1.452634</td>\n",
       "      <td>-1.288368</td>\n",
       "      <td>0.404591</td>\n",
       "      <td>-0.391592</td>\n",
       "      <td>0.402953</td>\n",
       "      <td>-0.159545</td>\n",
       "      <td>-0.660550</td>\n",
       "      <td>1.741648</td>\n",
       "      <td>1.367797</td>\n",
       "      <td>1.761353</td>\n",
       "      <td>1</td>\n",
       "      <td>7</td>\n",
       "    </tr>\n",
       "    <tr>\n",
       "      <th>2</th>\n",
       "      <td>-0.772730</td>\n",
       "      <td>1.646757</td>\n",
       "      <td>-0.613053</td>\n",
       "      <td>-0.392625</td>\n",
       "      <td>1.147534</td>\n",
       "      <td>1.335430</td>\n",
       "      <td>1.591586</td>\n",
       "      <td>-0.009153</td>\n",
       "      <td>0.541278</td>\n",
       "      <td>0.264209</td>\n",
       "      <td>-0.580412</td>\n",
       "      <td>0</td>\n",
       "      <td>4</td>\n",
       "    </tr>\n",
       "    <tr>\n",
       "      <th>3</th>\n",
       "      <td>-0.645329</td>\n",
       "      <td>-0.550403</td>\n",
       "      <td>-0.282528</td>\n",
       "      <td>-0.865805</td>\n",
       "      <td>0.433714</td>\n",
       "      <td>-0.578715</td>\n",
       "      <td>-0.432035</td>\n",
       "      <td>-0.664473</td>\n",
       "      <td>0.342604</td>\n",
       "      <td>-0.173903</td>\n",
       "      <td>-0.092853</td>\n",
       "      <td>0</td>\n",
       "      <td>6</td>\n",
       "    </tr>\n",
       "    <tr>\n",
       "      <th>4</th>\n",
       "      <td>-0.298454</td>\n",
       "      <td>-0.583142</td>\n",
       "      <td>2.099702</td>\n",
       "      <td>-0.898276</td>\n",
       "      <td>5.590264</td>\n",
       "      <td>0.489629</td>\n",
       "      <td>0.899821</td>\n",
       "      <td>0.293176</td>\n",
       "      <td>-1.496978</td>\n",
       "      <td>3.845571</td>\n",
       "      <td>-1.053784</td>\n",
       "      <td>1</td>\n",
       "      <td>5</td>\n",
       "    </tr>\n",
       "  </tbody>\n",
       "</table>\n",
       "</div>"
      ],
      "text/plain": [
       "   fixed_acidity  volatile_acidity    citric     sugar  chlorides   free_SD  \\\n",
       "0      -1.564967         -2.115822 -0.613053 -0.412341  -0.381414 -1.025732   \n",
       "1      -0.987675          1.452634 -1.288368  0.404591  -0.391592  0.402953   \n",
       "2      -0.772730          1.646757 -0.613053 -0.392625   1.147534  1.335430   \n",
       "3      -0.645329         -0.550403 -0.282528 -0.865805   0.433714 -0.578715   \n",
       "4      -0.298454         -0.583142  2.099702 -0.898276   5.590264  0.489629   \n",
       "\n",
       "   total_SD   density        pH  sulphates   alcohol  type_red  quality  \n",
       "0 -0.973236  0.248294  1.137303  -0.261526 -1.067971         0        5  \n",
       "1 -0.159545 -0.660550  1.741648   1.367797  1.761353         1        7  \n",
       "2  1.591586 -0.009153  0.541278   0.264209 -0.580412         0        4  \n",
       "3 -0.432035 -0.664473  0.342604  -0.173903 -0.092853         0        6  \n",
       "4  0.899821  0.293176 -1.496978   3.845571 -1.053784         1        5  "
      ]
     },
     "execution_count": 38,
     "metadata": {},
     "output_type": "execute_result"
    }
   ],
   "source": [
    "data.head()"
   ]
  },
  {
   "cell_type": "code",
   "execution_count": 39,
   "metadata": {
    "collapsed": true
   },
   "outputs": [],
   "source": [
    "# Optionally generate interaction features x*y and x**2\n",
    "if True:\n",
    "    from itertools import combinations\n",
    "    \n",
    "    old_features = [name for name in data.columns if not 'type' in name and name != \"quality\"]\n",
    "    \n",
    "    for feature1, feature2 in combinations(old_features, 2):\n",
    "        temp = data[feature1] * data[feature2]\n",
    "        data.insert(data.shape[1]-1, feature1 + 'x' + feature2, temp)\n",
    "\n",
    "    for name in old_features:\n",
    "         data.insert(data.shape[1]-1, name + '**2', data[name]*data[name])   "
   ]
  },
  {
   "cell_type": "code",
   "execution_count": 40,
   "metadata": {
    "collapsed": false
   },
   "outputs": [
    {
     "data": {
      "text/plain": [
       "6    2836\n",
       "5    2138\n",
       "7    1079\n",
       "4     216\n",
       "8     193\n",
       "3      30\n",
       "9       5\n",
       "Name: quality, dtype: int64"
      ]
     },
     "execution_count": 40,
     "metadata": {},
     "output_type": "execute_result"
    }
   ],
   "source": [
    "data.quality.value_counts()"
   ]
  },
  {
   "cell_type": "code",
   "execution_count": 41,
   "metadata": {
    "collapsed": false
   },
   "outputs": [],
   "source": [
    "if False:\n",
    "    for name in (name for name in data.columns if name != \"quality\" and name != \"type_red\"):\n",
    "        sns.boxplot(x=\"quality\", y=name, hue=\"type_red\", data=data)\n",
    "        plt.show()\n",
    "    sns.boxplot(y=\"quality\", x=\"type_red\", data=data)\n",
    "    plt.show()"
   ]
  },
  {
   "cell_type": "code",
   "execution_count": 42,
   "metadata": {
    "collapsed": true
   },
   "outputs": [],
   "source": [
    "X, y = data.ix[:,:-1], data['quality']\n",
    "X_train, X_test, y_train, y_test = train_test_split(X, y, train_size=0.8)"
   ]
  },
  {
   "cell_type": "code",
   "execution_count": 43,
   "metadata": {
    "collapsed": true
   },
   "outputs": [],
   "source": [
    "from sklearn.linear_model import LogisticRegression"
   ]
  },
  {
   "cell_type": "code",
   "execution_count": 44,
   "metadata": {
    "collapsed": false
   },
   "outputs": [
    {
     "data": {
      "text/plain": [
       "[3, 4, 5, 6, 7, 8, 9]"
      ]
     },
     "execution_count": 44,
     "metadata": {},
     "output_type": "execute_result"
    }
   ],
   "source": [
    "qualities = sorted(data.quality.unique())\n",
    "qualities"
   ]
  },
  {
   "cell_type": "code",
   "execution_count": 45,
   "metadata": {
    "collapsed": false
   },
   "outputs": [
    {
     "data": {
      "image/png": "[encoded data removed]",
      "text/plain": [
       "<matplotlib.figure.Figure at 0x7ff3392249b0>"
      ]
     },
     "metadata": {},
     "output_type": "display_data"
    }
   ],
   "source": [
    "y_train.hist()\n",
    "plt.show()"
   ]
  },
  {
   "cell_type": "code",
   "execution_count": 46,
   "metadata": {
    "collapsed": false
   },
   "outputs": [
    {
     "data": {
      "text/plain": [
       "6    2293\n",
       "5    1707\n",
       "7     843\n",
       "4     168\n",
       "8     158\n",
       "3      24\n",
       "9       4\n",
       "Name: quality, dtype: int64"
      ]
     },
     "execution_count": 46,
     "metadata": {},
     "output_type": "execute_result"
    }
   ],
   "source": [
    "y_train.value_counts()"
   ]
  },
  {
   "cell_type": "markdown",
   "metadata": {},
   "source": [
    "Create one model for segment: Bad (<=4), 5, 6, 7, Good (>=8) \n"
   ]
  },
  {
   "cell_type": "code",
   "execution_count": 47,
   "metadata": {
    "collapsed": true
   },
   "outputs": [],
   "source": [
    "split = ['<=4', '5', '6', '7', '>=8']"
   ]
  },
  {
   "cell_type": "code",
   "execution_count": 48,
   "metadata": {
    "collapsed": false
   },
   "outputs": [
    {
     "data": {
      "text/html": [
       "<div>\n",
       "<table border=\"1\" class=\"dataframe\">\n",
       "  <thead>\n",
       "    <tr style=\"text-align: right;\">\n",
       "      <th></th>\n",
       "      <th>fixed_acidity</th>\n",
       "      <th>volatile_acidity</th>\n",
       "      <th>citric</th>\n",
       "      <th>sugar</th>\n",
       "      <th>chlorides</th>\n",
       "      <th>free_SD</th>\n",
       "      <th>total_SD</th>\n",
       "      <th>density</th>\n",
       "      <th>pH</th>\n",
       "      <th>sulphates</th>\n",
       "      <th>...</th>\n",
       "      <th>volatile_acidity**2</th>\n",
       "      <th>citric**2</th>\n",
       "      <th>sugar**2</th>\n",
       "      <th>chlorides**2</th>\n",
       "      <th>free_SD**2</th>\n",
       "      <th>total_SD**2</th>\n",
       "      <th>density**2</th>\n",
       "      <th>pH**2</th>\n",
       "      <th>sulphates**2</th>\n",
       "      <th>alcohol**2</th>\n",
       "    </tr>\n",
       "  </thead>\n",
       "  <tbody>\n",
       "    <tr>\n",
       "      <th>3465</th>\n",
       "      <td>0.563469</td>\n",
       "      <td>-0.067173</td>\n",
       "      <td>-0.199897</td>\n",
       "      <td>-0.944669</td>\n",
       "      <td>-0.232029</td>\n",
       "      <td>0.412294</td>\n",
       "      <td>0.815080</td>\n",
       "      <td>-0.744716</td>\n",
       "      <td>0.011479</td>\n",
       "      <td>0.176587</td>\n",
       "      <td>...</td>\n",
       "      <td>0.004512</td>\n",
       "      <td>0.039959</td>\n",
       "      <td>0.892399</td>\n",
       "      <td>0.053838</td>\n",
       "      <td>0.169986</td>\n",
       "      <td>0.664356</td>\n",
       "      <td>0.554602</td>\n",
       "      <td>0.000132</td>\n",
       "      <td>0.031183</td>\n",
       "      <td>0.518033</td>\n",
       "    </tr>\n",
       "    <tr>\n",
       "      <th>2770</th>\n",
       "      <td>0.904922</td>\n",
       "      <td>2.060810</td>\n",
       "      <td>-0.778315</td>\n",
       "      <td>-1.023532</td>\n",
       "      <td>-0.232029</td>\n",
       "      <td>-2.049052</td>\n",
       "      <td>-0.808523</td>\n",
       "      <td>-0.677847</td>\n",
       "      <td>-0.915669</td>\n",
       "      <td>-1.751110</td>\n",
       "      <td>...</td>\n",
       "      <td>4.246939</td>\n",
       "      <td>0.605774</td>\n",
       "      <td>1.047618</td>\n",
       "      <td>0.053838</td>\n",
       "      <td>4.198614</td>\n",
       "      <td>0.653709</td>\n",
       "      <td>0.459476</td>\n",
       "      <td>0.838451</td>\n",
       "      <td>3.066386</td>\n",
       "      <td>0.053910</td>\n",
       "    </tr>\n",
       "    <tr>\n",
       "      <th>4867</th>\n",
       "      <td>0.447597</td>\n",
       "      <td>-0.301232</td>\n",
       "      <td>-0.447790</td>\n",
       "      <td>-0.885521</td>\n",
       "      <td>-0.870999</td>\n",
       "      <td>-0.084188</td>\n",
       "      <td>-1.090889</td>\n",
       "      <td>-0.878455</td>\n",
       "      <td>-0.584545</td>\n",
       "      <td>-0.874884</td>\n",
       "      <td>...</td>\n",
       "      <td>0.090741</td>\n",
       "      <td>0.200516</td>\n",
       "      <td>0.784148</td>\n",
       "      <td>0.758639</td>\n",
       "      <td>0.007088</td>\n",
       "      <td>1.190038</td>\n",
       "      <td>0.771683</td>\n",
       "      <td>0.341693</td>\n",
       "      <td>0.765422</td>\n",
       "      <td>0.098248</td>\n",
       "    </tr>\n",
       "    <tr>\n",
       "      <th>3456</th>\n",
       "      <td>-0.901412</td>\n",
       "      <td>1.343794</td>\n",
       "      <td>-2.430937</td>\n",
       "      <td>-1.003816</td>\n",
       "      <td>-0.537296</td>\n",
       "      <td>-0.578715</td>\n",
       "      <td>-0.408505</td>\n",
       "      <td>-0.584230</td>\n",
       "      <td>0.342604</td>\n",
       "      <td>1.052813</td>\n",
       "      <td>...</td>\n",
       "      <td>1.805782</td>\n",
       "      <td>5.909454</td>\n",
       "      <td>1.007647</td>\n",
       "      <td>0.288687</td>\n",
       "      <td>0.334911</td>\n",
       "      <td>0.166876</td>\n",
       "      <td>0.341324</td>\n",
       "      <td>0.117377</td>\n",
       "      <td>1.108415</td>\n",
       "      <td>0.249153</td>\n",
       "    </tr>\n",
       "    <tr>\n",
       "      <th>1433</th>\n",
       "      <td>-1.562026</td>\n",
       "      <td>0.589522</td>\n",
       "      <td>-1.391037</td>\n",
       "      <td>-1.063744</td>\n",
       "      <td>0.241695</td>\n",
       "      <td>0.311323</td>\n",
       "      <td>0.658659</td>\n",
       "      <td>-1.296368</td>\n",
       "      <td>1.741648</td>\n",
       "      <td>-0.815004</td>\n",
       "      <td>...</td>\n",
       "      <td>0.347536</td>\n",
       "      <td>1.934984</td>\n",
       "      <td>1.131551</td>\n",
       "      <td>0.058416</td>\n",
       "      <td>0.096922</td>\n",
       "      <td>0.433832</td>\n",
       "      <td>1.680570</td>\n",
       "      <td>3.033336</td>\n",
       "      <td>0.664231</td>\n",
       "      <td>0.240842</td>\n",
       "    </tr>\n",
       "  </tbody>\n",
       "</table>\n",
       "<p>5 rows × 78 columns</p>\n",
       "</div>"
      ],
      "text/plain": [
       "      fixed_acidity  volatile_acidity    citric     sugar  chlorides  \\\n",
       "3465       0.563469         -0.067173 -0.199897 -0.944669  -0.232029   \n",
       "2770       0.904922          2.060810 -0.778315 -1.023532  -0.232029   \n",
       "4867       0.447597         -0.301232 -0.447790 -0.885521  -0.870999   \n",
       "3456      -0.901412          1.343794 -2.430937 -1.003816  -0.537296   \n",
       "1433      -1.562026          0.589522 -1.391037 -1.063744   0.241695   \n",
       "\n",
       "       free_SD  total_SD   density        pH  sulphates     ...      \\\n",
       "3465  0.412294  0.815080 -0.744716  0.011479   0.176587     ...       \n",
       "2770 -2.049052 -0.808523 -0.677847 -0.915669  -1.751110     ...       \n",
       "4867 -0.084188 -1.090889 -0.878455 -0.584545  -0.874884     ...       \n",
       "3456 -0.578715 -0.408505 -0.584230  0.342604   1.052813     ...       \n",
       "1433  0.311323  0.658659 -1.296368  1.741648  -0.815004     ...       \n",
       "\n",
       "      volatile_acidity**2  citric**2  sugar**2  chlorides**2  free_SD**2  \\\n",
       "3465             0.004512   0.039959  0.892399      0.053838    0.169986   \n",
       "2770             4.246939   0.605774  1.047618      0.053838    4.198614   \n",
       "4867             0.090741   0.200516  0.784148      0.758639    0.007088   \n",
       "3456             1.805782   5.909454  1.007647      0.288687    0.334911   \n",
       "1433             0.347536   1.934984  1.131551      0.058416    0.096922   \n",
       "\n",
       "      total_SD**2  density**2     pH**2  sulphates**2  alcohol**2  \n",
       "3465     0.664356    0.554602  0.000132      0.031183    0.518033  \n",
       "2770     0.653709    0.459476  0.838451      3.066386    0.053910  \n",
       "4867     1.190038    0.771683  0.341693      0.765422    0.098248  \n",
       "3456     0.166876    0.341324  0.117377      1.108415    0.249153  \n",
       "1433     0.433832    1.680570  3.033336      0.664231    0.240842  \n",
       "\n",
       "[5 rows x 78 columns]"
      ]
     },
     "execution_count": 48,
     "metadata": {},
     "output_type": "execute_result"
    }
   ],
   "source": [
    "X_train.head()"
   ]
  },
  {
   "cell_type": "code",
   "execution_count": 49,
   "metadata": {
    "collapsed": false
   },
   "outputs": [
    {
     "data": {
      "text/plain": [
       "3465    6\n",
       "2770    6\n",
       "4867    6\n",
       "3456    6\n",
       "1433    5\n",
       "Name: quality, dtype: int64"
      ]
     },
     "execution_count": 49,
     "metadata": {},
     "output_type": "execute_result"
    }
   ],
   "source": [
    "y_train.head()"
   ]
  },
  {
   "cell_type": "code",
   "execution_count": 50,
   "metadata": {
    "collapsed": false
   },
   "outputs": [],
   "source": [
    "train = pd.concat([X_train, y_train], axis=1)"
   ]
  },
  {
   "cell_type": "code",
   "execution_count": 51,
   "metadata": {
    "collapsed": false
   },
   "outputs": [],
   "source": [
    "train_split = {}\n",
    "for name in split:\n",
    "    temp = train['quality']\n",
    "    if name == '<=4':\n",
    "        train['quality'] = train.quality <= 4 \n",
    "    elif name == '>=8':\n",
    "        train['quality'] = train.quality >= 8\n",
    "    else:\n",
    "        train['quality'] = train.quality == int(name)\n",
    "    train.quality.astype(int)\n",
    "    train_split[name] = train.copy()\n",
    "    train['quality'] = temp"
   ]
  },
  {
   "cell_type": "code",
   "execution_count": 52,
   "metadata": {
    "collapsed": false
   },
   "outputs": [],
   "source": [
    "def balanceData(train_split):\n",
    "    for key in train_split:\n",
    "        df = train_split[key]\n",
    "        #df = df.sample(n=train.quality.value_counts().max(), replace=True)\n",
    "        df_pos = df[df.quality == True]\n",
    "        df_neg = df[df.quality == False]\n",
    "        n = df_neg.shape[0]\n",
    "        f = n//4\n",
    "        df_pos = df_pos.sample(n=f, replace=True)\n",
    "        df = pd.concat([df_neg, df_pos]).sample(frac=1)\n",
    "        train_split[key] = df\n",
    "\n",
    "balanceData(train_split)        "
   ]
  },
  {
   "cell_type": "code",
   "execution_count": 53,
   "metadata": {
    "collapsed": false
   },
   "outputs": [],
   "source": [
    "clfs = {}\n",
    "for name in split:\n",
    "    clf = LogisticRegression(penalty='l1', C=100, n_jobs=-1)\n",
    "    #print(name)\n",
    "    #print( train_split[name].head())\n",
    "    #print()\n",
    "    X_train = train_split[name].ix[:,:-1]\n",
    "    y_train = train_split[name].quality\n",
    "    clf.fit(X_train, y_train)\n",
    "    clfs[name] = clf"
   ]
  },
  {
   "cell_type": "code",
   "execution_count": 54,
   "metadata": {
    "collapsed": false
   },
   "outputs": [],
   "source": [
    "# Make prediction\n",
    "pred = pd.DataFrame(columns=['<=4', '5', '6', '7', '>=8'])\n",
    "for i in range(X_test.shape[0]):\n",
    "    current_pred = []\n",
    "    for idx, name in enumerate(split):\n",
    "        temp = clfs[name].predict_proba(X_test.iloc[i].values.reshape(1,-1))[0][1]\n",
    "        #temp += 0.05\n",
    "        current_pred.append(temp)\n",
    "    current_pred = pd.DataFrame(pd.Series(current_pred).values.reshape(1,-1), index=[X_test.index[i]], columns=split)\n",
    "    pred = pd.concat([pred, current_pred], axis=0)"
   ]
  },
  {
   "cell_type": "code",
   "execution_count": 55,
   "metadata": {
    "collapsed": false
   },
   "outputs": [],
   "source": [
    "# Weighted prediction\n",
    "new_col = []\n",
    "for i in range(pred.shape[0]):\n",
    "    l = len(split)\n",
    "    x = np.array(pred.iloc[i][:l])\n",
    "    temp = np.inner(x, np.array(range(4,9)))/np.sum(x)\n",
    "    new_col.append(temp)  \n",
    "pred.insert(pred.shape[1] - 1, 'weighted', new_col)"
   ]
  },
  {
   "cell_type": "code",
   "execution_count": 56,
   "metadata": {
    "collapsed": false
   },
   "outputs": [
    {
     "data": {
      "text/html": [
       "<div>\n",
       "<table border=\"1\" class=\"dataframe\">\n",
       "  <thead>\n",
       "    <tr style=\"text-align: right;\">\n",
       "      <th></th>\n",
       "      <th>&lt;=4</th>\n",
       "      <th>5</th>\n",
       "      <th>6</th>\n",
       "      <th>7</th>\n",
       "      <th>weighted</th>\n",
       "      <th>&gt;=8</th>\n",
       "    </tr>\n",
       "  </thead>\n",
       "  <tbody>\n",
       "    <tr>\n",
       "      <th>3831</th>\n",
       "      <td>0.668667</td>\n",
       "      <td>0.260894</td>\n",
       "      <td>0.051811</td>\n",
       "      <td>0.034272</td>\n",
       "      <td>4.462777</td>\n",
       "      <td>0.000759</td>\n",
       "    </tr>\n",
       "    <tr>\n",
       "      <th>970</th>\n",
       "      <td>0.158081</td>\n",
       "      <td>0.336216</td>\n",
       "      <td>0.150871</td>\n",
       "      <td>0.055462</td>\n",
       "      <td>5.158965</td>\n",
       "      <td>0.002697</td>\n",
       "    </tr>\n",
       "    <tr>\n",
       "      <th>4751</th>\n",
       "      <td>0.117180</td>\n",
       "      <td>0.072449</td>\n",
       "      <td>0.127565</td>\n",
       "      <td>0.522697</td>\n",
       "      <td>6.921815</td>\n",
       "      <td>0.517848</td>\n",
       "    </tr>\n",
       "    <tr>\n",
       "      <th>5281</th>\n",
       "      <td>0.019445</td>\n",
       "      <td>0.128661</td>\n",
       "      <td>0.286821</td>\n",
       "      <td>0.223515</td>\n",
       "      <td>6.663948</td>\n",
       "      <td>0.285324</td>\n",
       "    </tr>\n",
       "    <tr>\n",
       "      <th>3128</th>\n",
       "      <td>0.021696</td>\n",
       "      <td>0.089987</td>\n",
       "      <td>0.341184</td>\n",
       "      <td>0.226743</td>\n",
       "      <td>6.543314</td>\n",
       "      <td>0.189386</td>\n",
       "    </tr>\n",
       "  </tbody>\n",
       "</table>\n",
       "</div>"
      ],
      "text/plain": [
       "           <=4         5         6         7  weighted       >=8\n",
       "3831  0.668667  0.260894  0.051811  0.034272  4.462777  0.000759\n",
       "970   0.158081  0.336216  0.150871  0.055462  5.158965  0.002697\n",
       "4751  0.117180  0.072449  0.127565  0.522697  6.921815  0.517848\n",
       "5281  0.019445  0.128661  0.286821  0.223515  6.663948  0.285324\n",
       "3128  0.021696  0.089987  0.341184  0.226743  6.543314  0.189386"
      ]
     },
     "execution_count": 56,
     "metadata": {},
     "output_type": "execute_result"
    }
   ],
   "source": [
    "pred.head()"
   ]
  },
  {
   "cell_type": "markdown",
   "metadata": {},
   "source": [
    "## Weighted"
   ]
  },
  {
   "cell_type": "code",
   "execution_count": 57,
   "metadata": {
    "collapsed": false
   },
   "outputs": [
    {
     "name": "stdout",
     "output_type": "stream",
     "text": [
      "MAE = 0.550769230769\n",
      "Acc. = 0.5\n"
     ]
    }
   ],
   "source": [
    "print(\"MAE =\", mean_absolute_error(y_test, pred['weighted'].apply(np.rint)))\n",
    "print(\"Acc. =\", accuracy_score(y_test, pred['weighted'].apply(np.rint)))"
   ]
  },
  {
   "cell_type": "code",
   "execution_count": 58,
   "metadata": {
    "collapsed": false
   },
   "outputs": [
    {
     "data": {
      "text/plain": [
       "array([[  0,   2,   3,   1,   0,   0,   0],\n",
       "       [  0,  15,  26,   7,   0,   0,   0],\n",
       "       [  0,  17, 272, 114,  27,   1,   0],\n",
       "       [  0,   1, 155, 229, 157,   1,   0],\n",
       "       [  0,   1,  11,  89, 134,   1,   0],\n",
       "       [  0,   0,   0,   9,  26,   0,   0],\n",
       "       [  0,   0,   0,   0,   1,   0,   0]])"
      ]
     },
     "execution_count": 58,
     "metadata": {},
     "output_type": "execute_result"
    }
   ],
   "source": [
    "confusion_matrix(y_test, pred['weighted'].apply(np.rint))"
   ]
  },
  {
   "cell_type": "code",
   "execution_count": 59,
   "metadata": {
    "collapsed": false
   },
   "outputs": [
    {
     "data": {
      "text/plain": [
       "5.0    467\n",
       "6.0    449\n",
       "7.0    345\n",
       "4.0     36\n",
       "8.0      3\n",
       "Name: weighted, dtype: int64"
      ]
     },
     "execution_count": 59,
     "metadata": {},
     "output_type": "execute_result"
    }
   ],
   "source": [
    "pred['weighted'].apply(np.rint).value_counts()"
   ]
  },
  {
   "cell_type": "code",
   "execution_count": 60,
   "metadata": {
    "collapsed": false
   },
   "outputs": [
    {
     "data": {
      "text/plain": [
       "6    543\n",
       "5    431\n",
       "7    236\n",
       "4     48\n",
       "8     35\n",
       "3      6\n",
       "9      1\n",
       "Name: quality, dtype: int64"
      ]
     },
     "execution_count": 60,
     "metadata": {},
     "output_type": "execute_result"
    }
   ],
   "source": [
    "y_test.value_counts()"
   ]
  },
  {
   "cell_type": "code",
   "execution_count": 61,
   "metadata": {
    "collapsed": false
   },
   "outputs": [
    {
     "data": {
      "text/plain": [
       "6    2836\n",
       "5    2138\n",
       "7    1079\n",
       "4     216\n",
       "8     193\n",
       "3      30\n",
       "9       5\n",
       "Name: quality, dtype: int64"
      ]
     },
     "execution_count": 61,
     "metadata": {},
     "output_type": "execute_result"
    }
   ],
   "source": [
    "data.quality.value_counts()"
   ]
  },
  {
   "cell_type": "code",
   "execution_count": null,
   "metadata": {
    "collapsed": true
   },
   "outputs": [],
   "source": []
  }
 ],
 "metadata": {
  "kernelspec": {
   "display_name": "Python 3",
   "language": "python",
   "name": "python3"
  },
  "language_info": {
   "codemirror_mode": {
    "name": "ipython",
    "version": 3
   },
   "file_extension": ".py",
   "mimetype": "text/x-python",
   "name": "python",
   "nbconvert_exporter": "python",
   "pygments_lexer": "ipython3",
   "version": "3.6.0"
  }
 },
 "nbformat": 4,
 "nbformat_minor": 2
}
