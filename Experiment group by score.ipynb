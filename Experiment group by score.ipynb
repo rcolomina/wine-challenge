{
 "cells": [
  {
   "cell_type": "markdown",
   "metadata": {},
   "source": [
    "# Experiment: group by score\n",
    "\n",
    "One vs All with resampling."
   ]
  },
  {
   "cell_type": "code",
   "execution_count": 1,
   "metadata": {
    "collapsed": true
   },
   "outputs": [],
   "source": [
    "import pandas as pd\n",
    "import numpy as np\n",
    "import matplotlib.pyplot as plt\n",
    "import seaborn as sns"
   ]
  },
  {
   "cell_type": "code",
   "execution_count": 2,
   "metadata": {
    "collapsed": true
   },
   "outputs": [],
   "source": [
    "from sklearn.model_selection import train_test_split\n",
    "from sklearn.metrics import mean_absolute_error, accuracy_score, confusion_matrix"
   ]
  },
  {
   "cell_type": "code",
   "execution_count": 3,
   "metadata": {
    "collapsed": true
   },
   "outputs": [],
   "source": [
    "#data = pd.read_csv('data/red_normal.csv')\n",
    "#data = pd.read_csv('data/red_data.csv')\n",
    "#data = pd.read_csv('data/white_normal.csv')\n",
    "#data = pd.read_csv('data/white_data.csv')\n",
    "data = pd.read_csv('data/wine_normal.csv')\n",
    "#data = pd.read_csv('data/wine_data.csv')"
   ]
  },
  {
   "cell_type": "code",
   "execution_count": 4,
   "metadata": {
    "collapsed": false
   },
   "outputs": [
    {
     "data": {
      "text/html": [
       "<div>\n",
       "<table border=\"1\" class=\"dataframe\">\n",
       "  <thead>\n",
       "    <tr style=\"text-align: right;\">\n",
       "      <th></th>\n",
       "      <th>fixed_acidity</th>\n",
       "      <th>volatile_acidity</th>\n",
       "      <th>citric</th>\n",
       "      <th>sugar</th>\n",
       "      <th>chlorides</th>\n",
       "      <th>free_SD</th>\n",
       "      <th>total_SD</th>\n",
       "      <th>density</th>\n",
       "      <th>pH</th>\n",
       "      <th>sulphates</th>\n",
       "      <th>alcohol</th>\n",
       "      <th>type_red</th>\n",
       "      <th>quality</th>\n",
       "    </tr>\n",
       "  </thead>\n",
       "  <tbody>\n",
       "    <tr>\n",
       "      <th>0</th>\n",
       "      <td>-1.564967</td>\n",
       "      <td>-2.115822</td>\n",
       "      <td>-0.613053</td>\n",
       "      <td>-0.412341</td>\n",
       "      <td>-0.381414</td>\n",
       "      <td>-1.025732</td>\n",
       "      <td>-0.973236</td>\n",
       "      <td>0.248294</td>\n",
       "      <td>1.137303</td>\n",
       "      <td>-0.261526</td>\n",
       "      <td>-1.067971</td>\n",
       "      <td>0</td>\n",
       "      <td>5</td>\n",
       "    </tr>\n",
       "    <tr>\n",
       "      <th>1</th>\n",
       "      <td>-0.987675</td>\n",
       "      <td>1.452634</td>\n",
       "      <td>-1.288368</td>\n",
       "      <td>0.404591</td>\n",
       "      <td>-0.391592</td>\n",
       "      <td>0.402953</td>\n",
       "      <td>-0.159545</td>\n",
       "      <td>-0.660550</td>\n",
       "      <td>1.741648</td>\n",
       "      <td>1.367797</td>\n",
       "      <td>1.761353</td>\n",
       "      <td>1</td>\n",
       "      <td>7</td>\n",
       "    </tr>\n",
       "    <tr>\n",
       "      <th>2</th>\n",
       "      <td>-0.772730</td>\n",
       "      <td>1.646757</td>\n",
       "      <td>-0.613053</td>\n",
       "      <td>-0.392625</td>\n",
       "      <td>1.147534</td>\n",
       "      <td>1.335430</td>\n",
       "      <td>1.591586</td>\n",
       "      <td>-0.009153</td>\n",
       "      <td>0.541278</td>\n",
       "      <td>0.264209</td>\n",
       "      <td>-0.580412</td>\n",
       "      <td>0</td>\n",
       "      <td>4</td>\n",
       "    </tr>\n",
       "    <tr>\n",
       "      <th>3</th>\n",
       "      <td>-0.645329</td>\n",
       "      <td>-0.550403</td>\n",
       "      <td>-0.282528</td>\n",
       "      <td>-0.865805</td>\n",
       "      <td>0.433714</td>\n",
       "      <td>-0.578715</td>\n",
       "      <td>-0.432035</td>\n",
       "      <td>-0.664473</td>\n",
       "      <td>0.342604</td>\n",
       "      <td>-0.173903</td>\n",
       "      <td>-0.092853</td>\n",
       "      <td>0</td>\n",
       "      <td>6</td>\n",
       "    </tr>\n",
       "    <tr>\n",
       "      <th>4</th>\n",
       "      <td>-0.298454</td>\n",
       "      <td>-0.583142</td>\n",
       "      <td>2.099702</td>\n",
       "      <td>-0.898276</td>\n",
       "      <td>5.590264</td>\n",
       "      <td>0.489629</td>\n",
       "      <td>0.899821</td>\n",
       "      <td>0.293176</td>\n",
       "      <td>-1.496978</td>\n",
       "      <td>3.845571</td>\n",
       "      <td>-1.053784</td>\n",
       "      <td>1</td>\n",
       "      <td>5</td>\n",
       "    </tr>\n",
       "  </tbody>\n",
       "</table>\n",
       "</div>"
      ],
      "text/plain": [
       "   fixed_acidity  volatile_acidity    citric     sugar  chlorides   free_SD  \\\n",
       "0      -1.564967         -2.115822 -0.613053 -0.412341  -0.381414 -1.025732   \n",
       "1      -0.987675          1.452634 -1.288368  0.404591  -0.391592  0.402953   \n",
       "2      -0.772730          1.646757 -0.613053 -0.392625   1.147534  1.335430   \n",
       "3      -0.645329         -0.550403 -0.282528 -0.865805   0.433714 -0.578715   \n",
       "4      -0.298454         -0.583142  2.099702 -0.898276   5.590264  0.489629   \n",
       "\n",
       "   total_SD   density        pH  sulphates   alcohol  type_red  quality  \n",
       "0 -0.973236  0.248294  1.137303  -0.261526 -1.067971         0        5  \n",
       "1 -0.159545 -0.660550  1.741648   1.367797  1.761353         1        7  \n",
       "2  1.591586 -0.009153  0.541278   0.264209 -0.580412         0        4  \n",
       "3 -0.432035 -0.664473  0.342604  -0.173903 -0.092853         0        6  \n",
       "4  0.899821  0.293176 -1.496978   3.845571 -1.053784         1        5  "
      ]
     },
     "execution_count": 4,
     "metadata": {},
     "output_type": "execute_result"
    }
   ],
   "source": [
    "data.head()"
   ]
  },
  {
   "cell_type": "code",
   "execution_count": 5,
   "metadata": {
    "collapsed": false
   },
   "outputs": [
    {
     "data": {
      "text/plain": [
       "6    2836\n",
       "5    2138\n",
       "7    1079\n",
       "4     216\n",
       "8     193\n",
       "3      30\n",
       "9       5\n",
       "Name: quality, dtype: int64"
      ]
     },
     "execution_count": 5,
     "metadata": {},
     "output_type": "execute_result"
    }
   ],
   "source": [
    "data.quality.value_counts()"
   ]
  },
  {
   "cell_type": "code",
   "execution_count": 6,
   "metadata": {
    "collapsed": false
   },
   "outputs": [],
   "source": [
    "if False:\n",
    "    for name in (name for name in data.columns if name != \"quality\" and name != \"type_red\"):\n",
    "        sns.boxplot(x=\"quality\", y=name, hue=\"type_red\", data=data)\n",
    "        plt.show()\n",
    "    sns.boxplot(y=\"quality\", x=\"type_red\", data=data)\n",
    "    plt.show()"
   ]
  },
  {
   "cell_type": "code",
   "execution_count": 7,
   "metadata": {
    "collapsed": true
   },
   "outputs": [],
   "source": [
    "X, y = data.ix[:,:-1], data['quality']\n",
    "X_train, X_test, y_train, y_test = train_test_split(X, y, train_size=0.8)"
   ]
  },
  {
   "cell_type": "code",
   "execution_count": 8,
   "metadata": {
    "collapsed": true
   },
   "outputs": [],
   "source": [
    "from sklearn.linear_model import LogisticRegression"
   ]
  },
  {
   "cell_type": "code",
   "execution_count": 9,
   "metadata": {
    "collapsed": false
   },
   "outputs": [
    {
     "data": {
      "text/plain": [
       "[3, 4, 5, 6, 7, 8, 9]"
      ]
     },
     "execution_count": 9,
     "metadata": {},
     "output_type": "execute_result"
    }
   ],
   "source": [
    "qualities = sorted(data.quality.unique())\n",
    "qualities"
   ]
  },
  {
   "cell_type": "code",
   "execution_count": 10,
   "metadata": {
    "collapsed": false
   },
   "outputs": [
    {
     "data": {
      "image/png": "[encoded data removed]",
      "text/plain": [
       "<matplotlib.figure.Figure at 0x7ff33e434198>"
      ]
     },
     "metadata": {},
     "output_type": "display_data"
    }
   ],
   "source": [
    "y_train.hist()\n",
    "plt.show()"
   ]
  },
  {
   "cell_type": "code",
   "execution_count": 11,
   "metadata": {
    "collapsed": false
   },
   "outputs": [
    {
     "data": {
      "text/plain": [
       "6    2271\n",
       "5    1697\n",
       "7     863\n",
       "4     184\n",
       "8     156\n",
       "3      22\n",
       "9       4\n",
       "Name: quality, dtype: int64"
      ]
     },
     "execution_count": 11,
     "metadata": {},
     "output_type": "execute_result"
    }
   ],
   "source": [
    "y_train.value_counts()"
   ]
  },
  {
   "cell_type": "markdown",
   "metadata": {},
   "source": [
    "Create one model for segment: Bad (<=4), 5, 6, 7, Good (>=8) \n"
   ]
  },
  {
   "cell_type": "code",
   "execution_count": 12,
   "metadata": {
    "collapsed": true
   },
   "outputs": [],
   "source": [
    "split = ['<=4', '5', '6', '7', '>=8']"
   ]
  },
  {
   "cell_type": "code",
   "execution_count": 13,
   "metadata": {
    "collapsed": false
   },
   "outputs": [
    {
     "data": {
      "text/html": [
       "<div>\n",
       "<table border=\"1\" class=\"dataframe\">\n",
       "  <thead>\n",
       "    <tr style=\"text-align: right;\">\n",
       "      <th></th>\n",
       "      <th>fixed_acidity</th>\n",
       "      <th>volatile_acidity</th>\n",
       "      <th>citric</th>\n",
       "      <th>sugar</th>\n",
       "      <th>chlorides</th>\n",
       "      <th>free_SD</th>\n",
       "      <th>total_SD</th>\n",
       "      <th>density</th>\n",
       "      <th>pH</th>\n",
       "      <th>sulphates</th>\n",
       "      <th>alcohol</th>\n",
       "      <th>type_red</th>\n",
       "    </tr>\n",
       "  </thead>\n",
       "  <tbody>\n",
       "    <tr>\n",
       "      <th>2248</th>\n",
       "      <td>-0.901412</td>\n",
       "      <td>-1.254309</td>\n",
       "      <td>0.709045</td>\n",
       "      <td>1.716973</td>\n",
       "      <td>-0.784616</td>\n",
       "      <td>-0.213476</td>\n",
       "      <td>-0.337913</td>\n",
       "      <td>0.940392</td>\n",
       "      <td>-2.107718</td>\n",
       "      <td>-0.173903</td>\n",
       "      <td>-0.824192</td>\n",
       "      <td>0</td>\n",
       "    </tr>\n",
       "    <tr>\n",
       "      <th>5598</th>\n",
       "      <td>1.022553</td>\n",
       "      <td>-1.592344</td>\n",
       "      <td>0.970345</td>\n",
       "      <td>-0.740796</td>\n",
       "      <td>-1.435076</td>\n",
       "      <td>-1.358236</td>\n",
       "      <td>-1.414116</td>\n",
       "      <td>0.346161</td>\n",
       "      <td>-1.756068</td>\n",
       "      <td>0.777851</td>\n",
       "      <td>-0.209243</td>\n",
       "      <td>1</td>\n",
       "    </tr>\n",
       "    <tr>\n",
       "      <th>2915</th>\n",
       "      <td>1.127602</td>\n",
       "      <td>1.498246</td>\n",
       "      <td>1.287463</td>\n",
       "      <td>1.302940</td>\n",
       "      <td>-0.784616</td>\n",
       "      <td>0.312110</td>\n",
       "      <td>0.462123</td>\n",
       "      <td>0.492367</td>\n",
       "      <td>-0.319645</td>\n",
       "      <td>-1.225374</td>\n",
       "      <td>0.638485</td>\n",
       "      <td>0</td>\n",
       "    </tr>\n",
       "    <tr>\n",
       "      <th>2531</th>\n",
       "      <td>0.093554</td>\n",
       "      <td>0.362247</td>\n",
       "      <td>-0.365159</td>\n",
       "      <td>-1.003816</td>\n",
       "      <td>0.611505</td>\n",
       "      <td>-0.500146</td>\n",
       "      <td>1.191568</td>\n",
       "      <td>-0.136205</td>\n",
       "      <td>0.673728</td>\n",
       "      <td>0.439455</td>\n",
       "      <td>-0.499152</td>\n",
       "      <td>0</td>\n",
       "    </tr>\n",
       "    <tr>\n",
       "      <th>3944</th>\n",
       "      <td>-0.394267</td>\n",
       "      <td>-1.254309</td>\n",
       "      <td>-0.199897</td>\n",
       "      <td>-0.964385</td>\n",
       "      <td>-0.159608</td>\n",
       "      <td>0.151763</td>\n",
       "      <td>-0.408505</td>\n",
       "      <td>-1.038941</td>\n",
       "      <td>-0.849445</td>\n",
       "      <td>-0.261526</td>\n",
       "      <td>-0.011593</td>\n",
       "      <td>0</td>\n",
       "    </tr>\n",
       "  </tbody>\n",
       "</table>\n",
       "</div>"
      ],
      "text/plain": [
       "      fixed_acidity  volatile_acidity    citric     sugar  chlorides  \\\n",
       "2248      -0.901412         -1.254309  0.709045  1.716973  -0.784616   \n",
       "5598       1.022553         -1.592344  0.970345 -0.740796  -1.435076   \n",
       "2915       1.127602          1.498246  1.287463  1.302940  -0.784616   \n",
       "2531       0.093554          0.362247 -0.365159 -1.003816   0.611505   \n",
       "3944      -0.394267         -1.254309 -0.199897 -0.964385  -0.159608   \n",
       "\n",
       "       free_SD  total_SD   density        pH  sulphates   alcohol  type_red  \n",
       "2248 -0.213476 -0.337913  0.940392 -2.107718  -0.173903 -0.824192         0  \n",
       "5598 -1.358236 -1.414116  0.346161 -1.756068   0.777851 -0.209243         1  \n",
       "2915  0.312110  0.462123  0.492367 -0.319645  -1.225374  0.638485         0  \n",
       "2531 -0.500146  1.191568 -0.136205  0.673728   0.439455 -0.499152         0  \n",
       "3944  0.151763 -0.408505 -1.038941 -0.849445  -0.261526 -0.011593         0  "
      ]
     },
     "execution_count": 13,
     "metadata": {},
     "output_type": "execute_result"
    }
   ],
   "source": [
    "X_train.head()"
   ]
  },
  {
   "cell_type": "code",
   "execution_count": 14,
   "metadata": {
    "collapsed": false
   },
   "outputs": [
    {
     "data": {
      "text/plain": [
       "2248    5\n",
       "5598    6\n",
       "2915    6\n",
       "2531    4\n",
       "3944    6\n",
       "Name: quality, dtype: int64"
      ]
     },
     "execution_count": 14,
     "metadata": {},
     "output_type": "execute_result"
    }
   ],
   "source": [
    "y_train.head()"
   ]
  },
  {
   "cell_type": "code",
   "execution_count": 15,
   "metadata": {
    "collapsed": false
   },
   "outputs": [],
   "source": [
    "train = pd.concat([X_train, y_train], axis=1)"
   ]
  },
  {
   "cell_type": "code",
   "execution_count": 16,
   "metadata": {
    "collapsed": false
   },
   "outputs": [],
   "source": [
    "train_split = {}\n",
    "for name in split:\n",
    "    temp = train['quality']\n",
    "    if name == '<=4':\n",
    "        train['quality'] = train.quality <= 4 \n",
    "    elif name == '>=8':\n",
    "        train['quality'] = train.quality >= 8\n",
    "    else:\n",
    "        train['quality'] = train.quality == int(name)\n",
    "    train.quality.astype(int)\n",
    "    train_split[name] = train.copy()\n",
    "    train['quality'] = temp"
   ]
  },
  {
   "cell_type": "code",
   "execution_count": 17,
   "metadata": {
    "collapsed": false
   },
   "outputs": [],
   "source": [
    "def balanceData(train_split):\n",
    "    for key in train_split:\n",
    "        df = train_split[key]\n",
    "        #df = df.sample(n=train.quality.value_counts().max(), replace=True)\n",
    "        df_pos = df[df.quality == True]\n",
    "        df_neg = df[df.quality == False]\n",
    "        n = df_neg.shape[0]\n",
    "        f = n//4\n",
    "        df_pos = df_pos.sample(n=f, replace=True)\n",
    "        df = pd.concat([df_neg, df_pos]).sample(frac=1)\n",
    "        train_split[key] = df\n",
    "\n",
    "balanceData(train_split)        "
   ]
  },
  {
   "cell_type": "code",
   "execution_count": 18,
   "metadata": {
    "collapsed": false
   },
   "outputs": [],
   "source": [
    "clfs = {}\n",
    "for name in split:\n",
    "    clf = LogisticRegression(penalty='l1', C=100, n_jobs=-1)\n",
    "    #print(name)\n",
    "    #print( train_split[name].head())\n",
    "    #print()\n",
    "    X_train = train_split[name].ix[:,:-1]\n",
    "    y_train = train_split[name].quality\n",
    "    clf.fit(X_train, y_train)\n",
    "    clfs[name] = clf"
   ]
  },
  {
   "cell_type": "code",
   "execution_count": 19,
   "metadata": {
    "collapsed": false
   },
   "outputs": [],
   "source": [
    "# Merge back data\n",
    "\"\"\"\n",
    "We want to get back the initial training data set but with new features corresponding to\n",
    "the predictions made by the classifiers restricted to each quality.\n",
    "\"\"\"\n",
    "new_data = pd.DataFrame([])\n",
    "for name in split:\n",
    "    new_data = pd.concat([new_data, train_split[name]])"
   ]
  },
  {
   "cell_type": "code",
   "execution_count": 20,
   "metadata": {
    "collapsed": false
   },
   "outputs": [],
   "source": [
    "# Make prediction\n",
    "pred = pd.DataFrame(columns=['<=4', '5', '6', '7', '>=8'])\n",
    "for i in range(X_test.shape[0]):\n",
    "    current_pred = []\n",
    "    for idx, name in enumerate(split):\n",
    "        temp = clfs[name].predict_proba(X_test.iloc[i].values.reshape(1,-1))[0][1]\n",
    "        #temp += 0.05\n",
    "        current_pred.append(temp)\n",
    "    current_pred = pd.DataFrame(pd.Series(current_pred).values.reshape(1,-1), index=[X_test.index[i]], columns=split)\n",
    "    pred = pd.concat([pred, current_pred], axis=0)"
   ]
  },
  {
   "cell_type": "code",
   "execution_count": 21,
   "metadata": {
    "collapsed": false
   },
   "outputs": [],
   "source": [
    "# Now we have the predictions for each wine on each quality segment\n",
    "# Let's try to figure out how to put together this info for a final prediction"
   ]
  },
  {
   "cell_type": "code",
   "execution_count": 22,
   "metadata": {
    "collapsed": false
   },
   "outputs": [],
   "source": [
    "# Weighted prediction\n",
    "new_col = []\n",
    "for i in range(pred.shape[0]):\n",
    "    l = len(split)\n",
    "    x = np.array(pred.iloc[i][:l])\n",
    "    temp = np.inner(x, np.array(range(4,9)))/np.sum(x)\n",
    "    new_col.append(temp)  \n",
    "pred.insert(pred.shape[1] - 1, 'weighted', new_col)"
   ]
  },
  {
   "cell_type": "code",
   "execution_count": 23,
   "metadata": {
    "collapsed": false
   },
   "outputs": [
    {
     "data": {
      "text/html": [
       "<div>\n",
       "<table border=\"1\" class=\"dataframe\">\n",
       "  <thead>\n",
       "    <tr style=\"text-align: right;\">\n",
       "      <th></th>\n",
       "      <th>&lt;=4</th>\n",
       "      <th>5</th>\n",
       "      <th>6</th>\n",
       "      <th>7</th>\n",
       "      <th>weighted</th>\n",
       "      <th>&gt;=8</th>\n",
       "    </tr>\n",
       "  </thead>\n",
       "  <tbody>\n",
       "    <tr>\n",
       "      <th>6099</th>\n",
       "      <td>0.286471</td>\n",
       "      <td>0.118035</td>\n",
       "      <td>0.171300</td>\n",
       "      <td>0.233297</td>\n",
       "      <td>5.908301</td>\n",
       "      <td>0.183337</td>\n",
       "    </tr>\n",
       "    <tr>\n",
       "      <th>5832</th>\n",
       "      <td>0.029657</td>\n",
       "      <td>0.096117</td>\n",
       "      <td>0.254057</td>\n",
       "      <td>0.212078</td>\n",
       "      <td>6.304680</td>\n",
       "      <td>0.072964</td>\n",
       "    </tr>\n",
       "    <tr>\n",
       "      <th>927</th>\n",
       "      <td>0.095340</td>\n",
       "      <td>0.066344</td>\n",
       "      <td>0.169869</td>\n",
       "      <td>0.251535</td>\n",
       "      <td>6.646823</td>\n",
       "      <td>0.282773</td>\n",
       "    </tr>\n",
       "    <tr>\n",
       "      <th>556</th>\n",
       "      <td>0.570413</td>\n",
       "      <td>0.621637</td>\n",
       "      <td>0.124120</td>\n",
       "      <td>0.013161</td>\n",
       "      <td>4.696847</td>\n",
       "      <td>0.005141</td>\n",
       "    </tr>\n",
       "    <tr>\n",
       "      <th>5539</th>\n",
       "      <td>0.012352</td>\n",
       "      <td>0.036264</td>\n",
       "      <td>0.292859</td>\n",
       "      <td>0.493145</td>\n",
       "      <td>6.888822</td>\n",
       "      <td>0.278671</td>\n",
       "    </tr>\n",
       "  </tbody>\n",
       "</table>\n",
       "</div>"
      ],
      "text/plain": [
       "           <=4         5         6         7  weighted       >=8\n",
       "6099  0.286471  0.118035  0.171300  0.233297  5.908301  0.183337\n",
       "5832  0.029657  0.096117  0.254057  0.212078  6.304680  0.072964\n",
       "927   0.095340  0.066344  0.169869  0.251535  6.646823  0.282773\n",
       "556   0.570413  0.621637  0.124120  0.013161  4.696847  0.005141\n",
       "5539  0.012352  0.036264  0.292859  0.493145  6.888822  0.278671"
      ]
     },
     "execution_count": 23,
     "metadata": {},
     "output_type": "execute_result"
    }
   ],
   "source": [
    "pred.head()"
   ]
  },
  {
   "cell_type": "markdown",
   "metadata": {},
   "source": [
    "## Weighted"
   ]
  },
  {
   "cell_type": "code",
   "execution_count": 24,
   "metadata": {
    "collapsed": false
   },
   "outputs": [
    {
     "name": "stdout",
     "output_type": "stream",
     "text": [
      "MAE = 0.577692307692\n",
      "Acc. = 0.487692307692\n"
     ]
    }
   ],
   "source": [
    "print(\"MAE =\", mean_absolute_error(y_test, pred['weighted'].apply(np.rint)))\n",
    "print(\"Acc. =\", accuracy_score(y_test, pred['weighted'].apply(np.rint)))"
   ]
  },
  {
   "cell_type": "code",
   "execution_count": 25,
   "metadata": {
    "collapsed": false
   },
   "outputs": [
    {
     "data": {
      "text/plain": [
       "array([[  0,   1,   3,   3,   1,   0,   0],\n",
       "       [  0,   0,  18,  12,   2,   0,   0],\n",
       "       [  0,   0, 244, 157,  40,   0,   0],\n",
       "       [  0,   0, 128, 257, 180,   0,   0],\n",
       "       [  0,   0,   9,  74, 133,   0,   0],\n",
       "       [  0,   0,   0,   7,  30,   0,   0],\n",
       "       [  0,   0,   0,   0,   1,   0,   0]])"
      ]
     },
     "execution_count": 25,
     "metadata": {},
     "output_type": "execute_result"
    }
   ],
   "source": [
    "confusion_matrix(y_test, pred['weighted'].apply(np.rint))"
   ]
  },
  {
   "cell_type": "code",
   "execution_count": 26,
   "metadata": {
    "collapsed": false
   },
   "outputs": [
    {
     "data": {
      "text/plain": [
       "6.0    510\n",
       "5.0    402\n",
       "7.0    387\n",
       "4.0      1\n",
       "Name: weighted, dtype: int64"
      ]
     },
     "execution_count": 26,
     "metadata": {},
     "output_type": "execute_result"
    }
   ],
   "source": [
    "pred['weighted'].apply(np.rint).value_counts()"
   ]
  },
  {
   "cell_type": "code",
   "execution_count": 27,
   "metadata": {
    "collapsed": false
   },
   "outputs": [
    {
     "data": {
      "text/plain": [
       "6    565\n",
       "5    441\n",
       "7    216\n",
       "8     37\n",
       "4     32\n",
       "3      8\n",
       "9      1\n",
       "Name: quality, dtype: int64"
      ]
     },
     "execution_count": 27,
     "metadata": {},
     "output_type": "execute_result"
    }
   ],
   "source": [
    "y_test.value_counts()"
   ]
  },
  {
   "cell_type": "code",
   "execution_count": 28,
   "metadata": {
    "collapsed": false
   },
   "outputs": [
    {
     "data": {
      "text/plain": [
       "6    2836\n",
       "5    2138\n",
       "7    1079\n",
       "4     216\n",
       "8     193\n",
       "3      30\n",
       "9       5\n",
       "Name: quality, dtype: int64"
      ]
     },
     "execution_count": 28,
     "metadata": {},
     "output_type": "execute_result"
    }
   ],
   "source": [
    "data.quality.value_counts()"
   ]
  }
 ],
 "metadata": {
  "kernelspec": {
   "display_name": "Python 3",
   "language": "python",
   "name": "python3"
  },
  "language_info": {
   "codemirror_mode": {
    "name": "ipython",
    "version": 3
   },
   "file_extension": ".py",
   "mimetype": "text/x-python",
   "name": "python",
   "nbconvert_exporter": "python",
   "pygments_lexer": "ipython3",
   "version": "3.6.0"
  }
 },
 "nbformat": 4,
 "nbformat_minor": 2
}
