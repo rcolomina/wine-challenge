{
 "cells": [
  {
   "cell_type": "markdown",
   "metadata": {},
   "source": [
    "# Benchmark: Naive Logistic regression"
   ]
  },
  {
   "cell_type": "code",
   "execution_count": 1,
   "metadata": {
    "collapsed": true
   },
   "outputs": [],
   "source": [
    "import pandas as pd\n",
    "import numpy as np"
   ]
  },
  {
   "cell_type": "code",
   "execution_count": 2,
   "metadata": {
    "collapsed": true
   },
   "outputs": [],
   "source": [
    "from sklearn.model_selection import train_test_split\n",
    "from sklearn.metrics import mean_absolute_error, confusion_matrix"
   ]
  },
  {
   "cell_type": "code",
   "execution_count": 3,
   "metadata": {
    "collapsed": true
   },
   "outputs": [],
   "source": [
    "from sklearn.linear_model import ElasticNet, LogisticRegression"
   ]
  },
  {
   "cell_type": "code",
   "execution_count": 4,
   "metadata": {
    "collapsed": false
   },
   "outputs": [],
   "source": [
    "red = pd.read_csv(\"data/red_normal.csv\")\n",
    "white = pd.read_csv(\"data/white_normal.csv\")"
   ]
  },
  {
   "cell_type": "code",
   "execution_count": 5,
   "metadata": {
    "collapsed": true
   },
   "outputs": [],
   "source": [
    "red['type'] = 'red'\n",
    "white['type'] = 'white'"
   ]
  },
  {
   "cell_type": "code",
   "execution_count": 6,
   "metadata": {
    "collapsed": true
   },
   "outputs": [],
   "source": [
    "wine = pd.concat([red, white], ignore_index=True).sample(frac=1).reset_index(drop=True)\n",
    "#wine = white\n",
    "#wine = red"
   ]
  },
  {
   "cell_type": "code",
   "execution_count": 7,
   "metadata": {
    "collapsed": false
   },
   "outputs": [],
   "source": [
    "temp = wine['quality']\n",
    "wine.drop('quality', axis=1, inplace=True)\n",
    "wine['quality'] = temp"
   ]
  },
  {
   "cell_type": "code",
   "execution_count": 8,
   "metadata": {
    "collapsed": false
   },
   "outputs": [
    {
     "data": {
      "text/html": [
       "<div>\n",
       "<table border=\"1\" class=\"dataframe\">\n",
       "  <thead>\n",
       "    <tr style=\"text-align: right;\">\n",
       "      <th></th>\n",
       "      <th>fixed_acidity</th>\n",
       "      <th>volatile_acidity</th>\n",
       "      <th>citric</th>\n",
       "      <th>sugar</th>\n",
       "      <th>chlorides</th>\n",
       "      <th>free_SD</th>\n",
       "      <th>total_SD</th>\n",
       "      <th>density</th>\n",
       "      <th>pH</th>\n",
       "      <th>sulphates</th>\n",
       "      <th>alcohol</th>\n",
       "      <th>type</th>\n",
       "      <th>quality</th>\n",
       "    </tr>\n",
       "  </thead>\n",
       "  <tbody>\n",
       "    <tr>\n",
       "      <th>0</th>\n",
       "      <td>0.907683</td>\n",
       "      <td>-1.871930</td>\n",
       "      <td>0.970345</td>\n",
       "      <td>-0.898276</td>\n",
       "      <td>-0.827124</td>\n",
       "      <td>1.052956</td>\n",
       "      <td>0.147714</td>\n",
       "      <td>-0.448611</td>\n",
       "      <td>-0.849253</td>\n",
       "      <td>1.013829</td>\n",
       "      <td>0.166109</td>\n",
       "      <td>red</td>\n",
       "      <td>6</td>\n",
       "    </tr>\n",
       "    <tr>\n",
       "      <th>1</th>\n",
       "      <td>-1.031400</td>\n",
       "      <td>0.655613</td>\n",
       "      <td>-1.108839</td>\n",
       "      <td>-0.905237</td>\n",
       "      <td>-0.959515</td>\n",
       "      <td>0.849514</td>\n",
       "      <td>0.485654</td>\n",
       "      <td>-0.711281</td>\n",
       "      <td>1.468427</td>\n",
       "      <td>0.351832</td>\n",
       "      <td>0.394706</td>\n",
       "      <td>white</td>\n",
       "      <td>6</td>\n",
       "    </tr>\n",
       "    <tr>\n",
       "      <th>2</th>\n",
       "      <td>0.563072</td>\n",
       "      <td>-0.721090</td>\n",
       "      <td>0.662339</td>\n",
       "      <td>0.296646</td>\n",
       "      <td>-0.350928</td>\n",
       "      <td>-0.386538</td>\n",
       "      <td>-0.535598</td>\n",
       "      <td>0.876009</td>\n",
       "      <td>0.187107</td>\n",
       "      <td>0.541872</td>\n",
       "      <td>-0.209243</td>\n",
       "      <td>red</td>\n",
       "      <td>6</td>\n",
       "    </tr>\n",
       "    <tr>\n",
       "      <th>3</th>\n",
       "      <td>0.093554</td>\n",
       "      <td>-1.411915</td>\n",
       "      <td>-0.282528</td>\n",
       "      <td>0.632600</td>\n",
       "      <td>0.835623</td>\n",
       "      <td>0.888414</td>\n",
       "      <td>1.097446</td>\n",
       "      <td>1.261364</td>\n",
       "      <td>1.335977</td>\n",
       "      <td>-0.962507</td>\n",
       "      <td>-0.742932</td>\n",
       "      <td>white</td>\n",
       "      <td>6</td>\n",
       "    </tr>\n",
       "    <tr>\n",
       "      <th>4</th>\n",
       "      <td>0.563469</td>\n",
       "      <td>0.839495</td>\n",
       "      <td>2.774823</td>\n",
       "      <td>0.376294</td>\n",
       "      <td>0.611505</td>\n",
       "      <td>-2.049052</td>\n",
       "      <td>-0.902645</td>\n",
       "      <td>0.626106</td>\n",
       "      <td>0.011479</td>\n",
       "      <td>0.088964</td>\n",
       "      <td>0.313446</td>\n",
       "      <td>white</td>\n",
       "      <td>5</td>\n",
       "    </tr>\n",
       "  </tbody>\n",
       "</table>\n",
       "</div>"
      ],
      "text/plain": [
       "   fixed_acidity  volatile_acidity    citric     sugar  chlorides   free_SD  \\\n",
       "0       0.907683         -1.871930  0.970345 -0.898276  -0.827124  1.052956   \n",
       "1      -1.031400          0.655613 -1.108839 -0.905237  -0.959515  0.849514   \n",
       "2       0.563072         -0.721090  0.662339  0.296646  -0.350928 -0.386538   \n",
       "3       0.093554         -1.411915 -0.282528  0.632600   0.835623  0.888414   \n",
       "4       0.563469          0.839495  2.774823  0.376294   0.611505 -2.049052   \n",
       "\n",
       "   total_SD   density        pH  sulphates   alcohol   type  quality  \n",
       "0  0.147714 -0.448611 -0.849253   1.013829  0.166109    red        6  \n",
       "1  0.485654 -0.711281  1.468427   0.351832  0.394706  white        6  \n",
       "2 -0.535598  0.876009  0.187107   0.541872 -0.209243    red        6  \n",
       "3  1.097446  1.261364  1.335977  -0.962507 -0.742932  white        6  \n",
       "4 -0.902645  0.626106  0.011479   0.088964  0.313446  white        5  "
      ]
     },
     "execution_count": 8,
     "metadata": {},
     "output_type": "execute_result"
    }
   ],
   "source": [
    "wine.head()"
   ]
  },
  {
   "cell_type": "code",
   "execution_count": 9,
   "metadata": {
    "collapsed": true
   },
   "outputs": [],
   "source": [
    "wine.to_csv(\"data/wine_normal.csv\", index=False)"
   ]
  },
  {
   "cell_type": "code",
   "execution_count": 10,
   "metadata": {
    "collapsed": true
   },
   "outputs": [],
   "source": [
    "wine = pd.get_dummies(wine)"
   ]
  },
  {
   "cell_type": "code",
   "execution_count": 11,
   "metadata": {
    "collapsed": true
   },
   "outputs": [],
   "source": [
    "temp = wine['quality']\n",
    "wine.drop('quality', axis=1, inplace=True)\n",
    "wine['quality'] = temp"
   ]
  },
  {
   "cell_type": "code",
   "execution_count": 12,
   "metadata": {
    "collapsed": false
   },
   "outputs": [
    {
     "data": {
      "text/html": [
       "<div>\n",
       "<table border=\"1\" class=\"dataframe\">\n",
       "  <thead>\n",
       "    <tr style=\"text-align: right;\">\n",
       "      <th></th>\n",
       "      <th>fixed_acidity</th>\n",
       "      <th>volatile_acidity</th>\n",
       "      <th>citric</th>\n",
       "      <th>sugar</th>\n",
       "      <th>chlorides</th>\n",
       "      <th>free_SD</th>\n",
       "      <th>total_SD</th>\n",
       "      <th>density</th>\n",
       "      <th>pH</th>\n",
       "      <th>sulphates</th>\n",
       "      <th>alcohol</th>\n",
       "      <th>type_red</th>\n",
       "      <th>type_white</th>\n",
       "      <th>quality</th>\n",
       "    </tr>\n",
       "  </thead>\n",
       "  <tbody>\n",
       "    <tr>\n",
       "      <th>0</th>\n",
       "      <td>0.907683</td>\n",
       "      <td>-1.871930</td>\n",
       "      <td>0.970345</td>\n",
       "      <td>-0.898276</td>\n",
       "      <td>-0.827124</td>\n",
       "      <td>1.052956</td>\n",
       "      <td>0.147714</td>\n",
       "      <td>-0.448611</td>\n",
       "      <td>-0.849253</td>\n",
       "      <td>1.013829</td>\n",
       "      <td>0.166109</td>\n",
       "      <td>1</td>\n",
       "      <td>0</td>\n",
       "      <td>6</td>\n",
       "    </tr>\n",
       "    <tr>\n",
       "      <th>1</th>\n",
       "      <td>-1.031400</td>\n",
       "      <td>0.655613</td>\n",
       "      <td>-1.108839</td>\n",
       "      <td>-0.905237</td>\n",
       "      <td>-0.959515</td>\n",
       "      <td>0.849514</td>\n",
       "      <td>0.485654</td>\n",
       "      <td>-0.711281</td>\n",
       "      <td>1.468427</td>\n",
       "      <td>0.351832</td>\n",
       "      <td>0.394706</td>\n",
       "      <td>0</td>\n",
       "      <td>1</td>\n",
       "      <td>6</td>\n",
       "    </tr>\n",
       "    <tr>\n",
       "      <th>2</th>\n",
       "      <td>0.563072</td>\n",
       "      <td>-0.721090</td>\n",
       "      <td>0.662339</td>\n",
       "      <td>0.296646</td>\n",
       "      <td>-0.350928</td>\n",
       "      <td>-0.386538</td>\n",
       "      <td>-0.535598</td>\n",
       "      <td>0.876009</td>\n",
       "      <td>0.187107</td>\n",
       "      <td>0.541872</td>\n",
       "      <td>-0.209243</td>\n",
       "      <td>1</td>\n",
       "      <td>0</td>\n",
       "      <td>6</td>\n",
       "    </tr>\n",
       "    <tr>\n",
       "      <th>3</th>\n",
       "      <td>0.093554</td>\n",
       "      <td>-1.411915</td>\n",
       "      <td>-0.282528</td>\n",
       "      <td>0.632600</td>\n",
       "      <td>0.835623</td>\n",
       "      <td>0.888414</td>\n",
       "      <td>1.097446</td>\n",
       "      <td>1.261364</td>\n",
       "      <td>1.335977</td>\n",
       "      <td>-0.962507</td>\n",
       "      <td>-0.742932</td>\n",
       "      <td>0</td>\n",
       "      <td>1</td>\n",
       "      <td>6</td>\n",
       "    </tr>\n",
       "    <tr>\n",
       "      <th>4</th>\n",
       "      <td>0.563469</td>\n",
       "      <td>0.839495</td>\n",
       "      <td>2.774823</td>\n",
       "      <td>0.376294</td>\n",
       "      <td>0.611505</td>\n",
       "      <td>-2.049052</td>\n",
       "      <td>-0.902645</td>\n",
       "      <td>0.626106</td>\n",
       "      <td>0.011479</td>\n",
       "      <td>0.088964</td>\n",
       "      <td>0.313446</td>\n",
       "      <td>0</td>\n",
       "      <td>1</td>\n",
       "      <td>5</td>\n",
       "    </tr>\n",
       "  </tbody>\n",
       "</table>\n",
       "</div>"
      ],
      "text/plain": [
       "   fixed_acidity  volatile_acidity    citric     sugar  chlorides   free_SD  \\\n",
       "0       0.907683         -1.871930  0.970345 -0.898276  -0.827124  1.052956   \n",
       "1      -1.031400          0.655613 -1.108839 -0.905237  -0.959515  0.849514   \n",
       "2       0.563072         -0.721090  0.662339  0.296646  -0.350928 -0.386538   \n",
       "3       0.093554         -1.411915 -0.282528  0.632600   0.835623  0.888414   \n",
       "4       0.563469          0.839495  2.774823  0.376294   0.611505 -2.049052   \n",
       "\n",
       "   total_SD   density        pH  sulphates   alcohol  type_red  type_white  \\\n",
       "0  0.147714 -0.448611 -0.849253   1.013829  0.166109         1           0   \n",
       "1  0.485654 -0.711281  1.468427   0.351832  0.394706         0           1   \n",
       "2 -0.535598  0.876009  0.187107   0.541872 -0.209243         1           0   \n",
       "3  1.097446  1.261364  1.335977  -0.962507 -0.742932         0           1   \n",
       "4 -0.902645  0.626106  0.011479   0.088964  0.313446         0           1   \n",
       "\n",
       "   quality  \n",
       "0        6  \n",
       "1        6  \n",
       "2        6  \n",
       "3        6  \n",
       "4        5  "
      ]
     },
     "execution_count": 12,
     "metadata": {},
     "output_type": "execute_result"
    }
   ],
   "source": [
    "wine.head()"
   ]
  },
  {
   "cell_type": "code",
   "execution_count": 13,
   "metadata": {
    "collapsed": true
   },
   "outputs": [],
   "source": [
    "X, y = wine.ix[:,:-1], wine['quality']"
   ]
  },
  {
   "cell_type": "code",
   "execution_count": 14,
   "metadata": {
    "collapsed": true
   },
   "outputs": [],
   "source": [
    "X_train, X_test, y_train, y_test = train_test_split(X, y, train_size=0.8)"
   ]
  },
  {
   "cell_type": "code",
   "execution_count": 15,
   "metadata": {
    "collapsed": false
   },
   "outputs": [],
   "source": [
    "clf = LogisticRegression(penalty='l2', \n",
    "                         C=10,\n",
    "                         n_jobs=-1)"
   ]
  },
  {
   "cell_type": "code",
   "execution_count": 16,
   "metadata": {
    "collapsed": false
   },
   "outputs": [
    {
     "data": {
      "text/plain": [
       "LogisticRegression(C=10, class_weight=None, dual=False, fit_intercept=True,\n",
       "          intercept_scaling=1, max_iter=100, multi_class='ovr', n_jobs=-1,\n",
       "          penalty='l2', random_state=None, solver='liblinear', tol=0.0001,\n",
       "          verbose=0, warm_start=False)"
      ]
     },
     "execution_count": 16,
     "metadata": {},
     "output_type": "execute_result"
    }
   ],
   "source": [
    "clf.fit(X_train, y_train)"
   ]
  },
  {
   "cell_type": "code",
   "execution_count": 17,
   "metadata": {
    "collapsed": true
   },
   "outputs": [],
   "source": [
    "y_pred = clf.predict(X_test)"
   ]
  },
  {
   "cell_type": "code",
   "execution_count": 18,
   "metadata": {
    "collapsed": false
   },
   "outputs": [
    {
     "data": {
      "text/plain": [
       "0.50461538461538458"
      ]
     },
     "execution_count": 18,
     "metadata": {},
     "output_type": "execute_result"
    }
   ],
   "source": [
    "mean_absolute_error(y_test, y_pred)"
   ]
  },
  {
   "cell_type": "code",
   "execution_count": 19,
   "metadata": {
    "collapsed": false
   },
   "outputs": [
    {
     "data": {
      "text/plain": [
       "0.54538461538461536"
      ]
     },
     "execution_count": 19,
     "metadata": {},
     "output_type": "execute_result"
    }
   ],
   "source": [
    "# accuracy\n",
    "sum([yt == yp for yt, yp in zip(y_test, y_pred)])/len(y_test)"
   ]
  },
  {
   "cell_type": "code",
   "execution_count": null,
   "metadata": {
    "collapsed": true
   },
   "outputs": [],
   "source": []
  }
 ],
 "metadata": {
  "kernelspec": {
   "display_name": "Python 3",
   "language": "python",
   "name": "python3"
  },
  "language_info": {
   "codemirror_mode": {
    "name": "ipython",
    "version": 3
   },
   "file_extension": ".py",
   "mimetype": "text/x-python",
   "name": "python",
   "nbconvert_exporter": "python",
   "pygments_lexer": "ipython3",
   "version": "3.6.0"
  }
 },
 "nbformat": 4,
 "nbformat_minor": 2
}
