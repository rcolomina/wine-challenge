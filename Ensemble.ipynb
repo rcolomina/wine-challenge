{
 "cells": [
  {
   "cell_type": "markdown",
   "metadata": {},
   "source": [
    "# Ensemble\n",
    "In this notebook we try a standard ensemble approach with K-fold CV."
   ]
  },
  {
   "cell_type": "code",
   "execution_count": 1,
   "metadata": {
    "collapsed": true
   },
   "outputs": [],
   "source": [
    "import pandas as pd\n",
    "import numpy as np"
   ]
  },
  {
   "cell_type": "code",
   "execution_count": 2,
   "metadata": {
    "collapsed": true
   },
   "outputs": [],
   "source": [
    "from sklearn.linear_model import LogisticRegression"
   ]
  },
  {
   "cell_type": "code",
   "execution_count": 3,
   "metadata": {
    "collapsed": true
   },
   "outputs": [],
   "source": [
    "from sklearn.model_selection import train_test_split, KFold\n",
    "from sklearn.metrics import mean_absolute_error, accuracy_score, confusion_matrix"
   ]
  },
  {
   "cell_type": "code",
   "execution_count": 4,
   "metadata": {
    "collapsed": false
   },
   "outputs": [
    {
     "data": {
      "text/html": [
       "<div>\n",
       "<table border=\"1\" class=\"dataframe\">\n",
       "  <thead>\n",
       "    <tr style=\"text-align: right;\">\n",
       "      <th></th>\n",
       "      <th>fixed_acidity</th>\n",
       "      <th>volatile_acidity</th>\n",
       "      <th>citric</th>\n",
       "      <th>sugar</th>\n",
       "      <th>chlorides</th>\n",
       "      <th>free_SD</th>\n",
       "      <th>total_SD</th>\n",
       "      <th>density</th>\n",
       "      <th>pH</th>\n",
       "      <th>sulphates</th>\n",
       "      <th>alcohol</th>\n",
       "      <th>type_red</th>\n",
       "      <th>quality</th>\n",
       "    </tr>\n",
       "  </thead>\n",
       "  <tbody>\n",
       "    <tr>\n",
       "      <th>0</th>\n",
       "      <td>6.3</td>\n",
       "      <td>0.270</td>\n",
       "      <td>0.25</td>\n",
       "      <td>5.8</td>\n",
       "      <td>0.038</td>\n",
       "      <td>52.0</td>\n",
       "      <td>155.0</td>\n",
       "      <td>0.99500</td>\n",
       "      <td>3.28</td>\n",
       "      <td>0.38</td>\n",
       "      <td>9.4</td>\n",
       "      <td>0</td>\n",
       "      <td>6</td>\n",
       "    </tr>\n",
       "    <tr>\n",
       "      <th>1</th>\n",
       "      <td>7.0</td>\n",
       "      <td>0.310</td>\n",
       "      <td>0.26</td>\n",
       "      <td>7.4</td>\n",
       "      <td>0.069</td>\n",
       "      <td>28.0</td>\n",
       "      <td>160.0</td>\n",
       "      <td>0.99540</td>\n",
       "      <td>3.13</td>\n",
       "      <td>0.46</td>\n",
       "      <td>9.8</td>\n",
       "      <td>0</td>\n",
       "      <td>6</td>\n",
       "    </tr>\n",
       "    <tr>\n",
       "      <th>2</th>\n",
       "      <td>7.6</td>\n",
       "      <td>0.380</td>\n",
       "      <td>0.20</td>\n",
       "      <td>3.4</td>\n",
       "      <td>0.046</td>\n",
       "      <td>9.0</td>\n",
       "      <td>116.0</td>\n",
       "      <td>0.99440</td>\n",
       "      <td>3.15</td>\n",
       "      <td>0.41</td>\n",
       "      <td>9.4</td>\n",
       "      <td>0</td>\n",
       "      <td>5</td>\n",
       "    </tr>\n",
       "    <tr>\n",
       "      <th>3</th>\n",
       "      <td>8.5</td>\n",
       "      <td>0.280</td>\n",
       "      <td>0.35</td>\n",
       "      <td>1.7</td>\n",
       "      <td>0.061</td>\n",
       "      <td>6.0</td>\n",
       "      <td>15.0</td>\n",
       "      <td>0.99524</td>\n",
       "      <td>3.30</td>\n",
       "      <td>0.74</td>\n",
       "      <td>11.8</td>\n",
       "      <td>1</td>\n",
       "      <td>7</td>\n",
       "    </tr>\n",
       "    <tr>\n",
       "      <th>4</th>\n",
       "      <td>8.0</td>\n",
       "      <td>0.725</td>\n",
       "      <td>0.24</td>\n",
       "      <td>2.8</td>\n",
       "      <td>0.083</td>\n",
       "      <td>10.0</td>\n",
       "      <td>62.0</td>\n",
       "      <td>0.99685</td>\n",
       "      <td>3.35</td>\n",
       "      <td>0.56</td>\n",
       "      <td>10.0</td>\n",
       "      <td>1</td>\n",
       "      <td>6</td>\n",
       "    </tr>\n",
       "  </tbody>\n",
       "</table>\n",
       "</div>"
      ],
      "text/plain": [
       "   fixed_acidity  volatile_acidity  citric  sugar  chlorides  free_SD  \\\n",
       "0            6.3             0.270    0.25    5.8      0.038     52.0   \n",
       "1            7.0             0.310    0.26    7.4      0.069     28.0   \n",
       "2            7.6             0.380    0.20    3.4      0.046      9.0   \n",
       "3            8.5             0.280    0.35    1.7      0.061      6.0   \n",
       "4            8.0             0.725    0.24    2.8      0.083     10.0   \n",
       "\n",
       "   total_SD  density    pH  sulphates  alcohol  type_red  quality  \n",
       "0     155.0  0.99500  3.28       0.38      9.4         0        6  \n",
       "1     160.0  0.99540  3.13       0.46      9.8         0        6  \n",
       "2     116.0  0.99440  3.15       0.41      9.4         0        5  \n",
       "3      15.0  0.99524  3.30       0.74     11.8         1        7  \n",
       "4      62.0  0.99685  3.35       0.56     10.0         1        6  "
      ]
     },
     "execution_count": 4,
     "metadata": {},
     "output_type": "execute_result"
    }
   ],
   "source": [
    "#data = pd.read_csv('data/red_normal.csv')\n",
    "#data = pd.read_csv('data/red_data.csv')\n",
    "#data = pd.read_csv('data/white_normal.csv')\n",
    "#data = pd.read_csv('data/white_data.csv')\n",
    "#data = pd.read_csv('data/wine_normal.csv')\n",
    "data = pd.read_csv('data/wine_data.csv')\n",
    "data.head()"
   ]
  },
  {
   "cell_type": "code",
   "execution_count": 5,
   "metadata": {
    "collapsed": true
   },
   "outputs": [],
   "source": [
    "X, y = data.ix[:,:-1], data['quality']"
   ]
  },
  {
   "cell_type": "code",
   "execution_count": 6,
   "metadata": {
    "collapsed": false
   },
   "outputs": [],
   "source": [
    "# We leave out 20% as a test set and the remaining 80% will be our training set.\n",
    "X_train, X_test, y_train, y_test = train_test_split(X, y, train_size=0.8)\n",
    "X_train, y_train = X_train.reset_index(drop=True), y_train.reset_index(drop=True)"
   ]
  },
  {
   "cell_type": "code",
   "execution_count": 7,
   "metadata": {
    "collapsed": false
   },
   "outputs": [
    {
     "data": {
      "text/plain": [
       "5"
      ]
     },
     "execution_count": 7,
     "metadata": {},
     "output_type": "execute_result"
    }
   ],
   "source": [
    "n_splits = 5\n",
    "kf = KFold(n_splits=n_splits, shuffle=True)\n",
    "kf.get_n_splits(X_train)"
   ]
  },
  {
   "cell_type": "code",
   "execution_count": 8,
   "metadata": {
    "collapsed": true
   },
   "outputs": [],
   "source": [
    "def selectBestParameters(X_tr, X_ts, y_tr, y_ts):\n",
    "    penalties = ['l1', 'l2']\n",
    "    C = [0.001*10**i for i in range(6)]\n",
    "    maes = list()\n",
    "    params = list()\n",
    "    for p in penalties:\n",
    "        for c in C:\n",
    "            params.append([p, c])\n",
    "            clf = LogisticRegression(penalty=p, C=c, n_jobs=-1)\n",
    "            clf.fit(X_tr, y_tr)\n",
    "            y_pred = clf.predict(X_ts)\n",
    "            mae = mean_absolute_error(y_ts, y_pred)\n",
    "            maes.append(mae)\n",
    "    arg_min = np.argmin(maes)\n",
    "    return params[arg_min]"
   ]
  },
  {
   "cell_type": "code",
   "execution_count": 9,
   "metadata": {
    "collapsed": false
   },
   "outputs": [
    {
     "name": "stdout",
     "output_type": "stream",
     "text": [
      "Training split number 1 ...\n",
      "MAE = 0.536538461538\n",
      "Acc. = 0.525\n",
      "\n",
      "Training split number 2 ...\n",
      "MAE = 0.514423076923\n",
      "Acc. = 0.541346153846\n",
      "\n",
      "Training split number 3 ...\n",
      "MAE = 0.520692974013\n",
      "Acc. = 0.531280076997\n",
      "\n",
      "Training split number 4 ...\n",
      "MAE = 0.517805582291\n",
      "Acc. = 0.543792107796\n",
      "\n",
      "Training split number 5 ...\n",
      "MAE = 0.525505293551\n",
      "Acc. = 0.533205004812\n",
      "\n"
     ]
    }
   ],
   "source": [
    "clfs = []\n",
    "for i, (train_index, test_index) in enumerate(kf.split(X_train)):\n",
    "    print(\"Training split number {} ...\".format(i+1))\n",
    "    X_tr, X_ts = X_train.loc[train_index], X_train.loc[test_index]\n",
    "    y_tr, y_ts = y_train.loc[train_index], y_train.loc[test_index]\n",
    "    penalty, C = selectBestParameters(X_tr, X_ts, y_tr, y_ts)\n",
    "    clf = LogisticRegression(penalty=penalty, C=C)\n",
    "    clf.fit(X_tr, y_tr)\n",
    "    clfs.append(clf)\n",
    "    y_pred = clf.predict(X_ts)\n",
    "    print(\"MAE =\", mean_absolute_error(y_ts, y_pred))\n",
    "    print(\"Acc. =\", accuracy_score(y_ts, y_pred))\n",
    "    print()"
   ]
  },
  {
   "cell_type": "code",
   "execution_count": 10,
   "metadata": {
    "collapsed": false
   },
   "outputs": [],
   "source": [
    "def generateFeatures(train):\n",
    "    for idx, clf in enumerate(clfs):\n",
    "        name = 'clf_' + str(idx)\n",
    "        y_pred = clf.predict(train.ix[:,:12])\n",
    "        position = train.shape[1] - 1\n",
    "        train.insert(position, name, y_pred)\n",
    "generateFeatures(X_train)\n",
    "generateFeatures(X_test)"
   ]
  },
  {
   "cell_type": "code",
   "execution_count": 11,
   "metadata": {
    "collapsed": false
   },
   "outputs": [
    {
     "name": "stdout",
     "output_type": "stream",
     "text": [
      "MAE = 0.520769230769\n",
      "Acc. = 0.549230769231\n"
     ]
    }
   ],
   "source": [
    "\"\"\"clf1 = LogisticRegression(penalty='l2', C=10, n_jobs=-1)\n",
    "clf1.fit(X_train.ix[:,:11], y_train)\n",
    "y_pred1 = clf1.predict(X_test.ix[:,:11])\n",
    "clf2 = LogisticRegression(penalty='l2', C=10, n_jobs=-1)\n",
    "clf2.fit(X_train.ix[:,11:], y_train)\n",
    "y_pred2 = clf2.predict(X_test.ix[:,11:])\n",
    "y_pred = (y_pred1*y_pred2)**0.5\n",
    "y_pred = pd.Series(y_pred).apply(np.rint)\"\"\"\n",
    "features = ['alcohol', 'volatile_acidity'] \n",
    "features += ['clf_' + str(i) for i in range(n_splits)]\n",
    "clf = LogisticRegression(penalty='l2', C=10, n_jobs=-1)\n",
    "clf.fit(X_train[features], y_train)\n",
    "y_pred = clf.predict(X_test[features])\n",
    "print(\"MAE =\", mean_absolute_error(y_test, y_pred))\n",
    "print(\"Acc. =\", accuracy_score(y_test, y_pred))"
   ]
  },
  {
   "cell_type": "code",
   "execution_count": 12,
   "metadata": {
    "collapsed": true
   },
   "outputs": [],
   "source": [
    "from sklearn.ensemble import RandomForestClassifier"
   ]
  },
  {
   "cell_type": "code",
   "execution_count": 13,
   "metadata": {
    "collapsed": false
   },
   "outputs": [
    {
     "name": "stdout",
     "output_type": "stream",
     "text": [
      "MAE = 0.344615384615\n",
      "Acc. = 0.696923076923\n"
     ]
    }
   ],
   "source": [
    "clf = RandomForestClassifier(n_estimators=500,\n",
    "                             max_depth=25,\n",
    "                             min_samples_split=2,\n",
    "                             min_samples_leaf=1,\n",
    "                             max_features='auto')\n",
    "clf.fit(X_train, y_train)\n",
    "y_pred = clf.predict(X_test)\n",
    "print(\"MAE =\", mean_absolute_error(y_test, y_pred))\n",
    "print(\"Acc. =\", accuracy_score(y_test, y_pred))"
   ]
  },
  {
   "cell_type": "code",
   "execution_count": 14,
   "metadata": {
    "collapsed": false
   },
   "outputs": [
    {
     "name": "stdout",
     "output_type": "stream",
     "text": [
      "alcohol            0.08744958921880071\n",
      "density            0.08724093612277391\n",
      "total_SD           0.08643291576783323\n",
      "volatile_acidity   0.08563921113118342\n",
      "free_SD            0.08410553756900786\n",
      "pH                 0.08307755172540497\n",
      "sugar              0.08239138973495075\n",
      "chlorides          0.0804824382608191\n",
      "sulphates          0.07941118985587754\n",
      "citric             0.07500664628055985\n",
      "fixed_acidity      0.07391349750398445\n",
      "clf_1              0.029830024932010563\n",
      "clf_3              0.024813631649719302\n",
      "clf_0              0.02344648340981929\n",
      "clf_2              0.008677472851043245\n",
      "clf_4              0.004585317497194166\n",
      "type_red           0.0034961664890176603\n"
     ]
    }
   ],
   "source": [
    "important = []\n",
    "for name, imp in zip(X_train.columns,clf.feature_importances_):\n",
    "    important.append((imp, name))\n",
    "for imp, name in sorted(important)[::-1]:\n",
    "    print(\"{:<18} {}\".format(name, imp))"
   ]
  },
  {
   "cell_type": "code",
   "execution_count": 15,
   "metadata": {
    "collapsed": false
   },
   "outputs": [
    {
     "name": "stdout",
     "output_type": "stream",
     "text": [
      "MAE = 0.347692307692\n",
      "Acc. = 0.696923076923\n"
     ]
    }
   ],
   "source": [
    "clf = RandomForestClassifier(n_estimators=500,\n",
    "                             max_depth=25,\n",
    "                             min_samples_split=2,\n",
    "                             min_samples_leaf=1,\n",
    "                             max_features='auto')\n",
    "clf.fit(X_train.ix[:,:11], y_train)\n",
    "y_pred = clf.predict(X_test.ix[:,:11])\n",
    "print(\"MAE =\", mean_absolute_error(y_test, y_pred))\n",
    "print(\"Acc. =\", accuracy_score(y_test, y_pred))"
   ]
  },
  {
   "cell_type": "code",
   "execution_count": 16,
   "metadata": {
    "collapsed": false
   },
   "outputs": [
    {
     "name": "stdout",
     "output_type": "stream",
     "text": [
      "alcohol            0.12456150169915467\n",
      "volatile_acidity   0.10079086524084184\n",
      "density            0.10037199210137956\n",
      "total_SD           0.09056896930277966\n",
      "free_SD            0.08735394626657877\n",
      "chlorides          0.08717254140126988\n",
      "sugar              0.08628963087932363\n",
      "sulphates          0.08513512467085266\n",
      "pH                 0.08451372034909267\n",
      "citric             0.07726568780858502\n",
      "fixed_acidity      0.07597602028014176\n"
     ]
    }
   ],
   "source": [
    "important = []\n",
    "for name, imp in zip(X_train.columns,clf.feature_importances_):\n",
    "    important.append((imp, name))\n",
    "for imp, name in sorted(important)[::-1]:\n",
    "    print(\"{:<18} {}\".format(name, imp))"
   ]
  },
  {
   "cell_type": "code",
   "execution_count": null,
   "metadata": {
    "collapsed": true
   },
   "outputs": [],
   "source": []
  }
 ],
 "metadata": {
  "kernelspec": {
   "display_name": "Python 3",
   "language": "python",
   "name": "python3"
  },
  "language_info": {
   "codemirror_mode": {
    "name": "ipython",
    "version": 3
   },
   "file_extension": ".py",
   "mimetype": "text/x-python",
   "name": "python",
   "nbconvert_exporter": "python",
   "pygments_lexer": "ipython3",
   "version": "3.6.0"
  }
 },
 "nbformat": 4,
 "nbformat_minor": 2
}
