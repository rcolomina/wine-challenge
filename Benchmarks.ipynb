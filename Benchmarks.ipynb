{
 "cells": [
  {
   "cell_type": "markdown",
   "metadata": {},
   "source": [
    "# Benchmarks"
   ]
  },
  {
   "cell_type": "markdown",
   "metadata": {},
   "source": [
    "To get a rough idea of what is a good MAE for this problem we train a random forest classifier. We can use this model as a reference. In addition we also train a simple logistic regression as a performance reference for our attempts."
   ]
  },
  {
   "cell_type": "code",
   "execution_count": 1,
   "metadata": {
    "collapsed": true
   },
   "outputs": [],
   "source": [
    "import pandas as pd\n",
    "import numpy as np"
   ]
  },
  {
   "cell_type": "code",
   "execution_count": 2,
   "metadata": {
    "collapsed": true
   },
   "outputs": [],
   "source": [
    "from sklearn.model_selection import train_test_split\n",
    "from sklearn.metrics import mean_absolute_error, accuracy_score, confusion_matrix"
   ]
  },
  {
   "cell_type": "code",
   "execution_count": 3,
   "metadata": {
    "collapsed": true
   },
   "outputs": [],
   "source": [
    "#data = pd.read_csv('data/red_normal.csv')\n",
    "#data = pd.read_csv('data/red_data.csv')\n",
    "#data = pd.read_csv('data/white_normal.csv')\n",
    "#data = pd.read_csv('data/white_data.csv')\n",
    "data = pd.read_csv('data/wine_normal.csv')\n",
    "#data = pd.read_csv('data/wine_data.csv')"
   ]
  },
  {
   "cell_type": "code",
   "execution_count": 4,
   "metadata": {
    "collapsed": false
   },
   "outputs": [
    {
     "data": {
      "text/html": [
       "<div>\n",
       "<table border=\"1\" class=\"dataframe\">\n",
       "  <thead>\n",
       "    <tr style=\"text-align: right;\">\n",
       "      <th></th>\n",
       "      <th>fixed_acidity</th>\n",
       "      <th>volatile_acidity</th>\n",
       "      <th>citric</th>\n",
       "      <th>sugar</th>\n",
       "      <th>chlorides</th>\n",
       "      <th>free_SD</th>\n",
       "      <th>total_SD</th>\n",
       "      <th>density</th>\n",
       "      <th>pH</th>\n",
       "      <th>sulphates</th>\n",
       "      <th>alcohol</th>\n",
       "      <th>type_red</th>\n",
       "      <th>quality</th>\n",
       "    </tr>\n",
       "  </thead>\n",
       "  <tbody>\n",
       "    <tr>\n",
       "      <th>0</th>\n",
       "      <td>-1.564967</td>\n",
       "      <td>-2.115822</td>\n",
       "      <td>-0.613053</td>\n",
       "      <td>-0.412341</td>\n",
       "      <td>-0.381414</td>\n",
       "      <td>-1.025732</td>\n",
       "      <td>-0.973236</td>\n",
       "      <td>0.248294</td>\n",
       "      <td>1.137303</td>\n",
       "      <td>-0.261526</td>\n",
       "      <td>-1.067971</td>\n",
       "      <td>0</td>\n",
       "      <td>5</td>\n",
       "    </tr>\n",
       "    <tr>\n",
       "      <th>1</th>\n",
       "      <td>-0.987675</td>\n",
       "      <td>1.452634</td>\n",
       "      <td>-1.288368</td>\n",
       "      <td>0.404591</td>\n",
       "      <td>-0.391592</td>\n",
       "      <td>0.402953</td>\n",
       "      <td>-0.159545</td>\n",
       "      <td>-0.660550</td>\n",
       "      <td>1.741648</td>\n",
       "      <td>1.367797</td>\n",
       "      <td>1.761353</td>\n",
       "      <td>1</td>\n",
       "      <td>7</td>\n",
       "    </tr>\n",
       "    <tr>\n",
       "      <th>2</th>\n",
       "      <td>-0.772730</td>\n",
       "      <td>1.646757</td>\n",
       "      <td>-0.613053</td>\n",
       "      <td>-0.392625</td>\n",
       "      <td>1.147534</td>\n",
       "      <td>1.335430</td>\n",
       "      <td>1.591586</td>\n",
       "      <td>-0.009153</td>\n",
       "      <td>0.541278</td>\n",
       "      <td>0.264209</td>\n",
       "      <td>-0.580412</td>\n",
       "      <td>0</td>\n",
       "      <td>4</td>\n",
       "    </tr>\n",
       "    <tr>\n",
       "      <th>3</th>\n",
       "      <td>-0.645329</td>\n",
       "      <td>-0.550403</td>\n",
       "      <td>-0.282528</td>\n",
       "      <td>-0.865805</td>\n",
       "      <td>0.433714</td>\n",
       "      <td>-0.578715</td>\n",
       "      <td>-0.432035</td>\n",
       "      <td>-0.664473</td>\n",
       "      <td>0.342604</td>\n",
       "      <td>-0.173903</td>\n",
       "      <td>-0.092853</td>\n",
       "      <td>0</td>\n",
       "      <td>6</td>\n",
       "    </tr>\n",
       "    <tr>\n",
       "      <th>4</th>\n",
       "      <td>-0.298454</td>\n",
       "      <td>-0.583142</td>\n",
       "      <td>2.099702</td>\n",
       "      <td>-0.898276</td>\n",
       "      <td>5.590264</td>\n",
       "      <td>0.489629</td>\n",
       "      <td>0.899821</td>\n",
       "      <td>0.293176</td>\n",
       "      <td>-1.496978</td>\n",
       "      <td>3.845571</td>\n",
       "      <td>-1.053784</td>\n",
       "      <td>1</td>\n",
       "      <td>5</td>\n",
       "    </tr>\n",
       "  </tbody>\n",
       "</table>\n",
       "</div>"
      ],
      "text/plain": [
       "   fixed_acidity  volatile_acidity    citric     sugar  chlorides   free_SD  \\\n",
       "0      -1.564967         -2.115822 -0.613053 -0.412341  -0.381414 -1.025732   \n",
       "1      -0.987675          1.452634 -1.288368  0.404591  -0.391592  0.402953   \n",
       "2      -0.772730          1.646757 -0.613053 -0.392625   1.147534  1.335430   \n",
       "3      -0.645329         -0.550403 -0.282528 -0.865805   0.433714 -0.578715   \n",
       "4      -0.298454         -0.583142  2.099702 -0.898276   5.590264  0.489629   \n",
       "\n",
       "   total_SD   density        pH  sulphates   alcohol  type_red  quality  \n",
       "0 -0.973236  0.248294  1.137303  -0.261526 -1.067971         0        5  \n",
       "1 -0.159545 -0.660550  1.741648   1.367797  1.761353         1        7  \n",
       "2  1.591586 -0.009153  0.541278   0.264209 -0.580412         0        4  \n",
       "3 -0.432035 -0.664473  0.342604  -0.173903 -0.092853         0        6  \n",
       "4  0.899821  0.293176 -1.496978   3.845571 -1.053784         1        5  "
      ]
     },
     "execution_count": 4,
     "metadata": {},
     "output_type": "execute_result"
    }
   ],
   "source": [
    "data.head()"
   ]
  },
  {
   "cell_type": "code",
   "execution_count": 5,
   "metadata": {
    "collapsed": false
   },
   "outputs": [],
   "source": [
    "X, y = data.ix[:,:-1], data['quality']"
   ]
  },
  {
   "cell_type": "markdown",
   "metadata": {},
   "source": [
    "## Random Forest Classifier"
   ]
  },
  {
   "cell_type": "code",
   "execution_count": 6,
   "metadata": {
    "collapsed": true
   },
   "outputs": [],
   "source": [
    "X_train, X_test, y_train, y_test = train_test_split(X, y, train_size=0.8)"
   ]
  },
  {
   "cell_type": "code",
   "execution_count": 7,
   "metadata": {
    "collapsed": true
   },
   "outputs": [],
   "source": [
    "from sklearn.ensemble import RandomForestClassifier"
   ]
  },
  {
   "cell_type": "code",
   "execution_count": 8,
   "metadata": {
    "collapsed": true
   },
   "outputs": [],
   "source": [
    "clf = RandomForestClassifier(n_estimators=500,\n",
    "                             max_depth=25,\n",
    "                             min_samples_split=2,\n",
    "                             min_samples_leaf=1,\n",
    "                             max_features='auto')"
   ]
  },
  {
   "cell_type": "code",
   "execution_count": 9,
   "metadata": {
    "collapsed": false
   },
   "outputs": [
    {
     "data": {
      "text/plain": [
       "RandomForestClassifier(bootstrap=True, class_weight=None, criterion='gini',\n",
       "            max_depth=25, max_features='auto', max_leaf_nodes=None,\n",
       "            min_impurity_split=1e-07, min_samples_leaf=1,\n",
       "            min_samples_split=2, min_weight_fraction_leaf=0.0,\n",
       "            n_estimators=500, n_jobs=1, oob_score=False, random_state=None,\n",
       "            verbose=0, warm_start=False)"
      ]
     },
     "execution_count": 9,
     "metadata": {},
     "output_type": "execute_result"
    }
   ],
   "source": [
    "clf.fit(X_train, y_train)"
   ]
  },
  {
   "cell_type": "code",
   "execution_count": 10,
   "metadata": {
    "collapsed": true
   },
   "outputs": [],
   "source": [
    "y_pred = clf.predict(X_test)"
   ]
  },
  {
   "cell_type": "code",
   "execution_count": 49,
   "metadata": {
    "collapsed": false
   },
   "outputs": [
    {
     "name": "stdout",
     "output_type": "stream",
     "text": [
      "MAE = 0.433846153846\n",
      "Acc. = 0.623076923077\n"
     ]
    }
   ],
   "source": [
    "print(\"MAE =\", mean_absolute_error(y_test, y_pred))\n",
    "print(\"Acc. =\", accuracy_score(y_test, y_pred))"
   ]
  },
  {
   "cell_type": "code",
   "execution_count": 12,
   "metadata": {
    "collapsed": false
   },
   "outputs": [
    {
     "data": {
      "text/plain": [
       "array([[  0,   0,   1,   0,   0,   0,   0],\n",
       "       [  0,   7,  15,  17,   0,   0,   0],\n",
       "       [  0,   1, 307, 118,   1,   0,   0],\n",
       "       [  0,   0,  75, 473,  19,   0,   0],\n",
       "       [  0,   0,   3, 107, 115,   1,   0],\n",
       "       [  0,   0,   0,  13,   9,  17,   0],\n",
       "       [  0,   0,   0,   0,   1,   0,   0]])"
      ]
     },
     "execution_count": 12,
     "metadata": {},
     "output_type": "execute_result"
    }
   ],
   "source": [
    "confusion_matrix(y_test, y_pred)"
   ]
  },
  {
   "cell_type": "code",
   "execution_count": 13,
   "metadata": {
    "collapsed": false
   },
   "outputs": [
    {
     "data": {
      "text/plain": [
       "6    567\n",
       "5    427\n",
       "7    226\n",
       "8     39\n",
       "4     39\n",
       "9      1\n",
       "3      1\n",
       "Name: quality, dtype: int64"
      ]
     },
     "execution_count": 13,
     "metadata": {},
     "output_type": "execute_result"
    }
   ],
   "source": [
    "y_test.value_counts()"
   ]
  },
  {
   "cell_type": "code",
   "execution_count": 14,
   "metadata": {
    "collapsed": false
   },
   "outputs": [
    {
     "data": {
      "text/plain": [
       "6    728\n",
       "5    401\n",
       "7    145\n",
       "8     18\n",
       "4      8\n",
       "dtype: int64"
      ]
     },
     "execution_count": 14,
     "metadata": {},
     "output_type": "execute_result"
    }
   ],
   "source": [
    "pd.Series(y_pred).value_counts()"
   ]
  },
  {
   "cell_type": "code",
   "execution_count": 15,
   "metadata": {
    "collapsed": false
   },
   "outputs": [
    {
     "data": {
      "text/plain": [
       "6    2269\n",
       "5    1711\n",
       "7     853\n",
       "4     177\n",
       "8     154\n",
       "3      29\n",
       "9       4\n",
       "Name: quality, dtype: int64"
      ]
     },
     "execution_count": 15,
     "metadata": {},
     "output_type": "execute_result"
    }
   ],
   "source": [
    "y_train.value_counts()"
   ]
  },
  {
   "cell_type": "markdown",
   "metadata": {},
   "source": [
    "## Logistic Regression"
   ]
  },
  {
   "cell_type": "code",
   "execution_count": 34,
   "metadata": {
    "collapsed": true
   },
   "outputs": [],
   "source": [
    "from sklearn.linear_model import LogisticRegression"
   ]
  },
  {
   "cell_type": "code",
   "execution_count": 35,
   "metadata": {
    "collapsed": true
   },
   "outputs": [],
   "source": [
    "penalty = ['l1', 'l2']\n",
    "C = [0.001*10**i for i in range(6)]"
   ]
  },
  {
   "cell_type": "code",
   "execution_count": 36,
   "metadata": {
    "collapsed": false
   },
   "outputs": [
    {
     "name": "stdout",
     "output_type": "stream",
     "text": [
      "Results for penalty = l1 and C = 0.001\n",
      "MAE = 0.913076923077\n",
      "Acc. = 0.321538461538\n",
      "\n",
      "Results for penalty = l1 and C = 0.01\n",
      "MAE = 0.526923076923\n",
      "Acc. = 0.534615384615\n",
      "\n",
      "Results for penalty = l1 and C = 0.1\n",
      "MAE = 0.516923076923\n",
      "Acc. = 0.541538461538\n",
      "\n",
      "Results for penalty = l1 and C = 1.0\n",
      "MAE = 0.519230769231\n",
      "Acc. = 0.54\n",
      "\n",
      "Results for penalty = l1 and C = 10.0\n",
      "MAE = 0.520769230769\n",
      "Acc. = 0.538461538462\n",
      "\n",
      "Results for penalty = l1 and C = 100.0\n",
      "MAE = 0.520769230769\n",
      "Acc. = 0.538461538462\n",
      "\n",
      "Results for penalty = l2 and C = 0.001\n",
      "MAE = 0.542307692308\n",
      "Acc. = 0.524615384615\n",
      "\n",
      "Results for penalty = l2 and C = 0.01\n",
      "MAE = 0.529230769231\n",
      "Acc. = 0.530769230769\n",
      "\n",
      "Results for penalty = l2 and C = 0.1\n",
      "MAE = 0.516923076923\n",
      "Acc. = 0.540769230769\n",
      "\n",
      "Results for penalty = l2 and C = 1.0\n",
      "MAE = 0.520769230769\n",
      "Acc. = 0.538461538462\n",
      "\n",
      "Results for penalty = l2 and C = 10.0\n",
      "MAE = 0.520769230769\n",
      "Acc. = 0.538461538462\n",
      "\n",
      "Results for penalty = l2 and C = 100.0\n",
      "MAE = 0.520769230769\n",
      "Acc. = 0.538461538462\n",
      "\n"
     ]
    }
   ],
   "source": [
    "clfs = list()\n",
    "maes = list()\n",
    "params = list()\n",
    "for p in penalty:\n",
    "    for c in C:\n",
    "        params.append([p, c])\n",
    "        clf = LogisticRegression(penalty=p, C=c, n_jobs=-1)\n",
    "        clf.fit(X_train, y_train)\n",
    "        clfs.append(clf)\n",
    "        y_pred = clf.predict(X_test)\n",
    "        print(\"Results for penalty = {} and C = {}\".format(p, c))\n",
    "        mae = mean_absolute_error(y_test, y_pred)\n",
    "        maes.append(mae)\n",
    "        print(\"MAE =\", mae)\n",
    "        print(\"Acc. =\", accuracy_score(y_test, y_pred))\n",
    "        print()"
   ]
  },
  {
   "cell_type": "code",
   "execution_count": 37,
   "metadata": {
    "collapsed": false
   },
   "outputs": [
    {
     "name": "stdout",
     "output_type": "stream",
     "text": [
      "Lowest MAE (0.5169230769230769) with penalty = l1 and C = 0.1\n"
     ]
    }
   ],
   "source": [
    "arg_min = np.argmin(maes)\n",
    "p, c = params[arg_min]\n",
    "print(\"Lowest MAE ({}) with penalty = {} and C = {}\".format(maes[arg_min], p, c))"
   ]
  },
  {
   "cell_type": "code",
   "execution_count": 38,
   "metadata": {
    "collapsed": true
   },
   "outputs": [],
   "source": [
    "y_pred = clfs[arg_min].predict(X_test)"
   ]
  },
  {
   "cell_type": "code",
   "execution_count": 39,
   "metadata": {
    "collapsed": false
   },
   "outputs": [
    {
     "data": {
      "text/plain": [
       "array([[  0,   0,   5,   2,   0,   0],\n",
       "       [  0,   0,  27,  12,   2,   0],\n",
       "       [  0,   0, 279, 139,   0,   0],\n",
       "       [  0,   0, 158, 406,  15,   0],\n",
       "       [  0,   0,   9, 184,  19,   0],\n",
       "       [  0,   0,   3,  36,   4,   0]])"
      ]
     },
     "execution_count": 39,
     "metadata": {},
     "output_type": "execute_result"
    }
   ],
   "source": [
    "confusion_matrix(y_test, y_pred)"
   ]
  },
  {
   "cell_type": "code",
   "execution_count": 40,
   "metadata": {
    "collapsed": false
   },
   "outputs": [
    {
     "data": {
      "text/plain": [
       "6    579\n",
       "5    418\n",
       "7    212\n",
       "8     43\n",
       "4     41\n",
       "3      7\n",
       "Name: quality, dtype: int64"
      ]
     },
     "execution_count": 40,
     "metadata": {},
     "output_type": "execute_result"
    }
   ],
   "source": [
    "y_test.value_counts()"
   ]
  },
  {
   "cell_type": "code",
   "execution_count": 41,
   "metadata": {
    "collapsed": false
   },
   "outputs": [
    {
     "data": {
      "text/plain": [
       "6    779\n",
       "5    481\n",
       "7     40\n",
       "dtype: int64"
      ]
     },
     "execution_count": 41,
     "metadata": {},
     "output_type": "execute_result"
    }
   ],
   "source": [
    "pd.Series(y_pred).value_counts()"
   ]
  },
  {
   "cell_type": "code",
   "execution_count": 42,
   "metadata": {
    "collapsed": false
   },
   "outputs": [
    {
     "data": {
      "text/plain": [
       "6    2257\n",
       "5    1720\n",
       "7     867\n",
       "4     175\n",
       "8     150\n",
       "3      23\n",
       "9       5\n",
       "Name: quality, dtype: int64"
      ]
     },
     "execution_count": 42,
     "metadata": {},
     "output_type": "execute_result"
    }
   ],
   "source": [
    "y_train.value_counts()"
   ]
  },
  {
   "cell_type": "code",
   "execution_count": 43,
   "metadata": {
    "collapsed": false
   },
   "outputs": [
    {
     "data": {
      "text/plain": [
       "6    2836\n",
       "5    2138\n",
       "7    1079\n",
       "4     216\n",
       "8     193\n",
       "3      30\n",
       "9       5\n",
       "Name: quality, dtype: int64"
      ]
     },
     "execution_count": 43,
     "metadata": {},
     "output_type": "execute_result"
    }
   ],
   "source": [
    "data.quality.value_counts()"
   ]
  },
  {
   "cell_type": "markdown",
   "metadata": {},
   "source": [
    "## Radom Guessing"
   ]
  },
  {
   "cell_type": "code",
   "execution_count": 82,
   "metadata": {
    "collapsed": false
   },
   "outputs": [],
   "source": [
    "y_pred = []\n",
    "for _ in range(len(y_test)):\n",
    "    y_pred.append(np.random.randint(5,8))"
   ]
  },
  {
   "cell_type": "code",
   "execution_count": 83,
   "metadata": {
    "collapsed": false
   },
   "outputs": [
    {
     "name": "stdout",
     "output_type": "stream",
     "text": [
      "MAE = 0.94\n",
      "Acc. = 0.293846153846\n"
     ]
    }
   ],
   "source": [
    "print(\"MAE =\", mean_absolute_error(y_test, y_pred))\n",
    "print(\"Acc. =\", accuracy_score(y_test, y_pred))"
   ]
  }
 ],
 "metadata": {
  "kernelspec": {
   "display_name": "Python 3",
   "language": "python",
   "name": "python3"
  },
  "language_info": {
   "codemirror_mode": {
    "name": "ipython",
    "version": 3
   },
   "file_extension": ".py",
   "mimetype": "text/x-python",
   "name": "python",
   "nbconvert_exporter": "python",
   "pygments_lexer": "ipython3",
   "version": "3.6.0"
  }
 },
 "nbformat": 4,
 "nbformat_minor": 2
}
