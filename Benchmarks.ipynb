{
 "cells": [
  {
   "cell_type": "markdown",
   "metadata": {},
   "source": [
    "# Benchmark"
   ]
  },
  {
   "cell_type": "markdown",
   "metadata": {},
   "source": [
    "To get a rough idea of what is a good MAE for this problem we train a random forest classifier. We can use this model as a reference. In addition we also train a simple logistic regression as a performance reference for our attempts."
   ]
  },
  {
   "cell_type": "code",
   "execution_count": 2,
   "metadata": {
    "collapsed": true
   },
   "outputs": [],
   "source": [
    "import pandas as pd\n",
    "import numpy as np"
   ]
  },
  {
   "cell_type": "code",
   "execution_count": 3,
   "metadata": {
    "collapsed": true
   },
   "outputs": [],
   "source": [
    "from sklearn.model_selection import train_test_split\n",
    "from sklearn.metrics import mean_absolute_error, accuracy_score, confusion_matrix"
   ]
  },
  {
   "cell_type": "code",
   "execution_count": 7,
   "metadata": {
    "collapsed": true
   },
   "outputs": [],
   "source": [
    "#data = pd.read_csv('data/red_normal.csv')\n",
    "#data = pd.read_csv('data/red_data.csv')\n",
    "#data = pd.read_csv('data/white_normal.csv')\n",
    "#data = pd.read_csv('data/white_data.csv')\n",
    "#data = pd.read_csv('data/wine_normal.csv')\n",
    "data = pd.read_csv('data/wine_data.csv')"
   ]
  },
  {
   "cell_type": "code",
   "execution_count": 26,
   "metadata": {
    "collapsed": false
   },
   "outputs": [
    {
     "data": {
      "text/html": [
       "<div>\n",
       "<table border=\"1\" class=\"dataframe\">\n",
       "  <thead>\n",
       "    <tr style=\"text-align: right;\">\n",
       "      <th></th>\n",
       "      <th>fixed_acidity</th>\n",
       "      <th>volatile_acidity</th>\n",
       "      <th>citric</th>\n",
       "      <th>sugar</th>\n",
       "      <th>chlorides</th>\n",
       "      <th>free_SD</th>\n",
       "      <th>total_SD</th>\n",
       "      <th>density</th>\n",
       "      <th>pH</th>\n",
       "      <th>sulphates</th>\n",
       "      <th>alcohol</th>\n",
       "      <th>type_red</th>\n",
       "      <th>quality</th>\n",
       "    </tr>\n",
       "  </thead>\n",
       "  <tbody>\n",
       "    <tr>\n",
       "      <th>0</th>\n",
       "      <td>6.3</td>\n",
       "      <td>0.270</td>\n",
       "      <td>0.25</td>\n",
       "      <td>5.8</td>\n",
       "      <td>0.038</td>\n",
       "      <td>52.0</td>\n",
       "      <td>155.0</td>\n",
       "      <td>0.99500</td>\n",
       "      <td>3.28</td>\n",
       "      <td>0.38</td>\n",
       "      <td>9.4</td>\n",
       "      <td>0</td>\n",
       "      <td>6</td>\n",
       "    </tr>\n",
       "    <tr>\n",
       "      <th>1</th>\n",
       "      <td>7.0</td>\n",
       "      <td>0.310</td>\n",
       "      <td>0.26</td>\n",
       "      <td>7.4</td>\n",
       "      <td>0.069</td>\n",
       "      <td>28.0</td>\n",
       "      <td>160.0</td>\n",
       "      <td>0.99540</td>\n",
       "      <td>3.13</td>\n",
       "      <td>0.46</td>\n",
       "      <td>9.8</td>\n",
       "      <td>0</td>\n",
       "      <td>6</td>\n",
       "    </tr>\n",
       "    <tr>\n",
       "      <th>2</th>\n",
       "      <td>7.6</td>\n",
       "      <td>0.380</td>\n",
       "      <td>0.20</td>\n",
       "      <td>3.4</td>\n",
       "      <td>0.046</td>\n",
       "      <td>9.0</td>\n",
       "      <td>116.0</td>\n",
       "      <td>0.99440</td>\n",
       "      <td>3.15</td>\n",
       "      <td>0.41</td>\n",
       "      <td>9.4</td>\n",
       "      <td>0</td>\n",
       "      <td>5</td>\n",
       "    </tr>\n",
       "    <tr>\n",
       "      <th>3</th>\n",
       "      <td>8.5</td>\n",
       "      <td>0.280</td>\n",
       "      <td>0.35</td>\n",
       "      <td>1.7</td>\n",
       "      <td>0.061</td>\n",
       "      <td>6.0</td>\n",
       "      <td>15.0</td>\n",
       "      <td>0.99524</td>\n",
       "      <td>3.30</td>\n",
       "      <td>0.74</td>\n",
       "      <td>11.8</td>\n",
       "      <td>1</td>\n",
       "      <td>7</td>\n",
       "    </tr>\n",
       "    <tr>\n",
       "      <th>4</th>\n",
       "      <td>8.0</td>\n",
       "      <td>0.725</td>\n",
       "      <td>0.24</td>\n",
       "      <td>2.8</td>\n",
       "      <td>0.083</td>\n",
       "      <td>10.0</td>\n",
       "      <td>62.0</td>\n",
       "      <td>0.99685</td>\n",
       "      <td>3.35</td>\n",
       "      <td>0.56</td>\n",
       "      <td>10.0</td>\n",
       "      <td>1</td>\n",
       "      <td>6</td>\n",
       "    </tr>\n",
       "  </tbody>\n",
       "</table>\n",
       "</div>"
      ],
      "text/plain": [
       "   fixed_acidity  volatile_acidity  citric  sugar  chlorides  free_SD  \\\n",
       "0            6.3             0.270    0.25    5.8      0.038     52.0   \n",
       "1            7.0             0.310    0.26    7.4      0.069     28.0   \n",
       "2            7.6             0.380    0.20    3.4      0.046      9.0   \n",
       "3            8.5             0.280    0.35    1.7      0.061      6.0   \n",
       "4            8.0             0.725    0.24    2.8      0.083     10.0   \n",
       "\n",
       "   total_SD  density    pH  sulphates  alcohol  type_red  quality  \n",
       "0     155.0  0.99500  3.28       0.38      9.4         0        6  \n",
       "1     160.0  0.99540  3.13       0.46      9.8         0        6  \n",
       "2     116.0  0.99440  3.15       0.41      9.4         0        5  \n",
       "3      15.0  0.99524  3.30       0.74     11.8         1        7  \n",
       "4      62.0  0.99685  3.35       0.56     10.0         1        6  "
      ]
     },
     "execution_count": 26,
     "metadata": {},
     "output_type": "execute_result"
    }
   ],
   "source": [
    "data.head()"
   ]
  },
  {
   "cell_type": "code",
   "execution_count": 29,
   "metadata": {
    "collapsed": false
   },
   "outputs": [],
   "source": [
    "X, y = data.ix[:,:-1], data['quality']\n",
    "X_train, X_test, y_train, y_test = train_test_split(X,\n",
    "                                                    y,\n",
    "                                                    train_size=0.8)"
   ]
  },
  {
   "cell_type": "markdown",
   "metadata": {},
   "source": [
    "## Random Forest Classifier"
   ]
  },
  {
   "cell_type": "code",
   "execution_count": 30,
   "metadata": {
    "collapsed": true
   },
   "outputs": [],
   "source": [
    "from sklearn.ensemble import RandomForestClassifier"
   ]
  },
  {
   "cell_type": "code",
   "execution_count": 31,
   "metadata": {
    "collapsed": true
   },
   "outputs": [],
   "source": [
    "clf = RandomForestClassifier(n_estimators=1000,\n",
    "                             max_depth=None,\n",
    "                             min_samples_split=2,\n",
    "                             min_samples_leaf=1,\n",
    "                             max_features='auto',\n",
    "                             n_jobs=-1)\n"
   ]
  },
  {
   "cell_type": "code",
   "execution_count": 32,
   "metadata": {
    "collapsed": false
   },
   "outputs": [
    {
     "data": {
      "text/plain": [
       "RandomForestClassifier(bootstrap=True, class_weight=None, criterion='gini',\n",
       "            max_depth=None, max_features='auto', max_leaf_nodes=None,\n",
       "            min_impurity_split=1e-07, min_samples_leaf=1,\n",
       "            min_samples_split=2, min_weight_fraction_leaf=0.0,\n",
       "            n_estimators=1000, n_jobs=-1, oob_score=False,\n",
       "            random_state=None, verbose=0, warm_start=False)"
      ]
     },
     "execution_count": 32,
     "metadata": {},
     "output_type": "execute_result"
    }
   ],
   "source": [
    "clf.fit(X_train, y_train)"
   ]
  },
  {
   "cell_type": "code",
   "execution_count": 33,
   "metadata": {
    "collapsed": true
   },
   "outputs": [],
   "source": [
    "y_pred = clf.predict(X_test)"
   ]
  },
  {
   "cell_type": "code",
   "execution_count": 34,
   "metadata": {
    "collapsed": false
   },
   "outputs": [
    {
     "name": "stdout",
     "output_type": "stream",
     "text": [
      "MAE = 0.3707692307692308\n",
      "Acc. = 0.6753846153846154\n"
     ]
    }
   ],
   "source": [
    "print(\"MAE = {}\\nAcc. = {}\".format(mean_absolute_error(y_test, y_pred),\n",
    "                                   accuracy_score(y_test, y_pred)))"
   ]
  },
  {
   "cell_type": "code",
   "execution_count": 35,
   "metadata": {
    "collapsed": false
   },
   "outputs": [
    {
     "data": {
      "text/plain": [
       "array([[  0,   1,   0,   5,   0,   0,   0],\n",
       "       [  0,   5,  15,  15,   2,   0,   0],\n",
       "       [  0,   0, 305, 123,   3,   0,   0],\n",
       "       [  0,   0,  77, 435,  29,   1,   0],\n",
       "       [  0,   0,   6, 108, 114,   1,   0],\n",
       "       [  0,   0,   0,  19,  16,  19,   0],\n",
       "       [  0,   0,   0,   1,   0,   0,   0]])"
      ]
     },
     "execution_count": 35,
     "metadata": {},
     "output_type": "execute_result"
    }
   ],
   "source": [
    "confusion_matrix(y_test, y_pred)"
   ]
  },
  {
   "cell_type": "code",
   "execution_count": 36,
   "metadata": {
    "collapsed": false
   },
   "outputs": [
    {
     "data": {
      "text/plain": [
       "6    542\n",
       "5    431\n",
       "7    229\n",
       "8     54\n",
       "4     37\n",
       "3      6\n",
       "9      1\n",
       "Name: quality, dtype: int64"
      ]
     },
     "execution_count": 36,
     "metadata": {},
     "output_type": "execute_result"
    }
   ],
   "source": [
    "y_test.value_counts()"
   ]
  },
  {
   "cell_type": "code",
   "execution_count": 37,
   "metadata": {
    "collapsed": false
   },
   "outputs": [
    {
     "data": {
      "text/plain": [
       "6    706\n",
       "5    403\n",
       "7    164\n",
       "8     21\n",
       "4      6\n",
       "dtype: int64"
      ]
     },
     "execution_count": 37,
     "metadata": {},
     "output_type": "execute_result"
    }
   ],
   "source": [
    "pd.Series(y_pred).value_counts()"
   ]
  },
  {
   "cell_type": "code",
   "execution_count": 38,
   "metadata": {
    "collapsed": false
   },
   "outputs": [
    {
     "data": {
      "text/plain": [
       "6    2294\n",
       "5    1707\n",
       "7     850\n",
       "4     179\n",
       "8     139\n",
       "3      24\n",
       "9       4\n",
       "Name: quality, dtype: int64"
      ]
     },
     "execution_count": 38,
     "metadata": {},
     "output_type": "execute_result"
    }
   ],
   "source": [
    "y_train.value_counts()"
   ]
  },
  {
   "cell_type": "markdown",
   "metadata": {},
   "source": [
    "## Logistic Regression"
   ]
  },
  {
   "cell_type": "code",
   "execution_count": 23,
   "metadata": {
    "collapsed": true
   },
   "outputs": [],
   "source": [
    "from sklearn.linear_model import LogisticRegression"
   ]
  },
  {
   "cell_type": "code",
   "execution_count": 39,
   "metadata": {
    "collapsed": true
   },
   "outputs": [],
   "source": [
    "penalty = ['l1', 'l2']\n",
    "C = [0.001*10**i for i in range(6)]"
   ]
  },
  {
   "cell_type": "code",
   "execution_count": 40,
   "metadata": {
    "collapsed": false
   },
   "outputs": [
    {
     "name": "stdout",
     "output_type": "stream",
     "text": [
      "Results for penalty = l1 and C = 0.001\n",
      "MAE = 0.659230769231\n",
      "Acc. = 0.421538461538\n",
      "\n",
      "Results for penalty = l1 and C = 0.01\n",
      "MAE = 0.616923076923\n",
      "Acc. = 0.467692307692\n",
      "\n",
      "Results for penalty = l1 and C = 0.1\n",
      "MAE = 0.546923076923\n",
      "Acc. = 0.525384615385\n",
      "\n",
      "Results for penalty = l1 and C = 1.0\n",
      "MAE = 0.546153846154\n",
      "Acc. = 0.524615384615\n",
      "\n",
      "Results for penalty = l1 and C = 10.0\n",
      "MAE = 0.547692307692\n",
      "Acc. = 0.522307692308\n",
      "\n",
      "Results for penalty = l1 and C = 100.0\n",
      "MAE = 0.549230769231\n",
      "Acc. = 0.522307692308\n",
      "\n",
      "Results for penalty = l2 and C = 0.001\n",
      "MAE = 0.625384615385\n",
      "Acc. = 0.46\n",
      "\n",
      "Results for penalty = l2 and C = 0.01\n",
      "MAE = 0.58\n",
      "Acc. = 0.499230769231\n",
      "\n",
      "Results for penalty = l2 and C = 0.1\n",
      "MAE = 0.549230769231\n",
      "Acc. = 0.523076923077\n",
      "\n",
      "Results for penalty = l2 and C = 1.0\n",
      "MAE = 0.545384615385\n",
      "Acc. = 0.523846153846\n",
      "\n",
      "Results for penalty = l2 and C = 10.0\n",
      "MAE = 0.545384615385\n",
      "Acc. = 0.524615384615\n",
      "\n",
      "Results for penalty = l2 and C = 100.0\n",
      "MAE = 0.548461538462\n",
      "Acc. = 0.522307692308\n",
      "\n"
     ]
    }
   ],
   "source": [
    "clfs = list()\n",
    "maes = list()\n",
    "params = list()\n",
    "for p in penalty:\n",
    "    for c in C:\n",
    "        params.append([p, c])\n",
    "        clf = LogisticRegression(penalty=p, C=c, n_jobs=-1)\n",
    "        clf.fit(X_train, y_train)\n",
    "        clfs.append(clf)\n",
    "        y_pred = clf.predict(X_test)\n",
    "        print(\"Results for penalty = {} and C = {}\".format(p, c))\n",
    "        mae = mean_absolute_error(y_test, y_pred)\n",
    "        maes.append(mae)\n",
    "        print(\"MAE =\", mae)\n",
    "        print(\"Acc. =\", accuracy_score(y_test, y_pred))\n",
    "        print()"
   ]
  },
  {
   "cell_type": "code",
   "execution_count": 41,
   "metadata": {
    "collapsed": false
   },
   "outputs": [
    {
     "name": "stdout",
     "output_type": "stream",
     "text": [
      "Lowest MAE (0.5453846153846154) with penalty = l2 and C = 1.0\n"
     ]
    }
   ],
   "source": [
    "arg_min = np.argmin(maes)\n",
    "p, c = params[arg_min]\n",
    "print(\"Lowest MAE ({}) with penalty = {} and C = {}\".format(maes[arg_min], p, c))"
   ]
  },
  {
   "cell_type": "code",
   "execution_count": 42,
   "metadata": {
    "collapsed": true
   },
   "outputs": [],
   "source": [
    "y_pred = clfs[arg_min].predict(X_test)"
   ]
  },
  {
   "cell_type": "code",
   "execution_count": 43,
   "metadata": {
    "collapsed": false
   },
   "outputs": [
    {
     "data": {
      "text/plain": [
       "array([[  0,   0,   1,   5,   0,   0,   0],\n",
       "       [  0,   0,  20,  16,   1,   0,   0],\n",
       "       [  0,   0, 251, 180,   0,   0,   0],\n",
       "       [  0,   0, 120, 417,   5,   0,   0],\n",
       "       [  0,   0,   7, 209,  13,   0,   0],\n",
       "       [  0,   0,   3,  46,   5,   0,   0],\n",
       "       [  0,   0,   0,   1,   0,   0,   0]])"
      ]
     },
     "execution_count": 43,
     "metadata": {},
     "output_type": "execute_result"
    }
   ],
   "source": [
    "confusion_matrix(y_test, y_pred)"
   ]
  },
  {
   "cell_type": "code",
   "execution_count": null,
   "metadata": {
    "collapsed": true
   },
   "outputs": [],
   "source": []
  }
 ],
 "metadata": {
  "kernelspec": {
   "display_name": "Python 3",
   "language": "python",
   "name": "python3"
  },
  "language_info": {
   "codemirror_mode": {
    "name": "ipython",
    "version": 3
   },
   "file_extension": ".py",
   "mimetype": "text/x-python",
   "name": "python",
   "nbconvert_exporter": "python",
   "pygments_lexer": "ipython3",
   "version": "3.6.0"
  }
 },
 "nbformat": 4,
 "nbformat_minor": 2
}
