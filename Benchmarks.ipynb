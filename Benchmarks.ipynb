{
 "cells": [
  {
   "cell_type": "markdown",
   "metadata": {},
   "source": [
    "# Benchmarks"
   ]
  },
  {
   "cell_type": "markdown",
   "metadata": {},
   "source": [
    "The purpose of this notebook is to get a rough idea of what are reasonable performance goals for the mean absolute error (MAE). Our approach is to train a couple models and use thier MAEs as a reference.\n",
    "- Random forest classifier\n",
    "- Logistic regression\n",
    "- Guessing at random"
   ]
  },
  {
   "cell_type": "code",
   "execution_count": 1,
   "metadata": {
    "collapsed": true
   },
   "outputs": [],
   "source": [
    "import pandas as pd\n",
    "import numpy as np"
   ]
  },
  {
   "cell_type": "code",
   "execution_count": 2,
   "metadata": {
    "collapsed": true
   },
   "outputs": [],
   "source": [
    "from sklearn.model_selection import train_test_split\n",
    "from sklearn.metrics import mean_absolute_error, accuracy_score, confusion_matrix"
   ]
  },
  {
   "cell_type": "code",
   "execution_count": 71,
   "metadata": {
    "collapsed": true
   },
   "outputs": [],
   "source": [
    "#data = pd.read_csv('data/red_normal.csv')\n",
    "#data = pd.read_csv('data/red_data.csv')\n",
    "#data = pd.read_csv('data/white_normal.csv')\n",
    "#data = pd.read_csv('data/white_data.csv')\n",
    "data = pd.read_csv('data/wine_normal.csv')\n",
    "#data = pd.read_csv('data/wine_data.csv')"
   ]
  },
  {
   "cell_type": "code",
   "execution_count": 72,
   "metadata": {
    "collapsed": false
   },
   "outputs": [
    {
     "data": {
      "text/html": [
       "<div>\n",
       "<table border=\"1\" class=\"dataframe\">\n",
       "  <thead>\n",
       "    <tr style=\"text-align: right;\">\n",
       "      <th></th>\n",
       "      <th>fixed_acidity</th>\n",
       "      <th>volatile_acidity</th>\n",
       "      <th>citric</th>\n",
       "      <th>sugar</th>\n",
       "      <th>chlorides</th>\n",
       "      <th>free_SD</th>\n",
       "      <th>total_SD</th>\n",
       "      <th>density</th>\n",
       "      <th>pH</th>\n",
       "      <th>sulphates</th>\n",
       "      <th>alcohol</th>\n",
       "      <th>type_red</th>\n",
       "      <th>quality</th>\n",
       "    </tr>\n",
       "  </thead>\n",
       "  <tbody>\n",
       "    <tr>\n",
       "      <th>0</th>\n",
       "      <td>-1.564967</td>\n",
       "      <td>-2.115822</td>\n",
       "      <td>-0.613053</td>\n",
       "      <td>-0.412341</td>\n",
       "      <td>-0.381414</td>\n",
       "      <td>-1.025732</td>\n",
       "      <td>-0.973236</td>\n",
       "      <td>0.248294</td>\n",
       "      <td>1.137303</td>\n",
       "      <td>-0.261526</td>\n",
       "      <td>-1.067971</td>\n",
       "      <td>0</td>\n",
       "      <td>5</td>\n",
       "    </tr>\n",
       "    <tr>\n",
       "      <th>1</th>\n",
       "      <td>-0.987675</td>\n",
       "      <td>1.452634</td>\n",
       "      <td>-1.288368</td>\n",
       "      <td>0.404591</td>\n",
       "      <td>-0.391592</td>\n",
       "      <td>0.402953</td>\n",
       "      <td>-0.159545</td>\n",
       "      <td>-0.660550</td>\n",
       "      <td>1.741648</td>\n",
       "      <td>1.367797</td>\n",
       "      <td>1.761353</td>\n",
       "      <td>1</td>\n",
       "      <td>7</td>\n",
       "    </tr>\n",
       "    <tr>\n",
       "      <th>2</th>\n",
       "      <td>-0.772730</td>\n",
       "      <td>1.646757</td>\n",
       "      <td>-0.613053</td>\n",
       "      <td>-0.392625</td>\n",
       "      <td>1.147534</td>\n",
       "      <td>1.335430</td>\n",
       "      <td>1.591586</td>\n",
       "      <td>-0.009153</td>\n",
       "      <td>0.541278</td>\n",
       "      <td>0.264209</td>\n",
       "      <td>-0.580412</td>\n",
       "      <td>0</td>\n",
       "      <td>4</td>\n",
       "    </tr>\n",
       "    <tr>\n",
       "      <th>3</th>\n",
       "      <td>-0.645329</td>\n",
       "      <td>-0.550403</td>\n",
       "      <td>-0.282528</td>\n",
       "      <td>-0.865805</td>\n",
       "      <td>0.433714</td>\n",
       "      <td>-0.578715</td>\n",
       "      <td>-0.432035</td>\n",
       "      <td>-0.664473</td>\n",
       "      <td>0.342604</td>\n",
       "      <td>-0.173903</td>\n",
       "      <td>-0.092853</td>\n",
       "      <td>0</td>\n",
       "      <td>6</td>\n",
       "    </tr>\n",
       "    <tr>\n",
       "      <th>4</th>\n",
       "      <td>-0.298454</td>\n",
       "      <td>-0.583142</td>\n",
       "      <td>2.099702</td>\n",
       "      <td>-0.898276</td>\n",
       "      <td>5.590264</td>\n",
       "      <td>0.489629</td>\n",
       "      <td>0.899821</td>\n",
       "      <td>0.293176</td>\n",
       "      <td>-1.496978</td>\n",
       "      <td>3.845571</td>\n",
       "      <td>-1.053784</td>\n",
       "      <td>1</td>\n",
       "      <td>5</td>\n",
       "    </tr>\n",
       "  </tbody>\n",
       "</table>\n",
       "</div>"
      ],
      "text/plain": [
       "   fixed_acidity  volatile_acidity    citric     sugar  chlorides   free_SD  \\\n",
       "0      -1.564967         -2.115822 -0.613053 -0.412341  -0.381414 -1.025732   \n",
       "1      -0.987675          1.452634 -1.288368  0.404591  -0.391592  0.402953   \n",
       "2      -0.772730          1.646757 -0.613053 -0.392625   1.147534  1.335430   \n",
       "3      -0.645329         -0.550403 -0.282528 -0.865805   0.433714 -0.578715   \n",
       "4      -0.298454         -0.583142  2.099702 -0.898276   5.590264  0.489629   \n",
       "\n",
       "   total_SD   density        pH  sulphates   alcohol  type_red  quality  \n",
       "0 -0.973236  0.248294  1.137303  -0.261526 -1.067971         0        5  \n",
       "1 -0.159545 -0.660550  1.741648   1.367797  1.761353         1        7  \n",
       "2  1.591586 -0.009153  0.541278   0.264209 -0.580412         0        4  \n",
       "3 -0.432035 -0.664473  0.342604  -0.173903 -0.092853         0        6  \n",
       "4  0.899821  0.293176 -1.496978   3.845571 -1.053784         1        5  "
      ]
     },
     "execution_count": 72,
     "metadata": {},
     "output_type": "execute_result"
    }
   ],
   "source": [
    "data.head()"
   ]
  },
  {
   "cell_type": "code",
   "execution_count": 73,
   "metadata": {
    "collapsed": false
   },
   "outputs": [],
   "source": [
    "# Optionally generate interaction features x*y and x**2\n",
    "if False:\n",
    "    from itertools import combinations\n",
    "    \n",
    "    old_features = [name for name in data.columns if not 'type' in name and name != \"quality\"]\n",
    "    \n",
    "    for feature1, feature2 in combinations(old_features, 2):\n",
    "        temp = data[feature1] * data[feature2]\n",
    "        data.insert(data.shape[1]-1, feature1 + 'x' + feature2, temp)\n",
    "\n",
    "    for name in old_features:\n",
    "         data.insert(data.shape[1]-1, name + '**2', data[name]*data[name])   "
   ]
  },
  {
   "cell_type": "code",
   "execution_count": 74,
   "metadata": {
    "collapsed": false
   },
   "outputs": [],
   "source": [
    "X, y = data.ix[:,:-1], data['quality']"
   ]
  },
  {
   "cell_type": "code",
   "execution_count": 75,
   "metadata": {
    "collapsed": false
   },
   "outputs": [
    {
     "data": {
      "text/html": [
       "<div>\n",
       "<table border=\"1\" class=\"dataframe\">\n",
       "  <thead>\n",
       "    <tr style=\"text-align: right;\">\n",
       "      <th></th>\n",
       "      <th>fixed_acidity</th>\n",
       "      <th>volatile_acidity</th>\n",
       "      <th>citric</th>\n",
       "      <th>sugar</th>\n",
       "      <th>chlorides</th>\n",
       "      <th>free_SD</th>\n",
       "      <th>total_SD</th>\n",
       "      <th>density</th>\n",
       "      <th>pH</th>\n",
       "      <th>sulphates</th>\n",
       "      <th>...</th>\n",
       "      <th>volatile_acidity**2</th>\n",
       "      <th>citric**2</th>\n",
       "      <th>sugar**2</th>\n",
       "      <th>chlorides**2</th>\n",
       "      <th>free_SD**2</th>\n",
       "      <th>total_SD**2</th>\n",
       "      <th>density**2</th>\n",
       "      <th>pH**2</th>\n",
       "      <th>sulphates**2</th>\n",
       "      <th>alcohol**2</th>\n",
       "    </tr>\n",
       "  </thead>\n",
       "  <tbody>\n",
       "    <tr>\n",
       "      <th>0</th>\n",
       "      <td>-1.564967</td>\n",
       "      <td>-2.115822</td>\n",
       "      <td>-0.613053</td>\n",
       "      <td>-0.412341</td>\n",
       "      <td>-0.381414</td>\n",
       "      <td>-1.025732</td>\n",
       "      <td>-0.973236</td>\n",
       "      <td>0.248294</td>\n",
       "      <td>1.137303</td>\n",
       "      <td>-0.261526</td>\n",
       "      <td>...</td>\n",
       "      <td>4.476701</td>\n",
       "      <td>0.375834</td>\n",
       "      <td>0.170025</td>\n",
       "      <td>0.145477</td>\n",
       "      <td>1.052125</td>\n",
       "      <td>0.947189</td>\n",
       "      <td>0.061650</td>\n",
       "      <td>1.293457</td>\n",
       "      <td>0.068396</td>\n",
       "      <td>1.140562</td>\n",
       "    </tr>\n",
       "    <tr>\n",
       "      <th>1</th>\n",
       "      <td>-0.987675</td>\n",
       "      <td>1.452634</td>\n",
       "      <td>-1.288368</td>\n",
       "      <td>0.404591</td>\n",
       "      <td>-0.391592</td>\n",
       "      <td>0.402953</td>\n",
       "      <td>-0.159545</td>\n",
       "      <td>-0.660550</td>\n",
       "      <td>1.741648</td>\n",
       "      <td>1.367797</td>\n",
       "      <td>...</td>\n",
       "      <td>2.110146</td>\n",
       "      <td>1.659893</td>\n",
       "      <td>0.163694</td>\n",
       "      <td>0.153344</td>\n",
       "      <td>0.162371</td>\n",
       "      <td>0.025454</td>\n",
       "      <td>0.436327</td>\n",
       "      <td>3.033336</td>\n",
       "      <td>1.870869</td>\n",
       "      <td>3.102365</td>\n",
       "    </tr>\n",
       "    <tr>\n",
       "      <th>2</th>\n",
       "      <td>-0.772730</td>\n",
       "      <td>1.646757</td>\n",
       "      <td>-0.613053</td>\n",
       "      <td>-0.392625</td>\n",
       "      <td>1.147534</td>\n",
       "      <td>1.335430</td>\n",
       "      <td>1.591586</td>\n",
       "      <td>-0.009153</td>\n",
       "      <td>0.541278</td>\n",
       "      <td>0.264209</td>\n",
       "      <td>...</td>\n",
       "      <td>2.711808</td>\n",
       "      <td>0.375834</td>\n",
       "      <td>0.154154</td>\n",
       "      <td>1.316835</td>\n",
       "      <td>1.783373</td>\n",
       "      <td>2.533147</td>\n",
       "      <td>0.000084</td>\n",
       "      <td>0.292982</td>\n",
       "      <td>0.069807</td>\n",
       "      <td>0.336878</td>\n",
       "    </tr>\n",
       "    <tr>\n",
       "      <th>3</th>\n",
       "      <td>-0.645329</td>\n",
       "      <td>-0.550403</td>\n",
       "      <td>-0.282528</td>\n",
       "      <td>-0.865805</td>\n",
       "      <td>0.433714</td>\n",
       "      <td>-0.578715</td>\n",
       "      <td>-0.432035</td>\n",
       "      <td>-0.664473</td>\n",
       "      <td>0.342604</td>\n",
       "      <td>-0.173903</td>\n",
       "      <td>...</td>\n",
       "      <td>0.302943</td>\n",
       "      <td>0.079822</td>\n",
       "      <td>0.749619</td>\n",
       "      <td>0.188108</td>\n",
       "      <td>0.334911</td>\n",
       "      <td>0.186654</td>\n",
       "      <td>0.441524</td>\n",
       "      <td>0.117377</td>\n",
       "      <td>0.030242</td>\n",
       "      <td>0.008622</td>\n",
       "    </tr>\n",
       "    <tr>\n",
       "      <th>4</th>\n",
       "      <td>-0.298454</td>\n",
       "      <td>-0.583142</td>\n",
       "      <td>2.099702</td>\n",
       "      <td>-0.898276</td>\n",
       "      <td>5.590264</td>\n",
       "      <td>0.489629</td>\n",
       "      <td>0.899821</td>\n",
       "      <td>0.293176</td>\n",
       "      <td>-1.496978</td>\n",
       "      <td>3.845571</td>\n",
       "      <td>...</td>\n",
       "      <td>0.340055</td>\n",
       "      <td>4.408750</td>\n",
       "      <td>0.806900</td>\n",
       "      <td>31.251051</td>\n",
       "      <td>0.239736</td>\n",
       "      <td>0.809677</td>\n",
       "      <td>0.085952</td>\n",
       "      <td>2.240944</td>\n",
       "      <td>14.788418</td>\n",
       "      <td>1.110460</td>\n",
       "    </tr>\n",
       "  </tbody>\n",
       "</table>\n",
       "<p>5 rows × 78 columns</p>\n",
       "</div>"
      ],
      "text/plain": [
       "   fixed_acidity  volatile_acidity    citric     sugar  chlorides   free_SD  \\\n",
       "0      -1.564967         -2.115822 -0.613053 -0.412341  -0.381414 -1.025732   \n",
       "1      -0.987675          1.452634 -1.288368  0.404591  -0.391592  0.402953   \n",
       "2      -0.772730          1.646757 -0.613053 -0.392625   1.147534  1.335430   \n",
       "3      -0.645329         -0.550403 -0.282528 -0.865805   0.433714 -0.578715   \n",
       "4      -0.298454         -0.583142  2.099702 -0.898276   5.590264  0.489629   \n",
       "\n",
       "   total_SD   density        pH  sulphates     ...      volatile_acidity**2  \\\n",
       "0 -0.973236  0.248294  1.137303  -0.261526     ...                 4.476701   \n",
       "1 -0.159545 -0.660550  1.741648   1.367797     ...                 2.110146   \n",
       "2  1.591586 -0.009153  0.541278   0.264209     ...                 2.711808   \n",
       "3 -0.432035 -0.664473  0.342604  -0.173903     ...                 0.302943   \n",
       "4  0.899821  0.293176 -1.496978   3.845571     ...                 0.340055   \n",
       "\n",
       "   citric**2  sugar**2  chlorides**2  free_SD**2  total_SD**2  density**2  \\\n",
       "0   0.375834  0.170025      0.145477    1.052125     0.947189    0.061650   \n",
       "1   1.659893  0.163694      0.153344    0.162371     0.025454    0.436327   \n",
       "2   0.375834  0.154154      1.316835    1.783373     2.533147    0.000084   \n",
       "3   0.079822  0.749619      0.188108    0.334911     0.186654    0.441524   \n",
       "4   4.408750  0.806900     31.251051    0.239736     0.809677    0.085952   \n",
       "\n",
       "      pH**2  sulphates**2  alcohol**2  \n",
       "0  1.293457      0.068396    1.140562  \n",
       "1  3.033336      1.870869    3.102365  \n",
       "2  0.292982      0.069807    0.336878  \n",
       "3  0.117377      0.030242    0.008622  \n",
       "4  2.240944     14.788418    1.110460  \n",
       "\n",
       "[5 rows x 78 columns]"
      ]
     },
     "execution_count": 75,
     "metadata": {},
     "output_type": "execute_result"
    }
   ],
   "source": [
    "X.head()"
   ]
  },
  {
   "cell_type": "markdown",
   "metadata": {},
   "source": [
    "## Random Forest Classifier"
   ]
  },
  {
   "cell_type": "code",
   "execution_count": 76,
   "metadata": {
    "collapsed": true
   },
   "outputs": [],
   "source": [
    "X_train, X_test, y_train, y_test = train_test_split(X, y, train_size=0.8)"
   ]
  },
  {
   "cell_type": "code",
   "execution_count": 77,
   "metadata": {
    "collapsed": true
   },
   "outputs": [],
   "source": [
    "from sklearn.ensemble import RandomForestClassifier"
   ]
  },
  {
   "cell_type": "code",
   "execution_count": 78,
   "metadata": {
    "collapsed": true
   },
   "outputs": [],
   "source": [
    "clf = RandomForestClassifier(n_estimators=500,\n",
    "                             max_depth=25,\n",
    "                             min_samples_split=2,\n",
    "                             min_samples_leaf=1,\n",
    "                             max_features='auto')"
   ]
  },
  {
   "cell_type": "code",
   "execution_count": 79,
   "metadata": {
    "collapsed": false
   },
   "outputs": [
    {
     "data": {
      "text/plain": [
       "RandomForestClassifier(bootstrap=True, class_weight=None, criterion='gini',\n",
       "            max_depth=25, max_features='auto', max_leaf_nodes=None,\n",
       "            min_impurity_split=1e-07, min_samples_leaf=1,\n",
       "            min_samples_split=2, min_weight_fraction_leaf=0.0,\n",
       "            n_estimators=500, n_jobs=1, oob_score=False, random_state=None,\n",
       "            verbose=0, warm_start=False)"
      ]
     },
     "execution_count": 79,
     "metadata": {},
     "output_type": "execute_result"
    }
   ],
   "source": [
    "clf.fit(X_train, y_train)"
   ]
  },
  {
   "cell_type": "code",
   "execution_count": 80,
   "metadata": {
    "collapsed": true
   },
   "outputs": [],
   "source": [
    "y_pred = clf.predict(X_test)"
   ]
  },
  {
   "cell_type": "code",
   "execution_count": 81,
   "metadata": {
    "collapsed": false
   },
   "outputs": [
    {
     "name": "stdout",
     "output_type": "stream",
     "text": [
      "MAE = 0.366923076923\n",
      "Acc. = 0.685384615385\n"
     ]
    }
   ],
   "source": [
    "print(\"MAE =\", mean_absolute_error(y_test, y_pred))\n",
    "print(\"Acc. =\", accuracy_score(y_test, y_pred))"
   ]
  },
  {
   "cell_type": "code",
   "execution_count": 82,
   "metadata": {
    "collapsed": false
   },
   "outputs": [
    {
     "data": {
      "text/plain": [
       "array([[  0,   0,   6,   5,   0,   0],\n",
       "       [  0,   7,  30,  20,   0,   0],\n",
       "       [  0,   2, 301, 126,   2,   0],\n",
       "       [  0,   0,  72, 460,  29,   0],\n",
       "       [  0,   0,   8,  79, 110,   0],\n",
       "       [  0,   0,   1,  20,   9,  13]])"
      ]
     },
     "execution_count": 82,
     "metadata": {},
     "output_type": "execute_result"
    }
   ],
   "source": [
    "confusion_matrix(y_test, y_pred)"
   ]
  },
  {
   "cell_type": "code",
   "execution_count": 83,
   "metadata": {
    "collapsed": false
   },
   "outputs": [
    {
     "data": {
      "text/plain": [
       "6    561\n",
       "5    431\n",
       "7    197\n",
       "4     57\n",
       "8     43\n",
       "3     11\n",
       "Name: quality, dtype: int64"
      ]
     },
     "execution_count": 83,
     "metadata": {},
     "output_type": "execute_result"
    }
   ],
   "source": [
    "y_test.value_counts()"
   ]
  },
  {
   "cell_type": "code",
   "execution_count": 84,
   "metadata": {
    "collapsed": false
   },
   "outputs": [
    {
     "data": {
      "text/plain": [
       "6    710\n",
       "5    418\n",
       "7    150\n",
       "8     13\n",
       "4      9\n",
       "dtype: int64"
      ]
     },
     "execution_count": 84,
     "metadata": {},
     "output_type": "execute_result"
    }
   ],
   "source": [
    "pd.Series(y_pred).value_counts()"
   ]
  },
  {
   "cell_type": "code",
   "execution_count": 85,
   "metadata": {
    "collapsed": false
   },
   "outputs": [
    {
     "data": {
      "text/plain": [
       "6    2275\n",
       "5    1707\n",
       "7     882\n",
       "4     159\n",
       "8     150\n",
       "3      19\n",
       "9       5\n",
       "Name: quality, dtype: int64"
      ]
     },
     "execution_count": 85,
     "metadata": {},
     "output_type": "execute_result"
    }
   ],
   "source": [
    "y_train.value_counts()"
   ]
  },
  {
   "cell_type": "markdown",
   "metadata": {},
   "source": [
    "## Logistic Regression"
   ]
  },
  {
   "cell_type": "code",
   "execution_count": 86,
   "metadata": {
    "collapsed": true
   },
   "outputs": [],
   "source": [
    "from sklearn.linear_model import LogisticRegression"
   ]
  },
  {
   "cell_type": "code",
   "execution_count": 87,
   "metadata": {
    "collapsed": true
   },
   "outputs": [],
   "source": [
    "penalty = ['l1', 'l2']\n",
    "C = [0.001*10**i for i in range(6)]"
   ]
  },
  {
   "cell_type": "code",
   "execution_count": 88,
   "metadata": {
    "collapsed": false
   },
   "outputs": [
    {
     "name": "stdout",
     "output_type": "stream",
     "text": [
      "Results for penalty = l1 and C = 0.001\n",
      "MAE = 0.662307692308\n",
      "Acc. = 0.431538461538\n",
      "\n",
      "Results for penalty = l1 and C = 0.01\n",
      "MAE = 0.539230769231\n",
      "Acc. = 0.530769230769\n",
      "\n",
      "Results for penalty = l1 and C = 0.1\n",
      "MAE = 0.510769230769\n",
      "Acc. = 0.55\n",
      "\n",
      "Results for penalty = l1 and C = 1.0\n",
      "MAE = 0.514615384615\n",
      "Acc. = 0.547692307692\n",
      "\n",
      "Results for penalty = l1 and C = 10.0\n",
      "MAE = 0.523846153846\n",
      "Acc. = 0.543076923077\n",
      "\n",
      "Results for penalty = l1 and C = 100.0\n",
      "MAE = 0.521538461538\n",
      "Acc. = 0.545384615385\n",
      "\n",
      "Results for penalty = l2 and C = 0.001\n",
      "MAE = 0.536923076923\n",
      "Acc. = 0.536923076923\n",
      "\n",
      "Results for penalty = l2 and C = 0.01\n",
      "MAE = 0.520769230769\n",
      "Acc. = 0.545384615385\n",
      "\n",
      "Results for penalty = l2 and C = 0.1\n",
      "MAE = 0.513076923077\n",
      "Acc. = 0.548461538462\n",
      "\n",
      "Results for penalty = l2 and C = 1.0\n",
      "MAE = 0.519230769231\n",
      "Acc. = 0.543846153846\n",
      "\n",
      "Results for penalty = l2 and C = 10.0\n",
      "MAE = 0.52\n",
      "Acc. = 0.543846153846\n",
      "\n",
      "Results for penalty = l2 and C = 100.0\n",
      "MAE = 0.525384615385\n",
      "Acc. = 0.543846153846\n",
      "\n"
     ]
    }
   ],
   "source": [
    "clfs = list()\n",
    "maes = list()\n",
    "params = list()\n",
    "for p in penalty:\n",
    "    for c in C:\n",
    "        params.append([p, c])\n",
    "        clf = LogisticRegression(penalty=p, C=c, n_jobs=-1)\n",
    "        clf.fit(X_train, y_train)\n",
    "        clfs.append(clf)\n",
    "        y_pred = clf.predict(X_test)\n",
    "        print(\"Results for penalty = {} and C = {}\".format(p, c))\n",
    "        mae = mean_absolute_error(y_test, y_pred)\n",
    "        maes.append(mae)\n",
    "        print(\"MAE =\", mae)\n",
    "        print(\"Acc. =\", accuracy_score(y_test, y_pred))\n",
    "        print()"
   ]
  },
  {
   "cell_type": "code",
   "execution_count": 89,
   "metadata": {
    "collapsed": false
   },
   "outputs": [
    {
     "name": "stdout",
     "output_type": "stream",
     "text": [
      "Lowest MAE (0.5107692307692308) with penalty = l1 and C = 0.1\n"
     ]
    }
   ],
   "source": [
    "arg_min = np.argmin(maes)\n",
    "p, c = params[arg_min]\n",
    "print(\"Lowest MAE ({}) with penalty = {} and C = {}\".format(maes[arg_min], p, c))"
   ]
  },
  {
   "cell_type": "code",
   "execution_count": 90,
   "metadata": {
    "collapsed": true
   },
   "outputs": [],
   "source": [
    "y_pred = clfs[arg_min].predict(X_test)"
   ]
  },
  {
   "cell_type": "code",
   "execution_count": 91,
   "metadata": {
    "collapsed": false
   },
   "outputs": [
    {
     "data": {
      "text/plain": [
       "array([[  0,   1,   5,   5,   0,   0],\n",
       "       [  0,   6,  32,  17,   2,   0],\n",
       "       [  0,   2, 267, 156,   6,   0],\n",
       "       [  0,   0, 134, 390,  37,   0],\n",
       "       [  0,   0,  11, 134,  52,   0],\n",
       "       [  0,   0,   1,  24,  18,   0]])"
      ]
     },
     "execution_count": 91,
     "metadata": {},
     "output_type": "execute_result"
    }
   ],
   "source": [
    "confusion_matrix(y_test, y_pred)"
   ]
  },
  {
   "cell_type": "code",
   "execution_count": 92,
   "metadata": {
    "collapsed": false
   },
   "outputs": [
    {
     "data": {
      "text/plain": [
       "6    561\n",
       "5    431\n",
       "7    197\n",
       "4     57\n",
       "8     43\n",
       "3     11\n",
       "Name: quality, dtype: int64"
      ]
     },
     "execution_count": 92,
     "metadata": {},
     "output_type": "execute_result"
    }
   ],
   "source": [
    "y_test.value_counts()"
   ]
  },
  {
   "cell_type": "code",
   "execution_count": 93,
   "metadata": {
    "collapsed": false
   },
   "outputs": [
    {
     "data": {
      "text/plain": [
       "6    726\n",
       "5    450\n",
       "7    115\n",
       "4      9\n",
       "dtype: int64"
      ]
     },
     "execution_count": 93,
     "metadata": {},
     "output_type": "execute_result"
    }
   ],
   "source": [
    "pd.Series(y_pred).value_counts()"
   ]
  },
  {
   "cell_type": "code",
   "execution_count": 94,
   "metadata": {
    "collapsed": false
   },
   "outputs": [
    {
     "data": {
      "text/plain": [
       "6    2275\n",
       "5    1707\n",
       "7     882\n",
       "4     159\n",
       "8     150\n",
       "3      19\n",
       "9       5\n",
       "Name: quality, dtype: int64"
      ]
     },
     "execution_count": 94,
     "metadata": {},
     "output_type": "execute_result"
    }
   ],
   "source": [
    "y_train.value_counts()"
   ]
  },
  {
   "cell_type": "markdown",
   "metadata": {},
   "source": [
    "## Radom Guessing"
   ]
  },
  {
   "cell_type": "code",
   "execution_count": 95,
   "metadata": {
    "collapsed": false
   },
   "outputs": [],
   "source": [
    "y_pred = []\n",
    "for _ in range(len(y_test)):\n",
    "    # We randomly guess a wine score in [5, 7]\n",
    "    y_pred.append(np.random.randint(5,8))"
   ]
  },
  {
   "cell_type": "code",
   "execution_count": 96,
   "metadata": {
    "collapsed": false
   },
   "outputs": [
    {
     "name": "stdout",
     "output_type": "stream",
     "text": [
      "MAE = 0.954615384615\n",
      "Acc. = 0.300769230769\n"
     ]
    }
   ],
   "source": [
    "print(\"MAE =\", mean_absolute_error(y_test, y_pred))\n",
    "print(\"Acc. =\", accuracy_score(y_test, y_pred))"
   ]
  }
 ],
 "metadata": {
  "kernelspec": {
   "display_name": "Python 3",
   "language": "python",
   "name": "python3"
  },
  "language_info": {
   "codemirror_mode": {
    "name": "ipython",
    "version": 3
   },
   "file_extension": ".py",
   "mimetype": "text/x-python",
   "name": "python",
   "nbconvert_exporter": "python",
   "pygments_lexer": "ipython3",
   "version": "3.6.0"
  }
 },
 "nbformat": 4,
 "nbformat_minor": 2
}
