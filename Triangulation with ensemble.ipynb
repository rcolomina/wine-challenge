{
 "cells": [
  {
   "cell_type": "markdown",
   "metadata": {},
   "source": [
    "# Introduction"
   ]
  },
  {
   "cell_type": "code",
   "execution_count": 1,
   "metadata": {
    "collapsed": true
   },
   "outputs": [],
   "source": [
    "import pandas as pd\n",
    "import numpy as np"
   ]
  },
  {
   "cell_type": "code",
   "execution_count": 2,
   "metadata": {
    "collapsed": true
   },
   "outputs": [],
   "source": [
    "from sklearn.cross_decomposition import PLSRegression, PLSSVD\n",
    "from sklearn.linear_model import LogisticRegression\n",
    "from sklearn.metrics import mean_absolute_error, accuracy_score, confusion_matrix"
   ]
  },
  {
   "cell_type": "code",
   "execution_count": 3,
   "metadata": {
    "collapsed": false
   },
   "outputs": [
    {
     "data": {
      "text/html": [
       "<div>\n",
       "<table border=\"1\" class=\"dataframe\">\n",
       "  <thead>\n",
       "    <tr style=\"text-align: right;\">\n",
       "      <th></th>\n",
       "      <th>fixed_acidity</th>\n",
       "      <th>volatile_acidity</th>\n",
       "      <th>citric</th>\n",
       "      <th>sugar</th>\n",
       "      <th>chlorides</th>\n",
       "      <th>free_SD</th>\n",
       "      <th>total_SD</th>\n",
       "      <th>density</th>\n",
       "      <th>pH</th>\n",
       "      <th>sulphates</th>\n",
       "      <th>alcohol</th>\n",
       "      <th>quality</th>\n",
       "    </tr>\n",
       "  </thead>\n",
       "  <tbody>\n",
       "    <tr>\n",
       "      <th>0</th>\n",
       "      <td>-0.528194</td>\n",
       "      <td>0.981974</td>\n",
       "      <td>-1.391037</td>\n",
       "      <td>-0.590653</td>\n",
       "      <td>-0.231744</td>\n",
       "      <td>-0.247049</td>\n",
       "      <td>-0.159545</td>\n",
       "      <td>0.558100</td>\n",
       "      <td>1.288240</td>\n",
       "      <td>-0.579025</td>\n",
       "      <td>-0.959946</td>\n",
       "      <td>5</td>\n",
       "    </tr>\n",
       "    <tr>\n",
       "      <th>1</th>\n",
       "      <td>-0.298454</td>\n",
       "      <td>1.693658</td>\n",
       "      <td>-1.391037</td>\n",
       "      <td>0.296646</td>\n",
       "      <td>0.535000</td>\n",
       "      <td>0.992454</td>\n",
       "      <td>0.854271</td>\n",
       "      <td>0.028252</td>\n",
       "      <td>-0.719708</td>\n",
       "      <td>0.128910</td>\n",
       "      <td>-0.584594</td>\n",
       "      <td>5</td>\n",
       "    </tr>\n",
       "    <tr>\n",
       "      <th>2</th>\n",
       "      <td>-0.298454</td>\n",
       "      <td>1.235222</td>\n",
       "      <td>-1.185699</td>\n",
       "      <td>-0.052744</td>\n",
       "      <td>0.342271</td>\n",
       "      <td>0.214135</td>\n",
       "      <td>0.523767</td>\n",
       "      <td>0.134222</td>\n",
       "      <td>-0.331073</td>\n",
       "      <td>-0.048074</td>\n",
       "      <td>-0.584594</td>\n",
       "      <td>5</td>\n",
       "    </tr>\n",
       "    <tr>\n",
       "      <th>3</th>\n",
       "      <td>1.654339</td>\n",
       "      <td>-1.592344</td>\n",
       "      <td>1.483689</td>\n",
       "      <td>-0.590653</td>\n",
       "      <td>-0.271015</td>\n",
       "      <td>0.402953</td>\n",
       "      <td>0.684389</td>\n",
       "      <td>0.664069</td>\n",
       "      <td>-0.978798</td>\n",
       "      <td>-0.461036</td>\n",
       "      <td>-0.584594</td>\n",
       "      <td>6</td>\n",
       "    </tr>\n",
       "    <tr>\n",
       "      <th>4</th>\n",
       "      <td>-0.528194</td>\n",
       "      <td>0.981974</td>\n",
       "      <td>-1.391037</td>\n",
       "      <td>-0.590653</td>\n",
       "      <td>-0.231744</td>\n",
       "      <td>-0.247049</td>\n",
       "      <td>-0.159545</td>\n",
       "      <td>0.558100</td>\n",
       "      <td>1.288240</td>\n",
       "      <td>-0.579025</td>\n",
       "      <td>-0.959946</td>\n",
       "      <td>5</td>\n",
       "    </tr>\n",
       "  </tbody>\n",
       "</table>\n",
       "</div>"
      ],
      "text/plain": [
       "   fixed_acidity  volatile_acidity    citric     sugar  chlorides   free_SD  \\\n",
       "0      -0.528194          0.981974 -1.391037 -0.590653  -0.231744 -0.247049   \n",
       "1      -0.298454          1.693658 -1.391037  0.296646   0.535000  0.992454   \n",
       "2      -0.298454          1.235222 -1.185699 -0.052744   0.342271  0.214135   \n",
       "3       1.654339         -1.592344  1.483689 -0.590653  -0.271015  0.402953   \n",
       "4      -0.528194          0.981974 -1.391037 -0.590653  -0.231744 -0.247049   \n",
       "\n",
       "   total_SD   density        pH  sulphates   alcohol  quality  \n",
       "0 -0.159545  0.558100  1.288240  -0.579025 -0.959946        5  \n",
       "1  0.854271  0.028252 -0.719708   0.128910 -0.584594        5  \n",
       "2  0.523767  0.134222 -0.331073  -0.048074 -0.584594        5  \n",
       "3  0.684389  0.664069 -0.978798  -0.461036 -0.584594        6  \n",
       "4 -0.159545  0.558100  1.288240  -0.579025 -0.959946        5  "
      ]
     },
     "execution_count": 3,
     "metadata": {},
     "output_type": "execute_result"
    }
   ],
   "source": [
    "data = pd.read_csv('data/red_normal.csv') #<---\n",
    "#data = pd.read_csv('data/red_data.csv')\n",
    "#data = pd.read_csv('data/white_normal.csv')\n",
    "#data = pd.read_csv('data/white_data.csv')\n",
    "#data = pd.read_csv('data/wine_normal.csv')\n",
    "#data = pd.read_csv('data/wine_data.csv')\n",
    "data.head()"
   ]
  },
  {
   "cell_type": "code",
   "execution_count": 4,
   "metadata": {
    "collapsed": false
   },
   "outputs": [
    {
     "data": {
      "text/plain": [
       "(1599, 12)"
      ]
     },
     "execution_count": 4,
     "metadata": {},
     "output_type": "execute_result"
    }
   ],
   "source": [
    "data.shape"
   ]
  },
  {
   "cell_type": "code",
   "execution_count": 5,
   "metadata": {
    "collapsed": true
   },
   "outputs": [],
   "source": [
    "X, y = data.ix[:,:-1], data['quality']"
   ]
  },
  {
   "cell_type": "code",
   "execution_count": 6,
   "metadata": {
    "collapsed": false
   },
   "outputs": [],
   "source": [
    "pls_flag = True\n",
    "interaction_flag = True"
   ]
  },
  {
   "cell_type": "markdown",
   "metadata": {},
   "source": [
    "Our approach is to think about the train as points sitting in $\\mathbb R^{12}$ and we conjecture that they have some structure in the form of lower dimensional shape. To have a more concrete visualization, think about $\\mathbb R^3$ an our train might have the shape of a sphere, a torus, a bent sheet of paper etc.\n",
    "\n",
    "Obviously, the train is going to be pretty irregular and we don't expect it to form a really nice submanifold. Nonetheless, we draw from the notion of a triangulation from geometry. Roughly, it says that we can approximate any shape by only using linear pieces without changing the geometric properties too much.\n",
    "\n",
    "To translate this into our setting, we are going to divide the ranges of the features into a grid and for each small piece we are going to find a linear model to predict the quality. Given a new example, we only need to find where it lies on the grid and make a prediction using the closest model."
   ]
  },
  {
   "cell_type": "code",
   "execution_count": 7,
   "metadata": {
    "collapsed": false
   },
   "outputs": [],
   "source": [
    "# Optionally generate interaction features\n",
    "if interaction_flag:\n",
    "    from itertools import combinations_with_replacement\n",
    "    from functools import reduce\n",
    "    old_features = [name for name in X.columns if not 'type' in name]\n",
    "    for combination in combinations_with_replacement(old_features, 4): # for red degree = 3 works best\n",
    "        temp = reduce(lambda x, y: x*y, map(lambda x: X[x], combination))\n",
    "        X.insert(X.shape[1]-1, '*'.join(combination), temp) "
   ]
  },
  {
   "cell_type": "code",
   "execution_count": 8,
   "metadata": {
    "collapsed": false
   },
   "outputs": [
    {
     "data": {
      "text/html": [
       "<div>\n",
       "<table border=\"1\" class=\"dataframe\">\n",
       "  <thead>\n",
       "    <tr style=\"text-align: right;\">\n",
       "      <th></th>\n",
       "      <th>fixed_acidity</th>\n",
       "      <th>volatile_acidity</th>\n",
       "      <th>citric</th>\n",
       "      <th>sugar</th>\n",
       "      <th>chlorides</th>\n",
       "      <th>free_SD</th>\n",
       "      <th>total_SD</th>\n",
       "      <th>density</th>\n",
       "      <th>pH</th>\n",
       "      <th>sulphates</th>\n",
       "      <th>...</th>\n",
       "      <th>pH*sulphates*sulphates*sulphates</th>\n",
       "      <th>pH*sulphates*sulphates*alcohol</th>\n",
       "      <th>pH*sulphates*alcohol*alcohol</th>\n",
       "      <th>pH*alcohol*alcohol*alcohol</th>\n",
       "      <th>sulphates*sulphates*sulphates*sulphates</th>\n",
       "      <th>sulphates*sulphates*sulphates*alcohol</th>\n",
       "      <th>sulphates*sulphates*alcohol*alcohol</th>\n",
       "      <th>sulphates*alcohol*alcohol*alcohol</th>\n",
       "      <th>alcohol*alcohol*alcohol*alcohol</th>\n",
       "      <th>alcohol</th>\n",
       "    </tr>\n",
       "  </thead>\n",
       "  <tbody>\n",
       "    <tr>\n",
       "      <th>0</th>\n",
       "      <td>-0.528194</td>\n",
       "      <td>0.981974</td>\n",
       "      <td>-1.391037</td>\n",
       "      <td>-0.590653</td>\n",
       "      <td>-0.231744</td>\n",
       "      <td>-0.247049</td>\n",
       "      <td>-0.159545</td>\n",
       "      <td>0.558100</td>\n",
       "      <td>1.288240</td>\n",
       "      <td>-0.579025</td>\n",
       "      <td>...</td>\n",
       "      <td>-0.250086</td>\n",
       "      <td>-0.414609</td>\n",
       "      <td>-0.687366</td>\n",
       "      <td>-1.139559</td>\n",
       "      <td>0.112406</td>\n",
       "      <td>0.186354</td>\n",
       "      <td>0.308950</td>\n",
       "      <td>0.512198</td>\n",
       "      <td>0.849155</td>\n",
       "      <td>-0.959946</td>\n",
       "    </tr>\n",
       "    <tr>\n",
       "      <th>1</th>\n",
       "      <td>-0.298454</td>\n",
       "      <td>1.693658</td>\n",
       "      <td>-1.391037</td>\n",
       "      <td>0.296646</td>\n",
       "      <td>0.535000</td>\n",
       "      <td>0.992454</td>\n",
       "      <td>0.854271</td>\n",
       "      <td>0.028252</td>\n",
       "      <td>-0.719708</td>\n",
       "      <td>0.128910</td>\n",
       "      <td>...</td>\n",
       "      <td>-0.001542</td>\n",
       "      <td>0.006992</td>\n",
       "      <td>-0.031707</td>\n",
       "      <td>0.143787</td>\n",
       "      <td>0.000276</td>\n",
       "      <td>-0.001252</td>\n",
       "      <td>0.005679</td>\n",
       "      <td>-0.025754</td>\n",
       "      <td>0.116793</td>\n",
       "      <td>-0.584594</td>\n",
       "    </tr>\n",
       "    <tr>\n",
       "      <th>2</th>\n",
       "      <td>-0.298454</td>\n",
       "      <td>1.235222</td>\n",
       "      <td>-1.185699</td>\n",
       "      <td>-0.052744</td>\n",
       "      <td>0.342271</td>\n",
       "      <td>0.214135</td>\n",
       "      <td>0.523767</td>\n",
       "      <td>0.134222</td>\n",
       "      <td>-0.331073</td>\n",
       "      <td>-0.048074</td>\n",
       "      <td>...</td>\n",
       "      <td>0.000037</td>\n",
       "      <td>0.000447</td>\n",
       "      <td>0.005439</td>\n",
       "      <td>0.066144</td>\n",
       "      <td>0.000005</td>\n",
       "      <td>0.000065</td>\n",
       "      <td>0.000790</td>\n",
       "      <td>0.009604</td>\n",
       "      <td>0.116793</td>\n",
       "      <td>-0.584594</td>\n",
       "    </tr>\n",
       "    <tr>\n",
       "      <th>3</th>\n",
       "      <td>1.654339</td>\n",
       "      <td>-1.592344</td>\n",
       "      <td>1.483689</td>\n",
       "      <td>-0.590653</td>\n",
       "      <td>-0.271015</td>\n",
       "      <td>0.402953</td>\n",
       "      <td>0.684389</td>\n",
       "      <td>0.664069</td>\n",
       "      <td>-0.978798</td>\n",
       "      <td>-0.461036</td>\n",
       "      <td>...</td>\n",
       "      <td>0.095918</td>\n",
       "      <td>0.121624</td>\n",
       "      <td>0.154219</td>\n",
       "      <td>0.195550</td>\n",
       "      <td>0.045179</td>\n",
       "      <td>0.057287</td>\n",
       "      <td>0.072641</td>\n",
       "      <td>0.092108</td>\n",
       "      <td>0.116793</td>\n",
       "      <td>-0.584594</td>\n",
       "    </tr>\n",
       "    <tr>\n",
       "      <th>4</th>\n",
       "      <td>-0.528194</td>\n",
       "      <td>0.981974</td>\n",
       "      <td>-1.391037</td>\n",
       "      <td>-0.590653</td>\n",
       "      <td>-0.231744</td>\n",
       "      <td>-0.247049</td>\n",
       "      <td>-0.159545</td>\n",
       "      <td>0.558100</td>\n",
       "      <td>1.288240</td>\n",
       "      <td>-0.579025</td>\n",
       "      <td>...</td>\n",
       "      <td>-0.250086</td>\n",
       "      <td>-0.414609</td>\n",
       "      <td>-0.687366</td>\n",
       "      <td>-1.139559</td>\n",
       "      <td>0.112406</td>\n",
       "      <td>0.186354</td>\n",
       "      <td>0.308950</td>\n",
       "      <td>0.512198</td>\n",
       "      <td>0.849155</td>\n",
       "      <td>-0.959946</td>\n",
       "    </tr>\n",
       "  </tbody>\n",
       "</table>\n",
       "<p>5 rows × 1012 columns</p>\n",
       "</div>"
      ],
      "text/plain": [
       "   fixed_acidity  volatile_acidity    citric     sugar  chlorides   free_SD  \\\n",
       "0      -0.528194          0.981974 -1.391037 -0.590653  -0.231744 -0.247049   \n",
       "1      -0.298454          1.693658 -1.391037  0.296646   0.535000  0.992454   \n",
       "2      -0.298454          1.235222 -1.185699 -0.052744   0.342271  0.214135   \n",
       "3       1.654339         -1.592344  1.483689 -0.590653  -0.271015  0.402953   \n",
       "4      -0.528194          0.981974 -1.391037 -0.590653  -0.231744 -0.247049   \n",
       "\n",
       "   total_SD   density        pH  sulphates    ...     \\\n",
       "0 -0.159545  0.558100  1.288240  -0.579025    ...      \n",
       "1  0.854271  0.028252 -0.719708   0.128910    ...      \n",
       "2  0.523767  0.134222 -0.331073  -0.048074    ...      \n",
       "3  0.684389  0.664069 -0.978798  -0.461036    ...      \n",
       "4 -0.159545  0.558100  1.288240  -0.579025    ...      \n",
       "\n",
       "   pH*sulphates*sulphates*sulphates  pH*sulphates*sulphates*alcohol  \\\n",
       "0                         -0.250086                       -0.414609   \n",
       "1                         -0.001542                        0.006992   \n",
       "2                          0.000037                        0.000447   \n",
       "3                          0.095918                        0.121624   \n",
       "4                         -0.250086                       -0.414609   \n",
       "\n",
       "   pH*sulphates*alcohol*alcohol  pH*alcohol*alcohol*alcohol  \\\n",
       "0                     -0.687366                   -1.139559   \n",
       "1                     -0.031707                    0.143787   \n",
       "2                      0.005439                    0.066144   \n",
       "3                      0.154219                    0.195550   \n",
       "4                     -0.687366                   -1.139559   \n",
       "\n",
       "   sulphates*sulphates*sulphates*sulphates  \\\n",
       "0                                 0.112406   \n",
       "1                                 0.000276   \n",
       "2                                 0.000005   \n",
       "3                                 0.045179   \n",
       "4                                 0.112406   \n",
       "\n",
       "   sulphates*sulphates*sulphates*alcohol  sulphates*sulphates*alcohol*alcohol  \\\n",
       "0                               0.186354                             0.308950   \n",
       "1                              -0.001252                             0.005679   \n",
       "2                               0.000065                             0.000790   \n",
       "3                               0.057287                             0.072641   \n",
       "4                               0.186354                             0.308950   \n",
       "\n",
       "   sulphates*alcohol*alcohol*alcohol  alcohol*alcohol*alcohol*alcohol  \\\n",
       "0                           0.512198                         0.849155   \n",
       "1                          -0.025754                         0.116793   \n",
       "2                           0.009604                         0.116793   \n",
       "3                           0.092108                         0.116793   \n",
       "4                           0.512198                         0.849155   \n",
       "\n",
       "    alcohol  \n",
       "0 -0.959946  \n",
       "1 -0.584594  \n",
       "2 -0.584594  \n",
       "3 -0.584594  \n",
       "4 -0.959946  \n",
       "\n",
       "[5 rows x 1012 columns]"
      ]
     },
     "execution_count": 8,
     "metadata": {},
     "output_type": "execute_result"
    }
   ],
   "source": [
    "X.head()"
   ]
  },
  {
   "cell_type": "code",
   "execution_count": 9,
   "metadata": {
    "collapsed": false
   },
   "outputs": [],
   "source": [
    "# Normalize data\n",
    "if \"type_red\" in X.columns:\n",
    "    temp_type = X['type_red']\n",
    "    X.drop('type_red', axis=1, inplace=True)\n",
    "\n",
    "X = (X - X.mean())/X.std()\n",
    "\n",
    "if \"type_red\" in X.columns:\n",
    "    X['type_red'] = temp_type"
   ]
  },
  {
   "cell_type": "code",
   "execution_count": 10,
   "metadata": {
    "collapsed": false
   },
   "outputs": [
    {
     "data": {
      "text/html": [
       "<div>\n",
       "<table border=\"1\" class=\"dataframe\">\n",
       "  <thead>\n",
       "    <tr style=\"text-align: right;\">\n",
       "      <th></th>\n",
       "      <th>fixed_acidity</th>\n",
       "      <th>volatile_acidity</th>\n",
       "      <th>citric</th>\n",
       "      <th>sugar</th>\n",
       "      <th>chlorides</th>\n",
       "      <th>free_SD</th>\n",
       "      <th>total_SD</th>\n",
       "      <th>density</th>\n",
       "      <th>pH</th>\n",
       "      <th>sulphates</th>\n",
       "      <th>...</th>\n",
       "      <th>pH*sulphates*sulphates*sulphates</th>\n",
       "      <th>pH*sulphates*sulphates*alcohol</th>\n",
       "      <th>pH*sulphates*alcohol*alcohol</th>\n",
       "      <th>pH*alcohol*alcohol*alcohol</th>\n",
       "      <th>sulphates*sulphates*sulphates*sulphates</th>\n",
       "      <th>sulphates*sulphates*sulphates*alcohol</th>\n",
       "      <th>sulphates*sulphates*alcohol*alcohol</th>\n",
       "      <th>sulphates*alcohol*alcohol*alcohol</th>\n",
       "      <th>alcohol*alcohol*alcohol*alcohol</th>\n",
       "      <th>alcohol</th>\n",
       "    </tr>\n",
       "  </thead>\n",
       "  <tbody>\n",
       "    <tr>\n",
       "      <th>0</th>\n",
       "      <td>-0.528194</td>\n",
       "      <td>0.981974</td>\n",
       "      <td>-1.391037</td>\n",
       "      <td>-0.590653</td>\n",
       "      <td>-0.231744</td>\n",
       "      <td>-0.247049</td>\n",
       "      <td>-0.159545</td>\n",
       "      <td>0.558100</td>\n",
       "      <td>1.288240</td>\n",
       "      <td>-0.579025</td>\n",
       "      <td>...</td>\n",
       "      <td>0.068611</td>\n",
       "      <td>-0.153110</td>\n",
       "      <td>-0.245561</td>\n",
       "      <td>-0.232371</td>\n",
       "      <td>-0.077908</td>\n",
       "      <td>0.089980</td>\n",
       "      <td>-0.191705</td>\n",
       "      <td>0.049047</td>\n",
       "      <td>-0.172123</td>\n",
       "      <td>-0.959946</td>\n",
       "    </tr>\n",
       "    <tr>\n",
       "      <th>1</th>\n",
       "      <td>-0.298454</td>\n",
       "      <td>1.693658</td>\n",
       "      <td>-1.391037</td>\n",
       "      <td>0.296646</td>\n",
       "      <td>0.535000</td>\n",
       "      <td>0.992454</td>\n",
       "      <td>0.854271</td>\n",
       "      <td>0.028252</td>\n",
       "      <td>-0.719708</td>\n",
       "      <td>0.128910</td>\n",
       "      <td>...</td>\n",
       "      <td>0.072207</td>\n",
       "      <td>-0.095809</td>\n",
       "      <td>0.032496</td>\n",
       "      <td>-0.074423</td>\n",
       "      <td>-0.078509</td>\n",
       "      <td>0.079763</td>\n",
       "      <td>-0.289022</td>\n",
       "      <td>-0.087131</td>\n",
       "      <td>-0.225935</td>\n",
       "      <td>-0.584594</td>\n",
       "    </tr>\n",
       "    <tr>\n",
       "      <th>2</th>\n",
       "      <td>-0.298454</td>\n",
       "      <td>1.235222</td>\n",
       "      <td>-1.185699</td>\n",
       "      <td>-0.052744</td>\n",
       "      <td>0.342271</td>\n",
       "      <td>0.214135</td>\n",
       "      <td>0.523767</td>\n",
       "      <td>0.134222</td>\n",
       "      <td>-0.331073</td>\n",
       "      <td>-0.048074</td>\n",
       "      <td>...</td>\n",
       "      <td>0.072230</td>\n",
       "      <td>-0.096698</td>\n",
       "      <td>0.048250</td>\n",
       "      <td>-0.083979</td>\n",
       "      <td>-0.078510</td>\n",
       "      <td>0.079835</td>\n",
       "      <td>-0.290591</td>\n",
       "      <td>-0.078180</td>\n",
       "      <td>-0.225935</td>\n",
       "      <td>-0.584594</td>\n",
       "    </tr>\n",
       "    <tr>\n",
       "      <th>3</th>\n",
       "      <td>1.654339</td>\n",
       "      <td>-1.592344</td>\n",
       "      <td>1.483689</td>\n",
       "      <td>-0.590653</td>\n",
       "      <td>-0.271015</td>\n",
       "      <td>0.402953</td>\n",
       "      <td>0.684389</td>\n",
       "      <td>0.664069</td>\n",
       "      <td>-0.978798</td>\n",
       "      <td>-0.461036</td>\n",
       "      <td>...</td>\n",
       "      <td>0.073617</td>\n",
       "      <td>-0.080229</td>\n",
       "      <td>0.111345</td>\n",
       "      <td>-0.068052</td>\n",
       "      <td>-0.078268</td>\n",
       "      <td>0.082951</td>\n",
       "      <td>-0.267535</td>\n",
       "      <td>-0.057295</td>\n",
       "      <td>-0.225935</td>\n",
       "      <td>-0.584594</td>\n",
       "    </tr>\n",
       "    <tr>\n",
       "      <th>4</th>\n",
       "      <td>-0.528194</td>\n",
       "      <td>0.981974</td>\n",
       "      <td>-1.391037</td>\n",
       "      <td>-0.590653</td>\n",
       "      <td>-0.231744</td>\n",
       "      <td>-0.247049</td>\n",
       "      <td>-0.159545</td>\n",
       "      <td>0.558100</td>\n",
       "      <td>1.288240</td>\n",
       "      <td>-0.579025</td>\n",
       "      <td>...</td>\n",
       "      <td>0.068611</td>\n",
       "      <td>-0.153110</td>\n",
       "      <td>-0.245561</td>\n",
       "      <td>-0.232371</td>\n",
       "      <td>-0.077908</td>\n",
       "      <td>0.089980</td>\n",
       "      <td>-0.191705</td>\n",
       "      <td>0.049047</td>\n",
       "      <td>-0.172123</td>\n",
       "      <td>-0.959946</td>\n",
       "    </tr>\n",
       "  </tbody>\n",
       "</table>\n",
       "<p>5 rows × 1012 columns</p>\n",
       "</div>"
      ],
      "text/plain": [
       "   fixed_acidity  volatile_acidity    citric     sugar  chlorides   free_SD  \\\n",
       "0      -0.528194          0.981974 -1.391037 -0.590653  -0.231744 -0.247049   \n",
       "1      -0.298454          1.693658 -1.391037  0.296646   0.535000  0.992454   \n",
       "2      -0.298454          1.235222 -1.185699 -0.052744   0.342271  0.214135   \n",
       "3       1.654339         -1.592344  1.483689 -0.590653  -0.271015  0.402953   \n",
       "4      -0.528194          0.981974 -1.391037 -0.590653  -0.231744 -0.247049   \n",
       "\n",
       "   total_SD   density        pH  sulphates    ...     \\\n",
       "0 -0.159545  0.558100  1.288240  -0.579025    ...      \n",
       "1  0.854271  0.028252 -0.719708   0.128910    ...      \n",
       "2  0.523767  0.134222 -0.331073  -0.048074    ...      \n",
       "3  0.684389  0.664069 -0.978798  -0.461036    ...      \n",
       "4 -0.159545  0.558100  1.288240  -0.579025    ...      \n",
       "\n",
       "   pH*sulphates*sulphates*sulphates  pH*sulphates*sulphates*alcohol  \\\n",
       "0                          0.068611                       -0.153110   \n",
       "1                          0.072207                       -0.095809   \n",
       "2                          0.072230                       -0.096698   \n",
       "3                          0.073617                       -0.080229   \n",
       "4                          0.068611                       -0.153110   \n",
       "\n",
       "   pH*sulphates*alcohol*alcohol  pH*alcohol*alcohol*alcohol  \\\n",
       "0                     -0.245561                   -0.232371   \n",
       "1                      0.032496                   -0.074423   \n",
       "2                      0.048250                   -0.083979   \n",
       "3                      0.111345                   -0.068052   \n",
       "4                     -0.245561                   -0.232371   \n",
       "\n",
       "   sulphates*sulphates*sulphates*sulphates  \\\n",
       "0                                -0.077908   \n",
       "1                                -0.078509   \n",
       "2                                -0.078510   \n",
       "3                                -0.078268   \n",
       "4                                -0.077908   \n",
       "\n",
       "   sulphates*sulphates*sulphates*alcohol  sulphates*sulphates*alcohol*alcohol  \\\n",
       "0                               0.089980                            -0.191705   \n",
       "1                               0.079763                            -0.289022   \n",
       "2                               0.079835                            -0.290591   \n",
       "3                               0.082951                            -0.267535   \n",
       "4                               0.089980                            -0.191705   \n",
       "\n",
       "   sulphates*alcohol*alcohol*alcohol  alcohol*alcohol*alcohol*alcohol  \\\n",
       "0                           0.049047                        -0.172123   \n",
       "1                          -0.087131                        -0.225935   \n",
       "2                          -0.078180                        -0.225935   \n",
       "3                          -0.057295                        -0.225935   \n",
       "4                           0.049047                        -0.172123   \n",
       "\n",
       "    alcohol  \n",
       "0 -0.959946  \n",
       "1 -0.584594  \n",
       "2 -0.584594  \n",
       "3 -0.584594  \n",
       "4 -0.959946  \n",
       "\n",
       "[5 rows x 1012 columns]"
      ]
     },
     "execution_count": 10,
     "metadata": {},
     "output_type": "execute_result"
    }
   ],
   "source": [
    "X.head()"
   ]
  },
  {
   "cell_type": "code",
   "execution_count": 11,
   "metadata": {
    "collapsed": false
   },
   "outputs": [],
   "source": [
    "if pls_flag:\n",
    "    pls = PLSRegression(n_components=30, scale=False)\n",
    "    pls.fit(X, y)\n",
    "    X = pd.DataFrame(pls.transform(X))"
   ]
  },
  {
   "cell_type": "code",
   "execution_count": 12,
   "metadata": {
    "collapsed": true
   },
   "outputs": [],
   "source": [
    "data = pd.concat([X, y], axis=1)"
   ]
  },
  {
   "cell_type": "code",
   "execution_count": 13,
   "metadata": {
    "collapsed": false
   },
   "outputs": [],
   "source": [
    "train = data.sample(frac=0.8).sort_index()\n",
    "train_index = train.index\n",
    "test = data.ix[~data.index.isin(train_index)].copy(True)"
   ]
  },
  {
   "cell_type": "code",
   "execution_count": 14,
   "metadata": {
    "collapsed": false
   },
   "outputs": [
    {
     "data": {
      "text/html": [
       "<div>\n",
       "<table border=\"1\" class=\"dataframe\">\n",
       "  <thead>\n",
       "    <tr style=\"text-align: right;\">\n",
       "      <th></th>\n",
       "      <th>quality</th>\n",
       "    </tr>\n",
       "  </thead>\n",
       "  <tbody>\n",
       "    <tr>\n",
       "      <th>0</th>\n",
       "      <td>0.316375</td>\n",
       "    </tr>\n",
       "    <tr>\n",
       "      <th>2</th>\n",
       "      <td>0.281363</td>\n",
       "    </tr>\n",
       "    <tr>\n",
       "      <th>1</th>\n",
       "      <td>0.262928</td>\n",
       "    </tr>\n",
       "  </tbody>\n",
       "</table>\n",
       "</div>"
      ],
      "text/plain": [
       "    quality\n",
       "0  0.316375\n",
       "2  0.281363\n",
       "1  0.262928"
      ]
     },
     "execution_count": 14,
     "metadata": {},
     "output_type": "execute_result"
    }
   ],
   "source": [
    "correlations = pd.DataFrame(train.corr()['quality']).apply(np.abs)\n",
    "temp = correlations.sort_values(by='quality', ascending=False)[1:4]\n",
    "temp"
   ]
  },
  {
   "cell_type": "code",
   "execution_count": 15,
   "metadata": {
    "collapsed": false
   },
   "outputs": [],
   "source": [
    "train.rename(columns={temp.index[0]:'split_a',temp.index[1]:'split_b', temp.index[2]: 'split_c' }, inplace=True)\n",
    "test.rename(columns={temp.index[0]:'split_a',temp.index[1]:'split_b', temp.index[2]: 'split_c' }, inplace=True)"
   ]
  },
  {
   "cell_type": "code",
   "execution_count": 16,
   "metadata": {
    "collapsed": false
   },
   "outputs": [],
   "source": [
    "X_train, y_train = train.ix[:,:-1], train.quality\n",
    "X_test, y_test = test.ix[:,:-1], test.quality"
   ]
  },
  {
   "cell_type": "code",
   "execution_count": 17,
   "metadata": {
    "collapsed": false
   },
   "outputs": [
    {
     "data": {
      "text/plain": [
       "0.32500000000000001"
      ]
     },
     "execution_count": 17,
     "metadata": {},
     "output_type": "execute_result"
    }
   ],
   "source": [
    "clf = LogisticRegression(penalty='l2', C=10, n_jobs=-1)\n",
    "clf.fit(X_train, y_train)\n",
    "mean_absolute_error(y_test, clf.predict(X_test))"
   ]
  },
  {
   "cell_type": "code",
   "execution_count": 18,
   "metadata": {
    "collapsed": false
   },
   "outputs": [
    {
     "data": {
      "text/plain": [
       "{'split_a': -1.2475681886457817,\n",
       " 'split_b': 0.22890151186109223,\n",
       " 'split_c': -1.6616278857900315}"
      ]
     },
     "execution_count": 18,
     "metadata": {},
     "output_type": "execute_result"
    }
   ],
   "source": [
    "# Dictionary representing the gird. Each row represents a feature and the columns the partitions.\n",
    "# The shape of this matrix is a hyperparameter of our model.\n",
    "# The distance notion that we use is also a hyperparameter.\n",
    "grid = {}\n",
    "for name in ['split_'+ char for char in ['a', 'b', 'c']]: #train.columns:\n",
    "    grid[name] = []\n",
    "# For each feature we just give one separation point.\n",
    "for element in grid:\n",
    "    grid[element] = np.median(train[element])\n",
    "grid"
   ]
  },
  {
   "cell_type": "markdown",
   "metadata": {},
   "source": [
    "This generates a split of the train into $2^{12}$ pieces. That is 4096 different pieces so we don't have enough train to support this partition. We need to select a subset of the feautes."
   ]
  },
  {
   "cell_type": "code",
   "execution_count": 19,
   "metadata": {
    "collapsed": false,
    "scrolled": true
   },
   "outputs": [
    {
     "data": {
      "text/plain": [
       "\"tick_marks = [i for i in range(len(train.columns))]\\nplt.imshow(train.corr(), interpolation='nearest')\\nplt.colorbar()\\nplt.xticks(tick_marks, train.columns, rotation='vertical')\\nplt.yticks(tick_marks, train.columns)\\nplt.show()\""
      ]
     },
     "execution_count": 19,
     "metadata": {},
     "output_type": "execute_result"
    }
   ],
   "source": [
    "\"\"\"tick_marks = [i for i in range(len(train.columns))]\n",
    "plt.imshow(train.corr(), interpolation='nearest')\n",
    "plt.colorbar()\n",
    "plt.xticks(tick_marks, train.columns, rotation='vertical')\n",
    "plt.yticks(tick_marks, train.columns)\n",
    "plt.show()\"\"\""
   ]
  },
  {
   "cell_type": "markdown",
   "metadata": {},
   "source": [
    "It seems reasonable to split along alcohol, density and volatile_acidity. This way we will have 8 different partitions. This may change depending on the preprocessing of the data."
   ]
  },
  {
   "cell_type": "code",
   "execution_count": 20,
   "metadata": {
    "collapsed": false
   },
   "outputs": [],
   "source": [
    "dfs = []\n",
    "dfs.append(train[(train.split_a > grid[\"split_a\"]) \n",
    "                 & (train.split_b > grid[\"split_b\"]) \n",
    "                 & (train.split_c > grid[\"split_c\"])])\n",
    "dfs.append(train[(train.split_a > grid[\"split_a\"]) \n",
    "                 & (train.split_b > grid[\"split_b\"] ) \n",
    "                 & (train.split_c < grid[\"split_c\"])])\n",
    "dfs.append(train[(train.split_a > grid[\"split_a\"]) \n",
    "                 & (train.split_b < grid[\"split_b\"]) \n",
    "                 & (train.split_c > grid[\"split_c\"])])\n",
    "dfs.append(train[(train.split_a > grid[\"split_a\"]) \n",
    "                 & (train.split_b < grid[\"split_b\"]) \n",
    "                 & (train.split_c < grid[\"split_c\"])])\n",
    "dfs.append(train[(train.split_a < grid[\"split_a\"])\n",
    "                 & (train.split_b > grid[\"split_b\"]) \n",
    "                 & (train.split_c > grid[\"split_c\"])])\n",
    "dfs.append(train[(train.split_a < grid[\"split_a\"]) \n",
    "                 & (train.split_b > grid[\"split_b\"])\n",
    "                 & (train.split_c < grid[\"split_c\"])])\n",
    "dfs.append(train[(train.split_a < grid[\"split_a\"]) \n",
    "                 & (train.split_b < grid[\"split_b\"]) \n",
    "                 & (train.split_c > grid[\"split_c\"])])\n",
    "dfs.append(train[(train.split_a < grid[\"split_a\"]) \n",
    "                 & (train.split_b < grid[\"split_b\"]) \n",
    "                 & (train.split_c < grid[\"split_c\"])])"
   ]
  },
  {
   "cell_type": "code",
   "execution_count": 21,
   "metadata": {
    "collapsed": false
   },
   "outputs": [
    {
     "name": "stdout",
     "output_type": "stream",
     "text": [
      "(381, 31)\n",
      "(28, 31)\n",
      "(170, 31)\n",
      "(59, 31)\n",
      "(45, 31)\n",
      "(183, 31)\n",
      "(42, 31)\n",
      "(368, 31)\n"
     ]
    }
   ],
   "source": [
    "for df in dfs:\n",
    "    print(df.shape)"
   ]
  },
  {
   "cell_type": "code",
   "execution_count": 22,
   "metadata": {
    "collapsed": true
   },
   "outputs": [],
   "source": [
    "def trainLG(df):\n",
    "    X, y = df.ix[:,:-1], df['quality']\n",
    "    clf = LogisticRegression(penalty='l2', C=10, n_jobs=-1)\n",
    "    clf.fit(X, y)\n",
    "    return clf"
   ]
  },
  {
   "cell_type": "code",
   "execution_count": 23,
   "metadata": {
    "collapsed": false
   },
   "outputs": [],
   "source": [
    "clfs = []\n",
    "for df in dfs:\n",
    "    clfs.append(trainLG(df))"
   ]
  },
  {
   "cell_type": "code",
   "execution_count": 24,
   "metadata": {
    "collapsed": false
   },
   "outputs": [
    {
     "data": {
      "text/html": [
       "<div>\n",
       "<table border=\"1\" class=\"dataframe\">\n",
       "  <thead>\n",
       "    <tr style=\"text-align: right;\">\n",
       "      <th></th>\n",
       "      <th>split_a</th>\n",
       "      <th>split_c</th>\n",
       "      <th>split_b</th>\n",
       "      <th>3</th>\n",
       "      <th>4</th>\n",
       "      <th>5</th>\n",
       "      <th>6</th>\n",
       "      <th>7</th>\n",
       "      <th>8</th>\n",
       "      <th>9</th>\n",
       "      <th>...</th>\n",
       "      <th>20</th>\n",
       "      <th>21</th>\n",
       "      <th>22</th>\n",
       "      <th>23</th>\n",
       "      <th>24</th>\n",
       "      <th>25</th>\n",
       "      <th>26</th>\n",
       "      <th>27</th>\n",
       "      <th>28</th>\n",
       "      <th>29</th>\n",
       "    </tr>\n",
       "  </thead>\n",
       "  <tbody>\n",
       "    <tr>\n",
       "      <th>3</th>\n",
       "      <td>-1.555519</td>\n",
       "      <td>-1.950545</td>\n",
       "      <td>0.914636</td>\n",
       "      <td>2.567142</td>\n",
       "      <td>2.638137</td>\n",
       "      <td>0.799670</td>\n",
       "      <td>-0.859453</td>\n",
       "      <td>-0.566490</td>\n",
       "      <td>-0.615480</td>\n",
       "      <td>0.370947</td>\n",
       "      <td>...</td>\n",
       "      <td>-0.910964</td>\n",
       "      <td>-1.173742</td>\n",
       "      <td>-1.468858</td>\n",
       "      <td>-0.562162</td>\n",
       "      <td>0.333830</td>\n",
       "      <td>-0.369856</td>\n",
       "      <td>0.408950</td>\n",
       "      <td>1.255754</td>\n",
       "      <td>-0.267939</td>\n",
       "      <td>1.780407</td>\n",
       "    </tr>\n",
       "    <tr>\n",
       "      <th>6</th>\n",
       "      <td>-1.240276</td>\n",
       "      <td>-1.852070</td>\n",
       "      <td>0.538802</td>\n",
       "      <td>-0.764130</td>\n",
       "      <td>-1.350139</td>\n",
       "      <td>-1.965743</td>\n",
       "      <td>-1.356869</td>\n",
       "      <td>-0.961592</td>\n",
       "      <td>-1.743965</td>\n",
       "      <td>1.267846</td>\n",
       "      <td>...</td>\n",
       "      <td>0.275995</td>\n",
       "      <td>-0.409521</td>\n",
       "      <td>0.138785</td>\n",
       "      <td>-0.185034</td>\n",
       "      <td>-0.029905</td>\n",
       "      <td>0.529878</td>\n",
       "      <td>-0.185296</td>\n",
       "      <td>-0.661687</td>\n",
       "      <td>0.204157</td>\n",
       "      <td>-0.147077</td>\n",
       "    </tr>\n",
       "    <tr>\n",
       "      <th>8</th>\n",
       "      <td>-1.934417</td>\n",
       "      <td>-2.710839</td>\n",
       "      <td>-0.515871</td>\n",
       "      <td>-0.471903</td>\n",
       "      <td>-0.875078</td>\n",
       "      <td>-0.917104</td>\n",
       "      <td>-0.529528</td>\n",
       "      <td>-0.085305</td>\n",
       "      <td>-1.090752</td>\n",
       "      <td>0.800381</td>\n",
       "      <td>...</td>\n",
       "      <td>0.329171</td>\n",
       "      <td>0.144408</td>\n",
       "      <td>0.717904</td>\n",
       "      <td>-0.622600</td>\n",
       "      <td>-0.329310</td>\n",
       "      <td>0.585613</td>\n",
       "      <td>0.108161</td>\n",
       "      <td>0.010893</td>\n",
       "      <td>0.014209</td>\n",
       "      <td>-0.307929</td>\n",
       "    </tr>\n",
       "    <tr>\n",
       "      <th>11</th>\n",
       "      <td>-1.682804</td>\n",
       "      <td>-2.199949</td>\n",
       "      <td>-0.107956</td>\n",
       "      <td>-0.542672</td>\n",
       "      <td>-0.076116</td>\n",
       "      <td>0.832077</td>\n",
       "      <td>0.785671</td>\n",
       "      <td>0.376709</td>\n",
       "      <td>-0.566937</td>\n",
       "      <td>1.271838</td>\n",
       "      <td>...</td>\n",
       "      <td>0.543039</td>\n",
       "      <td>0.417775</td>\n",
       "      <td>0.546078</td>\n",
       "      <td>0.332745</td>\n",
       "      <td>0.105123</td>\n",
       "      <td>0.141675</td>\n",
       "      <td>0.882439</td>\n",
       "      <td>0.081475</td>\n",
       "      <td>-0.173375</td>\n",
       "      <td>0.213253</td>\n",
       "    </tr>\n",
       "    <tr>\n",
       "      <th>12</th>\n",
       "      <td>1.600006</td>\n",
       "      <td>0.367939</td>\n",
       "      <td>-0.970042</td>\n",
       "      <td>-1.433279</td>\n",
       "      <td>-0.481430</td>\n",
       "      <td>-2.585388</td>\n",
       "      <td>-2.699047</td>\n",
       "      <td>-2.634464</td>\n",
       "      <td>0.343147</td>\n",
       "      <td>-1.996417</td>\n",
       "      <td>...</td>\n",
       "      <td>-0.275427</td>\n",
       "      <td>-0.756904</td>\n",
       "      <td>-0.150675</td>\n",
       "      <td>-0.811828</td>\n",
       "      <td>-1.152741</td>\n",
       "      <td>0.811543</td>\n",
       "      <td>0.744583</td>\n",
       "      <td>-0.155386</td>\n",
       "      <td>-0.802500</td>\n",
       "      <td>0.708875</td>\n",
       "    </tr>\n",
       "  </tbody>\n",
       "</table>\n",
       "<p>5 rows × 30 columns</p>\n",
       "</div>"
      ],
      "text/plain": [
       "     split_a   split_c   split_b         3         4         5         6  \\\n",
       "3  -1.555519 -1.950545  0.914636  2.567142  2.638137  0.799670 -0.859453   \n",
       "6  -1.240276 -1.852070  0.538802 -0.764130 -1.350139 -1.965743 -1.356869   \n",
       "8  -1.934417 -2.710839 -0.515871 -0.471903 -0.875078 -0.917104 -0.529528   \n",
       "11 -1.682804 -2.199949 -0.107956 -0.542672 -0.076116  0.832077  0.785671   \n",
       "12  1.600006  0.367939 -0.970042 -1.433279 -0.481430 -2.585388 -2.699047   \n",
       "\n",
       "           7         8         9    ...           20        21        22  \\\n",
       "3  -0.566490 -0.615480  0.370947    ...    -0.910964 -1.173742 -1.468858   \n",
       "6  -0.961592 -1.743965  1.267846    ...     0.275995 -0.409521  0.138785   \n",
       "8  -0.085305 -1.090752  0.800381    ...     0.329171  0.144408  0.717904   \n",
       "11  0.376709 -0.566937  1.271838    ...     0.543039  0.417775  0.546078   \n",
       "12 -2.634464  0.343147 -1.996417    ...    -0.275427 -0.756904 -0.150675   \n",
       "\n",
       "          23        24        25        26        27        28        29  \n",
       "3  -0.562162  0.333830 -0.369856  0.408950  1.255754 -0.267939  1.780407  \n",
       "6  -0.185034 -0.029905  0.529878 -0.185296 -0.661687  0.204157 -0.147077  \n",
       "8  -0.622600 -0.329310  0.585613  0.108161  0.010893  0.014209 -0.307929  \n",
       "11  0.332745  0.105123  0.141675  0.882439  0.081475 -0.173375  0.213253  \n",
       "12 -0.811828 -1.152741  0.811543  0.744583 -0.155386 -0.802500  0.708875  \n",
       "\n",
       "[5 rows x 30 columns]"
      ]
     },
     "execution_count": 24,
     "metadata": {},
     "output_type": "execute_result"
    }
   ],
   "source": [
    "X_test.head()"
   ]
  },
  {
   "cell_type": "code",
   "execution_count": 25,
   "metadata": {
    "collapsed": false
   },
   "outputs": [],
   "source": [
    "def getPiece(row): \n",
    "    if row.split_a > grid[\"split_a\"]:\n",
    "        if row.split_b > grid[\"split_b\"]:\n",
    "            if row.split_c > grid[\"split_c\"]:\n",
    "                return 0\n",
    "            else:\n",
    "                return 1\n",
    "        else:\n",
    "            if row.split_c > grid[\"split_c\"]:\n",
    "                return 2\n",
    "            else:\n",
    "                return 3\n",
    "    else:\n",
    "        if row.split_b > grid[\"split_b\"]:\n",
    "            if row.split_c > grid[\"split_c\"]:\n",
    "                return 4\n",
    "            else:\n",
    "                return 5\n",
    "        else:\n",
    "            if row.split_c > grid[\"split_c\"]:\n",
    "                return 6\n",
    "            else:\n",
    "                return 7\n",
    "        \n",
    "def generatePrediction(df): # predicts using the classifier from the region\n",
    "    y_pred = []\n",
    "    for idx in df.index:\n",
    "        obs  = df.loc[idx]\n",
    "        temp = getPiece(obs)\n",
    "        jdx = clfs[temp].predict(obs.values.reshape(1,-1))\n",
    "        y_pred.append(jdx[0])\n",
    "    return pd.Series(y_pred)"
   ]
  },
  {
   "cell_type": "markdown",
   "metadata": {},
   "source": [
    "## Results"
   ]
  },
  {
   "cell_type": "code",
   "execution_count": 26,
   "metadata": {
    "collapsed": false
   },
   "outputs": [
    {
     "name": "stdout",
     "output_type": "stream",
     "text": [
      "MAE = 0.378125\n",
      "Acc. = 0.653125\n"
     ]
    }
   ],
   "source": [
    "y_pred = generatePrediction(X_test)\n",
    "print(\"MAE =\", mean_absolute_error(y_test, y_pred))\n",
    "print(\"Acc. =\", accuracy_score(y_test, y_pred))"
   ]
  },
  {
   "cell_type": "code",
   "execution_count": 27,
   "metadata": {
    "collapsed": false
   },
   "outputs": [
    {
     "data": {
      "text/plain": [
       "array([[  0,   0,   1,   0,   0,   0],\n",
       "       [  1,   0,  11,   1,   0,   0],\n",
       "       [  0,   2, 101,  29,   1,   0],\n",
       "       [  0,   1,  30,  88,   8,   4],\n",
       "       [  0,   0,   1,  18,  20,   1],\n",
       "       [  0,   0,   0,   1,   1,   0]])"
      ]
     },
     "execution_count": 27,
     "metadata": {},
     "output_type": "execute_result"
    }
   ],
   "source": [
    "confusion_matrix(y_test, y_pred)"
   ]
  },
  {
   "cell_type": "code",
   "execution_count": 28,
   "metadata": {
    "collapsed": false
   },
   "outputs": [
    {
     "name": "stdout",
     "output_type": "stream",
     "text": [
      "5    144\n",
      "6    137\n",
      "7     30\n",
      "8      5\n",
      "4      3\n",
      "3      1\n",
      "dtype: int64\n"
     ]
    }
   ],
   "source": [
    "print(y_pred.value_counts())"
   ]
  },
  {
   "cell_type": "code",
   "execution_count": 29,
   "metadata": {
    "collapsed": false
   },
   "outputs": [
    {
     "name": "stdout",
     "output_type": "stream",
     "text": [
      "5    133\n",
      "6    131\n",
      "7     40\n",
      "4     13\n",
      "8      2\n",
      "3      1\n",
      "Name: quality, dtype: int64\n"
     ]
    }
   ],
   "source": [
    "print(y_test.value_counts())"
   ]
  },
  {
   "cell_type": "markdown",
   "metadata": {},
   "source": [
    "## Using Ensemble of all the grid pieces"
   ]
  },
  {
   "cell_type": "code",
   "execution_count": 30,
   "metadata": {
    "collapsed": false
   },
   "outputs": [],
   "source": [
    "X_train, y_train = train.ix[:,:-1], train['quality']"
   ]
  },
  {
   "cell_type": "code",
   "execution_count": 31,
   "metadata": {
    "collapsed": false
   },
   "outputs": [
    {
     "data": {
      "text/html": [
       "<div>\n",
       "<table border=\"1\" class=\"dataframe\">\n",
       "  <thead>\n",
       "    <tr style=\"text-align: right;\">\n",
       "      <th></th>\n",
       "      <th>split_a</th>\n",
       "      <th>split_c</th>\n",
       "      <th>split_b</th>\n",
       "      <th>3</th>\n",
       "      <th>4</th>\n",
       "      <th>5</th>\n",
       "      <th>6</th>\n",
       "      <th>7</th>\n",
       "      <th>8</th>\n",
       "      <th>9</th>\n",
       "      <th>...</th>\n",
       "      <th>20</th>\n",
       "      <th>21</th>\n",
       "      <th>22</th>\n",
       "      <th>23</th>\n",
       "      <th>24</th>\n",
       "      <th>25</th>\n",
       "      <th>26</th>\n",
       "      <th>27</th>\n",
       "      <th>28</th>\n",
       "      <th>29</th>\n",
       "    </tr>\n",
       "  </thead>\n",
       "  <tbody>\n",
       "    <tr>\n",
       "      <th>0</th>\n",
       "      <td>-1.611698</td>\n",
       "      <td>-2.497757</td>\n",
       "      <td>-0.469312</td>\n",
       "      <td>-0.530820</td>\n",
       "      <td>-1.612111</td>\n",
       "      <td>-1.883671</td>\n",
       "      <td>-1.550030</td>\n",
       "      <td>-1.108409</td>\n",
       "      <td>-2.409026</td>\n",
       "      <td>1.977169</td>\n",
       "      <td>...</td>\n",
       "      <td>0.737246</td>\n",
       "      <td>0.060633</td>\n",
       "      <td>0.715929</td>\n",
       "      <td>-0.782720</td>\n",
       "      <td>-0.695453</td>\n",
       "      <td>0.867302</td>\n",
       "      <td>-0.444191</td>\n",
       "      <td>-0.422790</td>\n",
       "      <td>-0.298395</td>\n",
       "      <td>0.021376</td>\n",
       "    </tr>\n",
       "    <tr>\n",
       "      <th>1</th>\n",
       "      <td>-0.482361</td>\n",
       "      <td>-0.696739</td>\n",
       "      <td>1.403763</td>\n",
       "      <td>-2.586344</td>\n",
       "      <td>-3.579486</td>\n",
       "      <td>-4.026166</td>\n",
       "      <td>-3.829159</td>\n",
       "      <td>-2.871945</td>\n",
       "      <td>-3.524733</td>\n",
       "      <td>1.909679</td>\n",
       "      <td>...</td>\n",
       "      <td>-0.933465</td>\n",
       "      <td>-1.035477</td>\n",
       "      <td>-0.932602</td>\n",
       "      <td>0.747063</td>\n",
       "      <td>-0.060618</td>\n",
       "      <td>-1.311487</td>\n",
       "      <td>1.234117</td>\n",
       "      <td>0.729584</td>\n",
       "      <td>-1.210805</td>\n",
       "      <td>0.243857</td>\n",
       "    </tr>\n",
       "    <tr>\n",
       "      <th>2</th>\n",
       "      <td>-1.392553</td>\n",
       "      <td>-2.003326</td>\n",
       "      <td>0.446310</td>\n",
       "      <td>-0.927503</td>\n",
       "      <td>-1.313883</td>\n",
       "      <td>-1.888500</td>\n",
       "      <td>-1.640051</td>\n",
       "      <td>-1.167925</td>\n",
       "      <td>-2.011349</td>\n",
       "      <td>1.154108</td>\n",
       "      <td>...</td>\n",
       "      <td>0.138882</td>\n",
       "      <td>-0.361869</td>\n",
       "      <td>-0.155358</td>\n",
       "      <td>0.368744</td>\n",
       "      <td>0.326022</td>\n",
       "      <td>-0.199981</td>\n",
       "      <td>0.570912</td>\n",
       "      <td>0.143388</td>\n",
       "      <td>-0.591729</td>\n",
       "      <td>0.113832</td>\n",
       "    </tr>\n",
       "    <tr>\n",
       "      <th>4</th>\n",
       "      <td>-1.611698</td>\n",
       "      <td>-2.497757</td>\n",
       "      <td>-0.469312</td>\n",
       "      <td>-0.530820</td>\n",
       "      <td>-1.612111</td>\n",
       "      <td>-1.883671</td>\n",
       "      <td>-1.550030</td>\n",
       "      <td>-1.108409</td>\n",
       "      <td>-2.409026</td>\n",
       "      <td>1.977169</td>\n",
       "      <td>...</td>\n",
       "      <td>0.737246</td>\n",
       "      <td>0.060633</td>\n",
       "      <td>0.715929</td>\n",
       "      <td>-0.782720</td>\n",
       "      <td>-0.695453</td>\n",
       "      <td>0.867302</td>\n",
       "      <td>-0.444191</td>\n",
       "      <td>-0.422790</td>\n",
       "      <td>-0.298395</td>\n",
       "      <td>0.021376</td>\n",
       "    </tr>\n",
       "    <tr>\n",
       "      <th>5</th>\n",
       "      <td>-1.306524</td>\n",
       "      <td>-2.027766</td>\n",
       "      <td>0.085938</td>\n",
       "      <td>-0.667094</td>\n",
       "      <td>-1.619920</td>\n",
       "      <td>-2.119068</td>\n",
       "      <td>-1.584720</td>\n",
       "      <td>-1.279085</td>\n",
       "      <td>-2.349667</td>\n",
       "      <td>1.925010</td>\n",
       "      <td>...</td>\n",
       "      <td>1.080161</td>\n",
       "      <td>0.403221</td>\n",
       "      <td>0.967208</td>\n",
       "      <td>-0.929893</td>\n",
       "      <td>-0.760095</td>\n",
       "      <td>0.976192</td>\n",
       "      <td>-0.696938</td>\n",
       "      <td>-0.630834</td>\n",
       "      <td>-0.085295</td>\n",
       "      <td>-0.087132</td>\n",
       "    </tr>\n",
       "  </tbody>\n",
       "</table>\n",
       "<p>5 rows × 30 columns</p>\n",
       "</div>"
      ],
      "text/plain": [
       "    split_a   split_c   split_b         3         4         5         6  \\\n",
       "0 -1.611698 -2.497757 -0.469312 -0.530820 -1.612111 -1.883671 -1.550030   \n",
       "1 -0.482361 -0.696739  1.403763 -2.586344 -3.579486 -4.026166 -3.829159   \n",
       "2 -1.392553 -2.003326  0.446310 -0.927503 -1.313883 -1.888500 -1.640051   \n",
       "4 -1.611698 -2.497757 -0.469312 -0.530820 -1.612111 -1.883671 -1.550030   \n",
       "5 -1.306524 -2.027766  0.085938 -0.667094 -1.619920 -2.119068 -1.584720   \n",
       "\n",
       "          7         8         9    ...           20        21        22  \\\n",
       "0 -1.108409 -2.409026  1.977169    ...     0.737246  0.060633  0.715929   \n",
       "1 -2.871945 -3.524733  1.909679    ...    -0.933465 -1.035477 -0.932602   \n",
       "2 -1.167925 -2.011349  1.154108    ...     0.138882 -0.361869 -0.155358   \n",
       "4 -1.108409 -2.409026  1.977169    ...     0.737246  0.060633  0.715929   \n",
       "5 -1.279085 -2.349667  1.925010    ...     1.080161  0.403221  0.967208   \n",
       "\n",
       "         23        24        25        26        27        28        29  \n",
       "0 -0.782720 -0.695453  0.867302 -0.444191 -0.422790 -0.298395  0.021376  \n",
       "1  0.747063 -0.060618 -1.311487  1.234117  0.729584 -1.210805  0.243857  \n",
       "2  0.368744  0.326022 -0.199981  0.570912  0.143388 -0.591729  0.113832  \n",
       "4 -0.782720 -0.695453  0.867302 -0.444191 -0.422790 -0.298395  0.021376  \n",
       "5 -0.929893 -0.760095  0.976192 -0.696938 -0.630834 -0.085295 -0.087132  \n",
       "\n",
       "[5 rows x 30 columns]"
      ]
     },
     "execution_count": 31,
     "metadata": {},
     "output_type": "execute_result"
    }
   ],
   "source": [
    "X_train.head()"
   ]
  },
  {
   "cell_type": "code",
   "execution_count": 32,
   "metadata": {
    "collapsed": true
   },
   "outputs": [],
   "source": [
    "p = X_train.shape[1]"
   ]
  },
  {
   "cell_type": "code",
   "execution_count": 33,
   "metadata": {
    "collapsed": false
   },
   "outputs": [
    {
     "data": {
      "text/html": [
       "<div>\n",
       "<table border=\"1\" class=\"dataframe\">\n",
       "  <thead>\n",
       "    <tr style=\"text-align: right;\">\n",
       "      <th></th>\n",
       "      <th>split_a</th>\n",
       "      <th>split_c</th>\n",
       "      <th>split_b</th>\n",
       "      <th>3</th>\n",
       "      <th>4</th>\n",
       "      <th>5</th>\n",
       "      <th>6</th>\n",
       "      <th>7</th>\n",
       "      <th>8</th>\n",
       "      <th>9</th>\n",
       "      <th>...</th>\n",
       "      <th>20</th>\n",
       "      <th>21</th>\n",
       "      <th>22</th>\n",
       "      <th>23</th>\n",
       "      <th>24</th>\n",
       "      <th>25</th>\n",
       "      <th>26</th>\n",
       "      <th>27</th>\n",
       "      <th>28</th>\n",
       "      <th>29</th>\n",
       "    </tr>\n",
       "  </thead>\n",
       "  <tbody>\n",
       "    <tr>\n",
       "      <th>3</th>\n",
       "      <td>-1.555519</td>\n",
       "      <td>-1.950545</td>\n",
       "      <td>0.914636</td>\n",
       "      <td>2.567142</td>\n",
       "      <td>2.638137</td>\n",
       "      <td>0.799670</td>\n",
       "      <td>-0.859453</td>\n",
       "      <td>-0.566490</td>\n",
       "      <td>-0.615480</td>\n",
       "      <td>0.370947</td>\n",
       "      <td>...</td>\n",
       "      <td>-0.910964</td>\n",
       "      <td>-1.173742</td>\n",
       "      <td>-1.468858</td>\n",
       "      <td>-0.562162</td>\n",
       "      <td>0.333830</td>\n",
       "      <td>-0.369856</td>\n",
       "      <td>0.408950</td>\n",
       "      <td>1.255754</td>\n",
       "      <td>-0.267939</td>\n",
       "      <td>1.780407</td>\n",
       "    </tr>\n",
       "    <tr>\n",
       "      <th>6</th>\n",
       "      <td>-1.240276</td>\n",
       "      <td>-1.852070</td>\n",
       "      <td>0.538802</td>\n",
       "      <td>-0.764130</td>\n",
       "      <td>-1.350139</td>\n",
       "      <td>-1.965743</td>\n",
       "      <td>-1.356869</td>\n",
       "      <td>-0.961592</td>\n",
       "      <td>-1.743965</td>\n",
       "      <td>1.267846</td>\n",
       "      <td>...</td>\n",
       "      <td>0.275995</td>\n",
       "      <td>-0.409521</td>\n",
       "      <td>0.138785</td>\n",
       "      <td>-0.185034</td>\n",
       "      <td>-0.029905</td>\n",
       "      <td>0.529878</td>\n",
       "      <td>-0.185296</td>\n",
       "      <td>-0.661687</td>\n",
       "      <td>0.204157</td>\n",
       "      <td>-0.147077</td>\n",
       "    </tr>\n",
       "    <tr>\n",
       "      <th>8</th>\n",
       "      <td>-1.934417</td>\n",
       "      <td>-2.710839</td>\n",
       "      <td>-0.515871</td>\n",
       "      <td>-0.471903</td>\n",
       "      <td>-0.875078</td>\n",
       "      <td>-0.917104</td>\n",
       "      <td>-0.529528</td>\n",
       "      <td>-0.085305</td>\n",
       "      <td>-1.090752</td>\n",
       "      <td>0.800381</td>\n",
       "      <td>...</td>\n",
       "      <td>0.329171</td>\n",
       "      <td>0.144408</td>\n",
       "      <td>0.717904</td>\n",
       "      <td>-0.622600</td>\n",
       "      <td>-0.329310</td>\n",
       "      <td>0.585613</td>\n",
       "      <td>0.108161</td>\n",
       "      <td>0.010893</td>\n",
       "      <td>0.014209</td>\n",
       "      <td>-0.307929</td>\n",
       "    </tr>\n",
       "    <tr>\n",
       "      <th>11</th>\n",
       "      <td>-1.682804</td>\n",
       "      <td>-2.199949</td>\n",
       "      <td>-0.107956</td>\n",
       "      <td>-0.542672</td>\n",
       "      <td>-0.076116</td>\n",
       "      <td>0.832077</td>\n",
       "      <td>0.785671</td>\n",
       "      <td>0.376709</td>\n",
       "      <td>-0.566937</td>\n",
       "      <td>1.271838</td>\n",
       "      <td>...</td>\n",
       "      <td>0.543039</td>\n",
       "      <td>0.417775</td>\n",
       "      <td>0.546078</td>\n",
       "      <td>0.332745</td>\n",
       "      <td>0.105123</td>\n",
       "      <td>0.141675</td>\n",
       "      <td>0.882439</td>\n",
       "      <td>0.081475</td>\n",
       "      <td>-0.173375</td>\n",
       "      <td>0.213253</td>\n",
       "    </tr>\n",
       "    <tr>\n",
       "      <th>12</th>\n",
       "      <td>1.600006</td>\n",
       "      <td>0.367939</td>\n",
       "      <td>-0.970042</td>\n",
       "      <td>-1.433279</td>\n",
       "      <td>-0.481430</td>\n",
       "      <td>-2.585388</td>\n",
       "      <td>-2.699047</td>\n",
       "      <td>-2.634464</td>\n",
       "      <td>0.343147</td>\n",
       "      <td>-1.996417</td>\n",
       "      <td>...</td>\n",
       "      <td>-0.275427</td>\n",
       "      <td>-0.756904</td>\n",
       "      <td>-0.150675</td>\n",
       "      <td>-0.811828</td>\n",
       "      <td>-1.152741</td>\n",
       "      <td>0.811543</td>\n",
       "      <td>0.744583</td>\n",
       "      <td>-0.155386</td>\n",
       "      <td>-0.802500</td>\n",
       "      <td>0.708875</td>\n",
       "    </tr>\n",
       "  </tbody>\n",
       "</table>\n",
       "<p>5 rows × 30 columns</p>\n",
       "</div>"
      ],
      "text/plain": [
       "     split_a   split_c   split_b         3         4         5         6  \\\n",
       "3  -1.555519 -1.950545  0.914636  2.567142  2.638137  0.799670 -0.859453   \n",
       "6  -1.240276 -1.852070  0.538802 -0.764130 -1.350139 -1.965743 -1.356869   \n",
       "8  -1.934417 -2.710839 -0.515871 -0.471903 -0.875078 -0.917104 -0.529528   \n",
       "11 -1.682804 -2.199949 -0.107956 -0.542672 -0.076116  0.832077  0.785671   \n",
       "12  1.600006  0.367939 -0.970042 -1.433279 -0.481430 -2.585388 -2.699047   \n",
       "\n",
       "           7         8         9    ...           20        21        22  \\\n",
       "3  -0.566490 -0.615480  0.370947    ...    -0.910964 -1.173742 -1.468858   \n",
       "6  -0.961592 -1.743965  1.267846    ...     0.275995 -0.409521  0.138785   \n",
       "8  -0.085305 -1.090752  0.800381    ...     0.329171  0.144408  0.717904   \n",
       "11  0.376709 -0.566937  1.271838    ...     0.543039  0.417775  0.546078   \n",
       "12 -2.634464  0.343147 -1.996417    ...    -0.275427 -0.756904 -0.150675   \n",
       "\n",
       "          23        24        25        26        27        28        29  \n",
       "3  -0.562162  0.333830 -0.369856  0.408950  1.255754 -0.267939  1.780407  \n",
       "6  -0.185034 -0.029905  0.529878 -0.185296 -0.661687  0.204157 -0.147077  \n",
       "8  -0.622600 -0.329310  0.585613  0.108161  0.010893  0.014209 -0.307929  \n",
       "11  0.332745  0.105123  0.141675  0.882439  0.081475 -0.173375  0.213253  \n",
       "12 -0.811828 -1.152741  0.811543  0.744583 -0.155386 -0.802500  0.708875  \n",
       "\n",
       "[5 rows x 30 columns]"
      ]
     },
     "execution_count": 33,
     "metadata": {},
     "output_type": "execute_result"
    }
   ],
   "source": [
    "X_test.head()"
   ]
  },
  {
   "cell_type": "code",
   "execution_count": 34,
   "metadata": {
    "collapsed": false
   },
   "outputs": [],
   "source": [
    "# Expand add predictions from the segmented classifiers to X_train and X_test\n",
    "for idx, clf in enumerate(clfs):\n",
    "    temp = clf.predict(X_train.ix[:,:p])\n",
    "    X_train.insert(X_train.shape[1], 'clf_' + str(idx), temp)\n",
    "    temp = clf.predict(X_test.ix[:,:p])\n",
    "    X_test.insert(X_test.shape[1], 'clf_' + str(idx), temp)"
   ]
  },
  {
   "cell_type": "code",
   "execution_count": 35,
   "metadata": {
    "collapsed": false
   },
   "outputs": [
    {
     "data": {
      "text/plain": [
       "LogisticRegression(C=10, class_weight=None, dual=False, fit_intercept=True,\n",
       "          intercept_scaling=1, max_iter=100, multi_class='ovr', n_jobs=-1,\n",
       "          penalty='l2', random_state=None, solver='liblinear', tol=0.0001,\n",
       "          verbose=0, warm_start=False)"
      ]
     },
     "execution_count": 35,
     "metadata": {},
     "output_type": "execute_result"
    }
   ],
   "source": [
    "clf = LogisticRegression(penalty='l2', C=10, n_jobs=-1)\n",
    "clf.fit(X_train, y_train)"
   ]
  },
  {
   "cell_type": "code",
   "execution_count": 36,
   "metadata": {
    "collapsed": false
   },
   "outputs": [
    {
     "name": "stdout",
     "output_type": "stream",
     "text": [
      "MAE = 0.3125\n",
      "Acc. = 0.7\n"
     ]
    }
   ],
   "source": [
    "y_pred = clf.predict(X_test)\n",
    "print(\"MAE =\", mean_absolute_error(y_test, y_pred))\n",
    "print(\"Acc. =\", accuracy_score(y_test, y_pred))"
   ]
  },
  {
   "cell_type": "code",
   "execution_count": 37,
   "metadata": {
    "collapsed": false
   },
   "outputs": [
    {
     "data": {
      "text/plain": [
       "array([[  0,   0,   1,   0,   0,   0],\n",
       "       [  0,   1,  11,   1,   0,   0],\n",
       "       [  0,   0, 109,  24,   0,   0],\n",
       "       [  0,   0,  30,  97,   4,   0],\n",
       "       [  0,   0,   1,  21,  17,   1],\n",
       "       [  0,   0,   0,   1,   1,   0]])"
      ]
     },
     "execution_count": 37,
     "metadata": {},
     "output_type": "execute_result"
    }
   ],
   "source": [
    "confusion_matrix(y_test, y_pred)"
   ]
  },
  {
   "cell_type": "code",
   "execution_count": 38,
   "metadata": {
    "collapsed": false
   },
   "outputs": [
    {
     "name": "stdout",
     "output_type": "stream",
     "text": [
      "5    152\n",
      "6    144\n",
      "7     22\n",
      "8      1\n",
      "4      1\n",
      "dtype: int64\n"
     ]
    }
   ],
   "source": [
    "print(pd.Series(y_pred).value_counts())"
   ]
  },
  {
   "cell_type": "code",
   "execution_count": 39,
   "metadata": {
    "collapsed": false
   },
   "outputs": [
    {
     "name": "stdout",
     "output_type": "stream",
     "text": [
      "5    133\n",
      "6    131\n",
      "7     40\n",
      "4     13\n",
      "8      2\n",
      "3      1\n",
      "Name: quality, dtype: int64\n"
     ]
    }
   ],
   "source": [
    "print(y_test.value_counts())"
   ]
  }
 ],
 "metadata": {
  "kernelspec": {
   "display_name": "Python 3",
   "language": "python",
   "name": "python3"
  },
  "language_info": {
   "codemirror_mode": {
    "name": "ipython",
    "version": 3
   },
   "file_extension": ".py",
   "mimetype": "text/x-python",
   "name": "python",
   "nbconvert_exporter": "python",
   "pygments_lexer": "ipython3",
   "version": "3.6.0"
  }
 },
 "nbformat": 4,
 "nbformat_minor": 2
}
